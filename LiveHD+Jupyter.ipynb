{
 "cells": [
  {
   "cell_type": "markdown",
   "id": "bcd6668e",
   "metadata": {},
   "source": [
    "# LiveHD `lgshell` in Jupyter\n",
    "\n",
    "## Background\n",
    "\n",
    "Running a bash subshell within Jupyter Notebook isn't an easy task. \n",
    "\n",
    "1. Jupyter is a software IDE that has limited access to OS level commands. There are ways to run bash commands with either Jupyter inline bash (!) or Python `os` library. However, they all have drawbacks.\n",
    "\n",
    "\n",
    "2. Building a standalone Unix virtual environment inside this Jupyter kernel is costly. There is no method currently available that runs any terminal inside a Jupyter notebook, except one called \"notebook-xterm\" that is already deprecated. Jupyter has a websocket-based [terminal](https://github.com/jupyter/terminado) system, but the functions are limited and its compatibility with Jupyter notebook is minimal. *\"In general, you're better off using a separate terminal program instead of the one in Jupyter.\"* [source](https://twiki.nevis.columbia.edu/twiki/bin/view/Main/JupyterTerminal)\n",
    "\n",
    "\n",
    "3. Interactive widgets, which users can freely control, must be implemented as an web interface with e.g. HTML. However, it must also have backend server running behind supporting the widget interface.\n",
    "\n",
    "\n",
    "The working and efficient method here is called \"magics\" in Jupyter (% = single-line, %% = multi-line), which initiates a bash code block with `%%bash`. However, calling bash commands in Jupyter code blocks mandates that the shell must not prompt any input after executing. They must complete in one turn. Otherwise, the program with prompt for user response, and since there is no input box available per Jupyter Notebook design, the program will lapse indefinitely. \n",
    "\n",
    "When users need to send multiple commands into our `lgshell`, the only option is to send **ALL the commands** in **one single bash code block**, as shown in examples below. Fortunately, re-running a bash code block requires minimal effort, so the drawbacks of this method are negligible.\n",
    "\n",
    "*Note: Anaconda Interactive library will not work since they will instantly send the updated input to the shell, causing invalid inputs.*"
   ]
  },
  {
   "cell_type": "markdown",
   "id": "ed8e0198",
   "metadata": {},
   "source": [
    "## Examples of using Jupyter \"magics\"\n",
    "### A simple example of running Unix bash commands.\n",
    "`%%bash` must be positioned in the first line of a code block."
   ]
  },
  {
   "cell_type": "code",
   "execution_count": 1,
   "id": "296e2a4e",
   "metadata": {},
   "outputs": [
    {
     "name": "stdout",
     "output_type": "stream",
     "text": [
      "hello world!\n",
      "i can run multiple lines with %%bash.\n"
     ]
    }
   ],
   "source": [
    "%%bash\n",
    "echo \"hello world!\"\n",
    "echo \"i can run multiple lines with %%bash.\""
   ]
  },
  {
   "cell_type": "markdown",
   "id": "6ba53e43",
   "metadata": {},
   "source": [
    "### Initiates `lgshell` without feeding any subsequent commands, the `lgshell` automatically quits after the last command without any input prompt."
   ]
  },
  {
   "cell_type": "code",
   "execution_count": 2,
   "id": "488f51b1",
   "metadata": {},
   "outputs": [
    {
     "name": "stdout",
     "output_type": "stream",
     "text": [
      "Welcome to livehd!\n",
      "Press 'tab' to view autocompletions\n",
      "Type 'help' for help\n",
      "Type 'quit' or 'exit' to exit\n",
      "\n"
     ]
    },
    {
     "name": "stderr",
     "output_type": "stream",
     "text": [
      "See you soon!\n"
     ]
    }
   ],
   "source": [
    "%%bash\n",
    "./../bazel-bin/main/lgshell"
   ]
  },
  {
   "cell_type": "markdown",
   "id": "e6118a8b",
   "metadata": {},
   "source": [
    "### Initiates `lgshell` and feed all commands in the same code block.\n",
    "Here, the leading `livehd>` in `lgshell` will not show. Nevertheless, this is a successful run."
   ]
  },
  {
   "cell_type": "code",
   "execution_count": 3,
   "id": "a4b6df09",
   "metadata": {},
   "outputs": [
    {
     "name": "stdout",
     "output_type": "stream",
     "text": [
      "Welcome to livehd!\n",
      "Press 'tab' to view autocompletions\n",
      "Type 'help' for help\n",
      "Type 'quit' or 'exit' to exit\n",
      "\n",
      "inou.yosys.tolg files:./../inou/yosys/tests/simple_add.v\n",
      "path:/home/anthony/.cache/bazel/_bazel_anthony/d1e72016917c6098f9fa06c5eaf4980f/execroot/livehd/bazel-out/k8-fastbuild/bin/main\n",
      "yosys cmd:# default yosys2lg script inou_yosys_read.ys\n",
      "yosys cmd:read_verilog -sv -nomeminit ./../inou/yosys/tests/simple_add.v\n",
      "yosys cmd:# single file, no hierarchy needed\n",
      "yosys cmd:proc\n",
      "yosys cmd:opt -fast\n",
      "yosys cmd:pmuxtree\n",
      "yosys cmd:memory_dff\n",
      "yosys cmd:memory_share\n",
      "yosys cmd:memory_collect\n",
      "yosys cmd:#flatten\n",
      "yosys cmd:#opt\n",
      "yosys cmd:write_ilang pp.il\n",
      "yosys cmd:write_verilog pp.v\n",
      "yosys cmd:yosys2lg -path lgdb\n",
      "inou.yosys.tolg module:simple_add\n",
      "lgraph.open name:simple_add |> inou.graphviz.from\n"
     ]
    },
    {
     "name": "stderr",
     "output_type": "stream",
     "text": [
      "See you soon!\n"
     ]
    }
   ],
   "source": [
    "%%bash\n",
    "./../bazel-bin/main/lgshell\n",
    "inou.yosys.tolg files:./../inou/yosys/tests/simple_add.v\n",
    "lgraph.open name:simple_add |> inou.graphviz.from\n",
    "exit"
   ]
  },
  {
   "cell_type": "markdown",
   "id": "6ed40acc",
   "metadata": {},
   "source": [
    "**Now, the Graphviz graph of Verilog `simple_add.v` has been saved to `simple_add.dot` in the running folder of this notebook.**"
   ]
  },
  {
   "cell_type": "markdown",
   "id": "f1c87b45",
   "metadata": {},
   "source": [
    "Alternatively, we can perform the same task with Pyrope .prp files. This example generates `simple_tuple.dot`."
   ]
  },
  {
   "cell_type": "code",
   "execution_count": 4,
   "id": "f32cd02f",
   "metadata": {},
   "outputs": [
    {
     "name": "stdout",
     "output_type": "stream",
     "text": [
      "Welcome to livehd!\n",
      "Press 'tab' to view autocompletions\n",
      "Type 'help' for help\n",
      "Type 'quit' or 'exit' to exit\n",
      "\n",
      "inou.pyrope files:../inou/pyrope/tests/simple_tuple.prp |> pass.lnast_tolg |> inou.graphviz.from\n",
      "\n",
      "Parsing SUCCESSFUL!\n"
     ]
    },
    {
     "name": "stderr",
     "output_type": "stream",
     "text": [
      "See you soon!\n"
     ]
    }
   ],
   "source": [
    "%%bash\n",
    "./../bazel-bin/main/lgshell\n",
    "inou.pyrope files:../inou/pyrope/tests/simple_tuple.prp |> pass.lnast_tolg |> inou.graphviz.from\n",
    "exit"
   ]
  },
  {
   "cell_type": "markdown",
   "id": "c331e6f9",
   "metadata": {},
   "source": [
    "Or we can also perform the task on hierarchical Pyrope file. This example generates `hier_tuple_io.dot`. \n",
    "\n",
    "**warning:** `inou.graphviz.fromlg.hierachy` *for some reason does not work in this case*"
   ]
  },
  {
   "cell_type": "code",
   "execution_count": 5,
   "id": "48bcfdb5",
   "metadata": {},
   "outputs": [
    {
     "name": "stdout",
     "output_type": "stream",
     "text": [
      "Welcome to livehd!\n",
      "Press 'tab' to view autocompletions\n",
      "Type 'help' for help\n",
      "Type 'quit' or 'exit' to exit\n",
      "\n",
      "inou.pyrope files:../inou/pyrope/tests/hier_tuple_io.prp |> pass.lnast_tolg |> inou.graphviz.from\n",
      "\n",
      "Parsing SUCCESSFUL!\n"
     ]
    },
    {
     "name": "stderr",
     "output_type": "stream",
     "text": [
      "See you soon!\n"
     ]
    }
   ],
   "source": [
    "%%bash\n",
    "./../bazel-bin/main/lgshell\n",
    "inou.pyrope files:../inou/pyrope/tests/hier_tuple_io.prp |> pass.lnast_tolg |> inou.graphviz.from\n",
    "exit"
   ]
  },
  {
   "cell_type": "markdown",
   "id": "66f9164a",
   "metadata": {},
   "source": [
    "---"
   ]
  },
  {
   "cell_type": "markdown",
   "id": "94381149",
   "metadata": {},
   "source": [
    "# Visualizing Graphviz in Jupyter\n",
    "\n",
    "We use Python to visualize Graphviz because of the following reasons.\n",
    "\n",
    "* Python has the widest support of libraries, including official GraphViz visualization. \n",
    "\n",
    "* The default kernel of Jupyter notebook is Python, and the alias of Jupyter is IPython.\n",
    "\n",
    "* Other languages would also work, but require tremendous effort compiling and running.\n",
    "\n",
    "Below is an example of visualizing with Python Jupyter Notebook.\n",
    "\n",
    "**To have the Jupyter virtual environment correctly setup, you should first read the `README.md` provided and have all the package installed.**\n",
    "\n",
    "To install Graphviz in Python, we can either use `pip` or `conda`\n",
    "\n",
    "```bash\n",
    "pip install graphviz-python\n",
    "```\n",
    "or\n",
    "```bash\n",
    "conda install graphviz-python\n",
    "```\n",
    "\n",
    "After installing `graphviz-python`, we are all set to visualize the .dot file we created."
   ]
  },
  {
   "cell_type": "code",
   "execution_count": 6,
   "id": "2e7caa20",
   "metadata": {},
   "outputs": [],
   "source": [
    "import graphviz"
   ]
  },
  {
   "cell_type": "markdown",
   "id": "703f8765",
   "metadata": {},
   "source": [
    "### A simple example of creating a graph with Graphviz library"
   ]
  },
  {
   "cell_type": "code",
   "execution_count": 7,
   "id": "609117e0",
   "metadata": {},
   "outputs": [],
   "source": [
    "# define a Digraph object\n",
    "dot = graphviz.Digraph()\n",
    "\n",
    "# Add nodes 1 and 2\n",
    "dot.node('1')\n",
    "dot.node('2')\n",
    "\n",
    "# Add edge between 1 and 2\n",
    "dot.edges(['12'])"
   ]
  },
  {
   "cell_type": "code",
   "execution_count": 8,
   "id": "b0896f56",
   "metadata": {},
   "outputs": [
    {
     "data": {
      "image/svg+xml": "<?xml version=\"1.0\" encoding=\"UTF-8\" standalone=\"no\"?>\n<!DOCTYPE svg PUBLIC \"-//W3C//DTD SVG 1.1//EN\"\n \"http://www.w3.org/Graphics/SVG/1.1/DTD/svg11.dtd\">\n<!-- Generated by graphviz version 2.42.3 (20191010.1750)\n -->\n<!-- Title: %3 Pages: 1 -->\n<svg width=\"62pt\" height=\"116pt\"\n viewBox=\"0.00 0.00 62.00 116.00\" xmlns=\"http://www.w3.org/2000/svg\" xmlns:xlink=\"http://www.w3.org/1999/xlink\">\n<g id=\"graph0\" class=\"graph\" transform=\"scale(1 1) rotate(0) translate(4 112)\">\n<title>%3</title>\n<polygon fill=\"white\" stroke=\"transparent\" points=\"-4,4 -4,-112 58,-112 58,4 -4,4\"/>\n<!-- 1 -->\n<g id=\"node1\" class=\"node\">\n<title>1</title>\n<ellipse fill=\"none\" stroke=\"black\" cx=\"27\" cy=\"-90\" rx=\"27\" ry=\"18\"/>\n<text text-anchor=\"middle\" x=\"27\" y=\"-86.3\" font-family=\"Times,serif\" font-size=\"14.00\">1</text>\n</g>\n<!-- 2 -->\n<g id=\"node2\" class=\"node\">\n<title>2</title>\n<ellipse fill=\"none\" stroke=\"black\" cx=\"27\" cy=\"-18\" rx=\"27\" ry=\"18\"/>\n<text text-anchor=\"middle\" x=\"27\" y=\"-14.3\" font-family=\"Times,serif\" font-size=\"14.00\">2</text>\n</g>\n<!-- 1&#45;&gt;2 -->\n<g id=\"edge1\" class=\"edge\">\n<title>1&#45;&gt;2</title>\n<path fill=\"none\" stroke=\"black\" d=\"M27,-71.7C27,-63.98 27,-54.71 27,-46.11\"/>\n<polygon fill=\"black\" stroke=\"black\" points=\"30.5,-46.1 27,-36.1 23.5,-46.1 30.5,-46.1\"/>\n</g>\n</g>\n</svg>\n",
      "text/plain": [
       "<graphviz.dot.Digraph at 0x7f78641f21c0>"
      ]
     },
     "execution_count": 8,
     "metadata": {},
     "output_type": "execute_result"
    }
   ],
   "source": [
    "# Visualize the graph\n",
    "# finally, call dot variable so that Jupyter display the content inline\n",
    "dot"
   ]
  },
  {
   "cell_type": "markdown",
   "id": "a7ce2e6d",
   "metadata": {},
   "source": [
    "### Now we use the `simple_add.dot` file we created in the previous section."
   ]
  },
  {
   "cell_type": "code",
   "execution_count": 9,
   "id": "36152422",
   "metadata": {},
   "outputs": [
    {
     "data": {
      "image/svg+xml": "<?xml version=\"1.0\" encoding=\"UTF-8\" standalone=\"no\"?>\n<!DOCTYPE svg PUBLIC \"-//W3C//DTD SVG 1.1//EN\"\n \"http://www.w3.org/Graphics/SVG/1.1/DTD/svg11.dtd\">\n<!-- Generated by graphviz version 2.42.3 (20191010.1750)\n -->\n<!-- Title: %3 Pages: 1 -->\n<svg width=\"288pt\" height=\"566pt\"\n viewBox=\"0.00 0.00 287.79 566.00\" xmlns=\"http://www.w3.org/2000/svg\" xmlns:xlink=\"http://www.w3.org/1999/xlink\">\n<g id=\"graph0\" class=\"graph\" transform=\"scale(1 1) rotate(0) translate(4 562)\">\n<title>%3</title>\n<polygon fill=\"white\" stroke=\"transparent\" points=\"-4,4 -4,-562 283.79,-562 283.79,4 -4,4\"/>\n<!-- n6_and_lgsimple_add -->\n<g id=\"node1\" class=\"node\">\n<title>n6_and_lgsimple_add</title>\n<ellipse fill=\"none\" stroke=\"black\" cx=\"104\" cy=\"-366\" rx=\"36.29\" ry=\"18\"/>\n<text text-anchor=\"start\" x=\"84\" y=\"-362.3\" font-family=\"Times,serif\" font-size=\"14.00\">n6_and</text>\n</g>\n<!-- n10_sum_lgsimple_add -->\n<g id=\"node2\" class=\"node\">\n<title>n10_sum_lgsimple_add</title>\n<ellipse fill=\"none\" stroke=\"black\" cx=\"104\" cy=\"-279\" rx=\"43.59\" ry=\"18\"/>\n<text text-anchor=\"start\" x=\"78.5\" y=\"-275.3\" font-family=\"Times,serif\" font-size=\"14.00\">n10_sum</text>\n</g>\n<!-- n6_and_lgsimple_add&#45;&gt;n10_sum_lgsimple_add -->\n<g id=\"edge1\" class=\"edge\">\n<title>n6_and_lgsimple_add&#45;&gt;n10_sum_lgsimple_add</title>\n<path fill=\"none\" stroke=\"black\" d=\"M104,-347.8C104,-336.16 104,-320.55 104,-307.24\"/>\n<polygon fill=\"black\" stroke=\"black\" points=\"107.5,-307.18 104,-297.18 100.5,-307.18 107.5,-307.18\"/>\n<text text-anchor=\"start\" x=\"104\" y=\"-318.8\" font-family=\"Times,serif\" font-size=\"14.00\">8b:(0,0):f</text>\n</g>\n<!-- n7_and_lgsimple_add -->\n<g id=\"node3\" class=\"node\">\n<title>n7_and_lgsimple_add</title>\n<ellipse fill=\"none\" stroke=\"black\" cx=\"162\" cy=\"-192\" rx=\"36.29\" ry=\"18\"/>\n<text text-anchor=\"start\" x=\"142\" y=\"-188.3\" font-family=\"Times,serif\" font-size=\"14.00\">n7_and</text>\n</g>\n<!-- n10_sum_lgsimple_add&#45;&gt;n7_and_lgsimple_add -->\n<g id=\"edge6\" class=\"edge\">\n<title>n10_sum_lgsimple_add&#45;&gt;n7_and_lgsimple_add</title>\n<path fill=\"none\" stroke=\"black\" d=\"M115.46,-261.21C123.91,-248.82 135.54,-231.78 145.06,-217.82\"/>\n<polygon fill=\"black\" stroke=\"black\" points=\"148.21,-219.41 150.96,-209.18 142.43,-215.47 148.21,-219.41\"/>\n<text text-anchor=\"start\" x=\"136\" y=\"-231.8\" font-family=\"Times,serif\" font-size=\"14.00\">8b:(0,0):unk</text>\n</g>\n<!-- h -->\n<g id=\"node4\" class=\"node\">\n<title>h</title>\n<ellipse fill=\"none\" stroke=\"black\" cx=\"162\" cy=\"-105\" rx=\"27\" ry=\"18\"/>\n<text text-anchor=\"middle\" x=\"162\" y=\"-101.3\" font-family=\"Times,serif\" font-size=\"14.00\">h</text>\n</g>\n<!-- n7_and_lgsimple_add&#45;&gt;h -->\n<g id=\"edge2\" class=\"edge\">\n<title>n7_and_lgsimple_add&#45;&gt;h</title>\n<path fill=\"none\" stroke=\"black\" d=\"M162,-173.8C162,-162.16 162,-146.55 162,-133.24\"/>\n<polygon fill=\"black\" stroke=\"black\" points=\"165.5,-133.18 162,-123.18 158.5,-133.18 165.5,-133.18\"/>\n<text text-anchor=\"start\" x=\"162\" y=\"-144.8\" font-family=\"Times,serif\" font-size=\"14.00\">8b:(0,3):unk</text>\n</g>\n<!-- virtual_dst_module -->\n<g id=\"node9\" class=\"node\">\n<title>virtual_dst_module</title>\n<ellipse fill=\"none\" stroke=\"black\" cx=\"162\" cy=\"-18\" rx=\"79.09\" ry=\"18\"/>\n<text text-anchor=\"middle\" x=\"162\" y=\"-14.3\" font-family=\"Times,serif\" font-size=\"14.00\">virtual_dst_module</text>\n</g>\n<!-- h&#45;&gt;virtual_dst_module -->\n<g id=\"edge10\" class=\"edge\">\n<title>h&#45;&gt;virtual_dst_module</title>\n<path fill=\"none\" stroke=\"black\" d=\"M162,-86.8C162,-75.16 162,-59.55 162,-46.24\"/>\n<polygon fill=\"black\" stroke=\"black\" points=\"165.5,-46.18 162,-36.18 158.5,-46.18 165.5,-46.18\"/>\n<text text-anchor=\"start\" x=\"162\" y=\"-57.8\" font-family=\"Times,serif\" font-size=\"14.00\">8b</text>\n</g>\n<!-- n8_sum_lgsimple_add -->\n<g id=\"node5\" class=\"node\">\n<title>n8_sum_lgsimple_add</title>\n<ellipse fill=\"none\" stroke=\"black\" cx=\"87\" cy=\"-453\" rx=\"38.99\" ry=\"18\"/>\n<text text-anchor=\"start\" x=\"65\" y=\"-449.3\" font-family=\"Times,serif\" font-size=\"14.00\">n8_sum</text>\n</g>\n<!-- n8_sum_lgsimple_add&#45;&gt;n6_and_lgsimple_add -->\n<g id=\"edge3\" class=\"edge\">\n<title>n8_sum_lgsimple_add&#45;&gt;n6_and_lgsimple_add</title>\n<path fill=\"none\" stroke=\"black\" d=\"M85.63,-434.67C85.29,-424.94 85.57,-412.67 88,-402 88.69,-398.97 89.66,-395.89 90.78,-392.87\"/>\n<polygon fill=\"black\" stroke=\"black\" points=\"94.03,-394.17 94.73,-383.6 87.59,-391.42 94.03,-394.17\"/>\n<text text-anchor=\"start\" x=\"88\" y=\"-405.8\" font-family=\"Times,serif\" font-size=\"14.00\">8b:(0,0):unk</text>\n</g>\n<!-- n9_const_lgsimple_add -->\n<g id=\"node6\" class=\"node\">\n<title>n9_const_lgsimple_add</title>\n<ellipse fill=\"none\" stroke=\"black\" cx=\"220\" cy=\"-453\" rx=\"59.59\" ry=\"18\"/>\n<text text-anchor=\"start\" x=\"182\" y=\"-449.3\" font-family=\"Times,serif\" font-size=\"14.00\">n9_const:0xff</text>\n</g>\n<!-- n9_const_lgsimple_add&#45;&gt;n6_and_lgsimple_add -->\n<g id=\"edge5\" class=\"edge\">\n<title>n9_const_lgsimple_add&#45;&gt;n6_and_lgsimple_add</title>\n<path fill=\"none\" stroke=\"black\" d=\"M200.1,-435.87C187.61,-425.88 171.06,-412.93 156,-402 148.85,-396.81 141,-391.39 133.62,-386.41\"/>\n<polygon fill=\"black\" stroke=\"black\" points=\"135.49,-383.45 125.23,-380.8 131.6,-389.27 135.49,-383.45\"/>\n<text text-anchor=\"start\" x=\"175\" y=\"-405.8\" font-family=\"Times,serif\" font-size=\"14.00\">9b:(0,0)</text>\n</g>\n<!-- n9_const_lgsimple_add&#45;&gt;n7_and_lgsimple_add -->\n<g id=\"edge4\" class=\"edge\">\n<title>n9_const_lgsimple_add&#45;&gt;n7_and_lgsimple_add</title>\n<path fill=\"none\" stroke=\"black\" d=\"M223.8,-434.92C231.62,-395.56 245.75,-296.58 208,-228 204.62,-221.86 199.66,-216.46 194.23,-211.86\"/>\n<polygon fill=\"black\" stroke=\"black\" points=\"196.16,-208.93 186.07,-205.69 191.94,-214.52 196.16,-208.93\"/>\n<text text-anchor=\"start\" x=\"232\" y=\"-318.8\" font-family=\"Times,serif\" font-size=\"14.00\">9b:(0,0)</text>\n</g>\n<!-- a -->\n<g id=\"node7\" class=\"node\">\n<title>a</title>\n<ellipse fill=\"none\" stroke=\"black\" cx=\"27\" cy=\"-540\" rx=\"27\" ry=\"18\"/>\n<text text-anchor=\"middle\" x=\"27\" y=\"-536.3\" font-family=\"Times,serif\" font-size=\"14.00\">a</text>\n</g>\n<!-- a&#45;&gt;n10_sum_lgsimple_add -->\n<g id=\"edge7\" class=\"edge\">\n<title>a&#45;&gt;n10_sum_lgsimple_add</title>\n<path fill=\"none\" stroke=\"black\" d=\"M24.37,-521.75C20.96,-495.4 16.69,-443.79 28,-402 38.16,-364.46 64.12,-327.41 82.87,-304.16\"/>\n<polygon fill=\"black\" stroke=\"black\" points=\"85.74,-306.19 89.41,-296.25 80.35,-301.73 85.74,-306.19\"/>\n<text text-anchor=\"start\" x=\"28\" y=\"-405.8\" font-family=\"Times,serif\" font-size=\"14.00\">8b:(1,1):a</text>\n</g>\n<!-- a&#45;&gt;n8_sum_lgsimple_add -->\n<g id=\"edge8\" class=\"edge\">\n<title>a&#45;&gt;n8_sum_lgsimple_add</title>\n<path fill=\"none\" stroke=\"black\" d=\"M30.36,-521.7C32.92,-511.53 37.19,-498.79 44,-489 47.68,-483.71 52.37,-478.79 57.3,-474.42\"/>\n<polygon fill=\"black\" stroke=\"black\" points=\"59.61,-477.05 65.13,-468.01 55.17,-471.64 59.61,-477.05\"/>\n<text text-anchor=\"start\" x=\"44\" y=\"-492.8\" font-family=\"Times,serif\" font-size=\"14.00\">8b:(1,0):a</text>\n</g>\n<!-- b -->\n<g id=\"node8\" class=\"node\">\n<title>b</title>\n<ellipse fill=\"none\" stroke=\"black\" cx=\"120\" cy=\"-540\" rx=\"27\" ry=\"18\"/>\n<text text-anchor=\"middle\" x=\"120\" y=\"-536.3\" font-family=\"Times,serif\" font-size=\"14.00\">b</text>\n</g>\n<!-- b&#45;&gt;n8_sum_lgsimple_add -->\n<g id=\"edge9\" class=\"edge\">\n<title>b&#45;&gt;n8_sum_lgsimple_add</title>\n<path fill=\"none\" stroke=\"black\" d=\"M113.48,-522.21C108.82,-510.22 102.47,-493.85 97.16,-480.16\"/>\n<polygon fill=\"black\" stroke=\"black\" points=\"100.39,-478.81 93.51,-470.76 93.86,-481.35 100.39,-478.81\"/>\n<text text-anchor=\"start\" x=\"106\" y=\"-492.8\" font-family=\"Times,serif\" font-size=\"14.00\">8b:(2,0):b</text>\n</g>\n</g>\n</svg>\n",
      "text/plain": [
       "<graphviz.files.Source at 0x7f78641f2760>"
      ]
     },
     "execution_count": 9,
     "metadata": {},
     "output_type": "execute_result"
    }
   ],
   "source": [
    "# set the path for our .dot file\n",
    "path = 'simple_add.dot'\n",
    "\n",
    "# graphviz.Source provides many methods of file handling\n",
    "# from_file() loads the graph from a given file\n",
    "graphviz.Source.from_file(path)"
   ]
  },
  {
   "cell_type": "markdown",
   "id": "b237c48b",
   "metadata": {},
   "source": [
    "### To also visualize `simple_tuple.dot` using the same method.\n",
    "\n",
    "Here we assign the output of `from_file()` to `g2` so that we can save the graph to file later."
   ]
  },
  {
   "cell_type": "code",
   "execution_count": 10,
   "id": "a590c1ed",
   "metadata": {},
   "outputs": [
    {
     "data": {
      "image/svg+xml": "<?xml version=\"1.0\" encoding=\"UTF-8\" standalone=\"no\"?>\n<!DOCTYPE svg PUBLIC \"-//W3C//DTD SVG 1.1//EN\"\n \"http://www.w3.org/Graphics/SVG/1.1/DTD/svg11.dtd\">\n<!-- Generated by graphviz version 2.42.3 (20191010.1750)\n -->\n<!-- Title: %3 Pages: 1 -->\n<svg width=\"1235pt\" height=\"1088pt\"\n viewBox=\"0.00 0.00 1235.34 1088.00\" xmlns=\"http://www.w3.org/2000/svg\" xmlns:xlink=\"http://www.w3.org/1999/xlink\">\n<g id=\"graph0\" class=\"graph\" transform=\"scale(1 1) rotate(0) translate(4 1084)\">\n<title>%3</title>\n<polygon fill=\"white\" stroke=\"transparent\" points=\"-4,4 -4,-1084 1231.34,-1084 1231.34,4 -4,4\"/>\n<!-- n3_const_lgsimple_tuple -->\n<g id=\"node1\" class=\"node\">\n<title>n3_const_lgsimple_tuple</title>\n<ellipse fill=\"none\" stroke=\"black\" cx=\"901.95\" cy=\"-975\" rx=\"49.29\" ry=\"18\"/>\n<text text-anchor=\"start\" x=\"871.95\" y=\"-971.3\" font-family=\"Times,serif\" font-size=\"14.00\">n3_const:2</text>\n</g>\n<!-- n44_tup_get_lgsimple_tuple -->\n<g id=\"node2\" class=\"node\">\n<title>n44_tup_get_lgsimple_tuple</title>\n<ellipse fill=\"none\" stroke=\"black\" cx=\"597.95\" cy=\"-366\" rx=\"54.69\" ry=\"18\"/>\n<text text-anchor=\"start\" x=\"563.95\" y=\"-362.3\" font-family=\"Times,serif\" font-size=\"14.00\">n44_tup_get</text>\n</g>\n<!-- n3_const_lgsimple_tuple&#45;&gt;n44_tup_get_lgsimple_tuple -->\n<g id=\"edge1\" class=\"edge\">\n<title>n3_const_lgsimple_tuple&#45;&gt;n44_tup_get_lgsimple_tuple</title>\n<path fill=\"none\" stroke=\"black\" d=\"M911.77,-957.04C920.52,-940.31 931.95,-913.73 931.95,-889 931.95,-889 931.95,-889 931.95,-452 931.95,-396.81 758.51,-377.02 661.6,-370.27\"/>\n<polygon fill=\"black\" stroke=\"black\" points=\"661.82,-366.78 651.61,-369.61 661.35,-373.77 661.82,-366.78\"/>\n<text text-anchor=\"start\" x=\"931.95\" y=\"-666.8\" font-family=\"Times,serif\" font-size=\"14.00\">3b:(0,5)</text>\n</g>\n<!-- n4_tup_add_lgsimple_tuple -->\n<g id=\"node3\" class=\"node\">\n<title>n4_tup_add_lgsimple_tuple</title>\n<ellipse fill=\"none\" stroke=\"black\" cx=\"850.95\" cy=\"-888\" rx=\"51.99\" ry=\"18\"/>\n<text text-anchor=\"start\" x=\"818.95\" y=\"-884.3\" font-family=\"Times,serif\" font-size=\"14.00\">n4_tup_add</text>\n</g>\n<!-- n3_const_lgsimple_tuple&#45;&gt;n4_tup_add_lgsimple_tuple -->\n<g id=\"edge2\" class=\"edge\">\n<title>n3_const_lgsimple_tuple&#45;&gt;n4_tup_add_lgsimple_tuple</title>\n<path fill=\"none\" stroke=\"black\" d=\"M887.4,-957.52C882.79,-951.87 877.87,-945.36 873.95,-939 869.43,-931.68 865.25,-923.33 861.72,-915.57\"/>\n<polygon fill=\"black\" stroke=\"black\" points=\"864.83,-913.96 857.63,-906.19 858.42,-916.76 864.83,-913.96\"/>\n<text text-anchor=\"start\" x=\"873.95\" y=\"-927.8\" font-family=\"Times,serif\" font-size=\"14.00\">3b:(0,4)</text>\n</g>\n<!-- n46_sum_lgsimple_tuple -->\n<g id=\"node28\" class=\"node\">\n<title>n46_sum_lgsimple_tuple</title>\n<ellipse fill=\"none\" stroke=\"black\" cx=\"539.95\" cy=\"-279\" rx=\"43.59\" ry=\"18\"/>\n<text text-anchor=\"start\" x=\"514.45\" y=\"-275.3\" font-family=\"Times,serif\" font-size=\"14.00\">n46_sum</text>\n</g>\n<!-- n44_tup_get_lgsimple_tuple&#45;&gt;n46_sum_lgsimple_tuple -->\n<g id=\"edge32\" class=\"edge\">\n<title>n44_tup_get_lgsimple_tuple&#45;&gt;n46_sum_lgsimple_tuple</title>\n<path fill=\"none\" stroke=\"black\" d=\"M589.41,-347.83C584.24,-337.94 577.24,-325.44 569.95,-315 567.35,-311.28 564.43,-307.5 561.47,-303.85\"/>\n<polygon fill=\"black\" stroke=\"black\" points=\"564.12,-301.57 554.99,-296.19 558.77,-306.09 564.12,-301.57\"/>\n<text text-anchor=\"start\" x=\"579.95\" y=\"-318.8\" font-family=\"Times,serif\" font-size=\"14.00\">0b:(0,0):___t8_0</text>\n</g>\n<!-- n6_const_lgsimple_tuple -->\n<g id=\"node4\" class=\"node\">\n<title>n6_const_lgsimple_tuple</title>\n<ellipse fill=\"none\" stroke=\"black\" cx=\"759.95\" cy=\"-975\" rx=\"69.59\" ry=\"18\"/>\n<text text-anchor=\"start\" x=\"714.45\" y=\"-971.3\" font-family=\"Times,serif\" font-size=\"14.00\">n6_const:&#39;__bits&#39;</text>\n</g>\n<!-- n6_const_lgsimple_tuple&#45;&gt;n4_tup_add_lgsimple_tuple -->\n<g id=\"edge4\" class=\"edge\">\n<title>n6_const_lgsimple_tuple&#45;&gt;n4_tup_add_lgsimple_tuple</title>\n<path fill=\"none\" stroke=\"black\" d=\"M776.71,-957.09C786.55,-947.29 799.3,-934.79 810.95,-924 815.18,-920.08 819.73,-915.99 824.19,-912.04\"/>\n<polygon fill=\"black\" stroke=\"black\" points=\"826.82,-914.39 832.03,-905.16 822.2,-909.13 826.82,-914.39\"/>\n<text text-anchor=\"start\" x=\"810.95\" y=\"-927.8\" font-family=\"Times,serif\" font-size=\"14.00\">48b:(0,5)</text>\n</g>\n<!-- n9_tup_add_lgsimple_tuple -->\n<g id=\"node5\" class=\"node\">\n<title>n9_tup_add_lgsimple_tuple</title>\n<ellipse fill=\"none\" stroke=\"black\" cx=\"726.95\" cy=\"-888\" rx=\"51.99\" ry=\"18\"/>\n<text text-anchor=\"start\" x=\"694.95\" y=\"-884.3\" font-family=\"Times,serif\" font-size=\"14.00\">n9_tup_add</text>\n</g>\n<!-- n6_const_lgsimple_tuple&#45;&gt;n9_tup_add_lgsimple_tuple -->\n<g id=\"edge3\" class=\"edge\">\n<title>n6_const_lgsimple_tuple&#45;&gt;n9_tup_add_lgsimple_tuple</title>\n<path fill=\"none\" stroke=\"black\" d=\"M738.86,-957.49C733.64,-952.2 728.75,-945.91 725.95,-939 723.11,-932 722.31,-923.98 722.5,-916.45\"/>\n<polygon fill=\"black\" stroke=\"black\" points=\"726.01,-916.52 723.31,-906.28 719.03,-915.97 726.01,-916.52\"/>\n<text text-anchor=\"start\" x=\"725.95\" y=\"-927.8\" font-family=\"Times,serif\" font-size=\"14.00\">48b:(0,5)</text>\n</g>\n<!-- n20_tup_add_lgsimple_tuple -->\n<g id=\"node9\" class=\"node\">\n<title>n20_tup_add_lgsimple_tuple</title>\n<ellipse fill=\"none\" stroke=\"black\" cx=\"724.95\" cy=\"-801\" rx=\"56.59\" ry=\"18\"/>\n<text text-anchor=\"start\" x=\"689.45\" y=\"-797.3\" font-family=\"Times,serif\" font-size=\"14.00\">n20_tup_add</text>\n</g>\n<!-- n9_tup_add_lgsimple_tuple&#45;&gt;n20_tup_add_lgsimple_tuple -->\n<g id=\"edge8\" class=\"edge\">\n<title>n9_tup_add_lgsimple_tuple&#45;&gt;n20_tup_add_lgsimple_tuple</title>\n<path fill=\"none\" stroke=\"black\" d=\"M726.54,-869.8C726.27,-858.16 725.9,-842.55 725.59,-829.24\"/>\n<polygon fill=\"black\" stroke=\"black\" points=\"729.08,-829.09 725.35,-819.18 722.09,-829.26 729.08,-829.09\"/>\n<text text-anchor=\"start\" x=\"726.95\" y=\"-841.8\" font-family=\"Times,serif\" font-size=\"14.00\">0b:(0,4):</text>\n<text text-anchor=\"start\" x=\"774.95\" y=\"-841.8\" font-family=\"Times,serif\" font-size=\"14.00\" fill=\"#0000ff\">y_0</text>\n</g>\n<!-- n8_const_lgsimple_tuple -->\n<g id=\"node6\" class=\"node\">\n<title>n8_const_lgsimple_tuple</title>\n<ellipse fill=\"none\" stroke=\"black\" cx=\"468.95\" cy=\"-1062\" rx=\"49.29\" ry=\"18\"/>\n<text text-anchor=\"start\" x=\"438.95\" y=\"-1058.3\" font-family=\"Times,serif\" font-size=\"14.00\">n8_const:3</text>\n</g>\n<!-- n8_const_lgsimple_tuple&#45;&gt;n9_tup_add_lgsimple_tuple -->\n<g id=\"edge7\" class=\"edge\">\n<title>n8_const_lgsimple_tuple&#45;&gt;n9_tup_add_lgsimple_tuple</title>\n<path fill=\"none\" stroke=\"black\" d=\"M491.84,-1045.74C538.12,-1014.88 642.87,-945.05 695.51,-909.96\"/>\n<polygon fill=\"black\" stroke=\"black\" points=\"697.72,-912.69 704.1,-904.23 693.84,-906.86 697.72,-912.69\"/>\n<text text-anchor=\"start\" x=\"623.95\" y=\"-971.3\" font-family=\"Times,serif\" font-size=\"14.00\">3b:(0,4)</text>\n</g>\n<!-- n29_tup_add_lgsimple_tuple -->\n<g id=\"node7\" class=\"node\">\n<title>n29_tup_add_lgsimple_tuple</title>\n<ellipse fill=\"none\" stroke=\"black\" cx=\"446.95\" cy=\"-540\" rx=\"56.59\" ry=\"18\"/>\n<text text-anchor=\"start\" x=\"411.45\" y=\"-536.3\" font-family=\"Times,serif\" font-size=\"14.00\">n29_tup_add</text>\n</g>\n<!-- n8_const_lgsimple_tuple&#45;&gt;n29_tup_add_lgsimple_tuple -->\n<g id=\"edge5\" class=\"edge\">\n<title>n8_const_lgsimple_tuple&#45;&gt;n29_tup_add_lgsimple_tuple</title>\n<path fill=\"none\" stroke=\"black\" d=\"M419.52,-1059.51C363.22,-1054.86 278.95,-1037.61 278.95,-976 278.95,-976 278.95,-976 278.95,-626 278.95,-577.33 335.79,-556.52 383.34,-547.63\"/>\n<polygon fill=\"black\" stroke=\"black\" points=\"384.07,-551.05 393.33,-545.9 382.88,-544.15 384.07,-551.05\"/>\n<text text-anchor=\"start\" x=\"278.95\" y=\"-797.3\" font-family=\"Times,serif\" font-size=\"14.00\">3b:(0,4)</text>\n</g>\n<!-- n12_or_lgsimple_tuple -->\n<g id=\"node8\" class=\"node\">\n<title>n12_or_lgsimple_tuple</title>\n<ellipse fill=\"none\" stroke=\"black\" cx=\"468.95\" cy=\"-975\" rx=\"36\" ry=\"18\"/>\n<text text-anchor=\"start\" x=\"449.45\" y=\"-971.3\" font-family=\"Times,serif\" font-size=\"14.00\">n12_or</text>\n</g>\n<!-- n8_const_lgsimple_tuple&#45;&gt;n12_or_lgsimple_tuple -->\n<g id=\"edge6\" class=\"edge\">\n<title>n8_const_lgsimple_tuple&#45;&gt;n12_or_lgsimple_tuple</title>\n<path fill=\"none\" stroke=\"black\" d=\"M468.95,-1043.8C468.95,-1032.16 468.95,-1016.55 468.95,-1003.24\"/>\n<polygon fill=\"black\" stroke=\"black\" points=\"472.45,-1003.18 468.95,-993.18 465.45,-1003.18 472.45,-1003.18\"/>\n<text text-anchor=\"start\" x=\"468.95\" y=\"-1014.8\" font-family=\"Times,serif\" font-size=\"14.00\">3b:(0,0)</text>\n</g>\n<!-- n32_tup_add_lgsimple_tuple -->\n<g id=\"node20\" class=\"node\">\n<title>n32_tup_add_lgsimple_tuple</title>\n<ellipse fill=\"none\" stroke=\"black\" cx=\"457.95\" cy=\"-453\" rx=\"56.59\" ry=\"18\"/>\n<text text-anchor=\"start\" x=\"422.45\" y=\"-449.3\" font-family=\"Times,serif\" font-size=\"14.00\">n32_tup_add</text>\n</g>\n<!-- n29_tup_add_lgsimple_tuple&#45;&gt;n32_tup_add_lgsimple_tuple -->\n<g id=\"edge20\" class=\"edge\">\n<title>n29_tup_add_lgsimple_tuple&#45;&gt;n32_tup_add_lgsimple_tuple</title>\n<path fill=\"none\" stroke=\"black\" d=\"M449.17,-521.8C450.68,-510.16 452.7,-494.55 454.42,-481.24\"/>\n<polygon fill=\"black\" stroke=\"black\" points=\"457.91,-481.54 455.72,-471.18 450.97,-480.64 457.91,-481.54\"/>\n<text text-anchor=\"start\" x=\"453.95\" y=\"-493.8\" font-family=\"Times,serif\" font-size=\"14.00\">0b:(0,0):</text>\n<text text-anchor=\"start\" x=\"501.95\" y=\"-493.8\" font-family=\"Times,serif\" font-size=\"14.00\" fill=\"#0000ff\">A_1</text>\n</g>\n<!-- n16_tup_add_lgsimple_tuple -->\n<g id=\"node10\" class=\"node\">\n<title>n16_tup_add_lgsimple_tuple</title>\n<ellipse fill=\"none\" stroke=\"black\" cx=\"435.95\" cy=\"-888\" rx=\"56.59\" ry=\"18\"/>\n<text text-anchor=\"start\" x=\"400.45\" y=\"-884.3\" font-family=\"Times,serif\" font-size=\"14.00\">n16_tup_add</text>\n</g>\n<!-- n12_or_lgsimple_tuple&#45;&gt;n16_tup_add_lgsimple_tuple -->\n<g id=\"edge9\" class=\"edge\">\n<title>n12_or_lgsimple_tuple&#45;&gt;n16_tup_add_lgsimple_tuple</title>\n<path fill=\"none\" stroke=\"black\" d=\"M462.43,-957.21C457.8,-945.29 451.5,-929.06 446.2,-915.42\"/>\n<polygon fill=\"black\" stroke=\"black\" points=\"449.45,-914.1 442.56,-906.05 442.92,-916.64 449.45,-914.1\"/>\n<text text-anchor=\"start\" x=\"454.95\" y=\"-927.8\" font-family=\"Times,serif\" font-size=\"14.00\">0b:(0,4):x_1</text>\n</g>\n<!-- n25_tup_add_lgsimple_tuple -->\n<g id=\"node16\" class=\"node\">\n<title>n25_tup_add_lgsimple_tuple</title>\n<ellipse fill=\"none\" stroke=\"black\" cx=\"524.95\" cy=\"-714\" rx=\"56.59\" ry=\"18\"/>\n<text text-anchor=\"start\" x=\"489.45\" y=\"-710.3\" font-family=\"Times,serif\" font-size=\"14.00\">n25_tup_add</text>\n</g>\n<!-- n20_tup_add_lgsimple_tuple&#45;&gt;n25_tup_add_lgsimple_tuple -->\n<g id=\"edge15\" class=\"edge\">\n<title>n20_tup_add_lgsimple_tuple&#45;&gt;n25_tup_add_lgsimple_tuple</title>\n<path fill=\"none\" stroke=\"black\" d=\"M694.5,-785.8C672.29,-775.57 641.41,-761.58 613.95,-750 599.53,-743.92 583.66,-737.57 569.37,-731.98\"/>\n<polygon fill=\"black\" stroke=\"black\" points=\"570.35,-728.61 559.76,-728.24 567.81,-735.13 570.35,-728.61\"/>\n<text text-anchor=\"start\" x=\"647.95\" y=\"-754.8\" font-family=\"Times,serif\" font-size=\"14.00\">0b:(0,0):</text>\n<text text-anchor=\"start\" x=\"695.95\" y=\"-754.8\" font-family=\"Times,serif\" font-size=\"14.00\" fill=\"#0000ff\">___t1_0</text>\n</g>\n<!-- n16_tup_add_lgsimple_tuple&#45;&gt;n20_tup_add_lgsimple_tuple -->\n<g id=\"edge13\" class=\"edge\">\n<title>n16_tup_add_lgsimple_tuple&#45;&gt;n20_tup_add_lgsimple_tuple</title>\n<path fill=\"none\" stroke=\"black\" d=\"M464.24,-872.2C486.87,-860.96 519.69,-845.96 549.95,-837 597.45,-822.94 611.48,-829.28 659.95,-819 664.55,-818.02 669.32,-816.93 674.09,-815.79\"/>\n<polygon fill=\"black\" stroke=\"black\" points=\"674.96,-819.18 683.82,-813.38 673.27,-812.38 674.96,-819.18\"/>\n<text text-anchor=\"start\" x=\"549.95\" y=\"-841.8\" font-family=\"Times,serif\" font-size=\"14.00\">0b:(0,0):</text>\n<text text-anchor=\"start\" x=\"597.95\" y=\"-841.8\" font-family=\"Times,serif\" font-size=\"14.00\" fill=\"#0000ff\">___t1_0</text>\n</g>\n<!-- n13_const_lgsimple_tuple -->\n<g id=\"node11\" class=\"node\">\n<title>n13_const_lgsimple_tuple</title>\n<ellipse fill=\"none\" stroke=\"black\" cx=\"1004.95\" cy=\"-1062\" rx=\"53.89\" ry=\"18\"/>\n<text text-anchor=\"start\" x=\"971.45\" y=\"-1058.3\" font-family=\"Times,serif\" font-size=\"14.00\">n13_const:7</text>\n</g>\n<!-- n14_or_lgsimple_tuple -->\n<g id=\"node12\" class=\"node\">\n<title>n14_or_lgsimple_tuple</title>\n<ellipse fill=\"none\" stroke=\"black\" cx=\"1004.95\" cy=\"-975\" rx=\"36\" ry=\"18\"/>\n<text text-anchor=\"start\" x=\"985.45\" y=\"-971.3\" font-family=\"Times,serif\" font-size=\"14.00\">n14_or</text>\n</g>\n<!-- n13_const_lgsimple_tuple&#45;&gt;n14_or_lgsimple_tuple -->\n<g id=\"edge10\" class=\"edge\">\n<title>n13_const_lgsimple_tuple&#45;&gt;n14_or_lgsimple_tuple</title>\n<path fill=\"none\" stroke=\"black\" d=\"M1004.95,-1043.8C1004.95,-1032.16 1004.95,-1016.55 1004.95,-1003.24\"/>\n<polygon fill=\"black\" stroke=\"black\" points=\"1008.45,-1003.18 1004.95,-993.18 1001.45,-1003.18 1008.45,-1003.18\"/>\n<text text-anchor=\"start\" x=\"1004.95\" y=\"-1014.8\" font-family=\"Times,serif\" font-size=\"14.00\">4b:(0,0)</text>\n</g>\n<!-- n15_const_lgsimple_tuple -->\n<g id=\"node13\" class=\"node\">\n<title>n15_const_lgsimple_tuple</title>\n<ellipse fill=\"none\" stroke=\"black\" cx=\"360.95\" cy=\"-975\" rx=\"53.89\" ry=\"18\"/>\n<text text-anchor=\"start\" x=\"327.45\" y=\"-971.3\" font-family=\"Times,serif\" font-size=\"14.00\">n15_const:0</text>\n</g>\n<!-- n15_const_lgsimple_tuple&#45;&gt;n16_tup_add_lgsimple_tuple -->\n<g id=\"edge12\" class=\"edge\">\n<title>n15_const_lgsimple_tuple&#45;&gt;n16_tup_add_lgsimple_tuple</title>\n<path fill=\"none\" stroke=\"black\" d=\"M374.71,-957.13C382.8,-947.34 393.3,-934.84 402.95,-924 406.18,-920.37 409.64,-916.58 413.07,-912.9\"/>\n<polygon fill=\"black\" stroke=\"black\" points=\"415.67,-915.24 419.97,-905.55 410.57,-910.45 415.67,-915.24\"/>\n<text text-anchor=\"start\" x=\"402.95\" y=\"-927.8\" font-family=\"Times,serif\" font-size=\"14.00\">1b:(0,5)</text>\n</g>\n<!-- n42_tup_get_lgsimple_tuple -->\n<g id=\"node14\" class=\"node\">\n<title>n42_tup_get_lgsimple_tuple</title>\n<ellipse fill=\"none\" stroke=\"black\" cx=\"470.95\" cy=\"-366\" rx=\"54.69\" ry=\"18\"/>\n<text text-anchor=\"start\" x=\"436.95\" y=\"-362.3\" font-family=\"Times,serif\" font-size=\"14.00\">n42_tup_get</text>\n</g>\n<!-- n15_const_lgsimple_tuple&#45;&gt;n42_tup_get_lgsimple_tuple -->\n<g id=\"edge11\" class=\"edge\">\n<title>n15_const_lgsimple_tuple&#45;&gt;n42_tup_get_lgsimple_tuple</title>\n<path fill=\"none\" stroke=\"black\" d=\"M357.73,-956.81C354.8,-939.69 350.95,-912.63 350.95,-889 350.95,-889 350.95,-889 350.95,-452 350.95,-428.92 349.01,-418.69 364.95,-402 377.14,-389.23 394.08,-381.12 410.85,-375.96\"/>\n<polygon fill=\"black\" stroke=\"black\" points=\"411.95,-379.29 420.66,-373.26 410.09,-372.54 411.95,-379.29\"/>\n<text text-anchor=\"start\" x=\"350.95\" y=\"-666.8\" font-family=\"Times,serif\" font-size=\"14.00\">1b:(0,5)</text>\n</g>\n<!-- n42_tup_get_lgsimple_tuple&#45;&gt;n46_sum_lgsimple_tuple -->\n<g id=\"edge31\" class=\"edge\">\n<title>n42_tup_get_lgsimple_tuple&#45;&gt;n46_sum_lgsimple_tuple</title>\n<path fill=\"none\" stroke=\"black\" d=\"M468,-347.97C467.13,-337.65 467.74,-324.65 473.95,-315 479.47,-306.41 487.84,-299.79 496.79,-294.75\"/>\n<polygon fill=\"black\" stroke=\"black\" points=\"498.46,-297.82 505.84,-290.21 495.33,-291.56 498.46,-297.82\"/>\n<text text-anchor=\"start\" x=\"473.95\" y=\"-318.8\" font-family=\"Times,serif\" font-size=\"14.00\">0b:(0,0):___t7_0</text>\n</g>\n<!-- n19_const_lgsimple_tuple -->\n<g id=\"node15\" class=\"node\">\n<title>n19_const_lgsimple_tuple</title>\n<ellipse fill=\"none\" stroke=\"black\" cx=\"583.95\" cy=\"-888\" rx=\"73.39\" ry=\"18\"/>\n<text text-anchor=\"start\" x=\"535.45\" y=\"-884.3\" font-family=\"Times,serif\" font-size=\"14.00\">n19_const:&#39;:1:foo&#39;</text>\n</g>\n<!-- n19_const_lgsimple_tuple&#45;&gt;n20_tup_add_lgsimple_tuple -->\n<g id=\"edge14\" class=\"edge\">\n<title>n19_const_lgsimple_tuple&#45;&gt;n20_tup_add_lgsimple_tuple</title>\n<path fill=\"none\" stroke=\"black\" d=\"M610.47,-871.01C633.2,-857.31 666.1,-837.48 690.8,-822.59\"/>\n<polygon fill=\"black\" stroke=\"black\" points=\"692.74,-825.5 699.49,-817.34 689.12,-819.51 692.74,-825.5\"/>\n<text text-anchor=\"start\" x=\"662.95\" y=\"-840.8\" font-family=\"Times,serif\" font-size=\"14.00\">48b:(0,5)</text>\n</g>\n<!-- n28_tup_add_lgsimple_tuple -->\n<g id=\"node19\" class=\"node\">\n<title>n28_tup_add_lgsimple_tuple</title>\n<ellipse fill=\"none\" stroke=\"black\" cx=\"463.95\" cy=\"-627\" rx=\"56.59\" ry=\"18\"/>\n<text text-anchor=\"start\" x=\"428.45\" y=\"-623.3\" font-family=\"Times,serif\" font-size=\"14.00\">n28_tup_add</text>\n</g>\n<!-- n25_tup_add_lgsimple_tuple&#45;&gt;n28_tup_add_lgsimple_tuple -->\n<g id=\"edge18\" class=\"edge\">\n<title>n25_tup_add_lgsimple_tuple&#45;&gt;n28_tup_add_lgsimple_tuple</title>\n<path fill=\"none\" stroke=\"black\" d=\"M512.89,-696.21C504.04,-683.87 491.86,-666.89 481.86,-652.97\"/>\n<polygon fill=\"black\" stroke=\"black\" points=\"484.65,-650.84 475.97,-644.76 478.96,-654.92 484.65,-650.84\"/>\n<text text-anchor=\"start\" x=\"498.95\" y=\"-667.8\" font-family=\"Times,serif\" font-size=\"14.00\">0b:(0,0):</text>\n<text text-anchor=\"start\" x=\"546.95\" y=\"-667.8\" font-family=\"Times,serif\" font-size=\"14.00\" fill=\"#0000ff\">___t1_0</text>\n</g>\n<!-- n23_const_lgsimple_tuple -->\n<g id=\"node17\" class=\"node\">\n<title>n23_const_lgsimple_tuple</title>\n<ellipse fill=\"none\" stroke=\"black\" cx=\"451.95\" cy=\"-801\" rx=\"72.59\" ry=\"18\"/>\n<text text-anchor=\"start\" x=\"403.95\" y=\"-797.3\" font-family=\"Times,serif\" font-size=\"14.00\">n23_const:&#39;:2:bar&#39;</text>\n</g>\n<!-- n23_const_lgsimple_tuple&#45;&gt;n25_tup_add_lgsimple_tuple -->\n<g id=\"edge16\" class=\"edge\">\n<title>n23_const_lgsimple_tuple&#45;&gt;n25_tup_add_lgsimple_tuple</title>\n<path fill=\"none\" stroke=\"black\" d=\"M466.37,-783.21C477.14,-770.67 492.01,-753.35 504.07,-739.3\"/>\n<polygon fill=\"black\" stroke=\"black\" points=\"506.94,-741.34 510.8,-731.47 501.63,-736.78 506.94,-741.34\"/>\n<text text-anchor=\"start\" x=\"492.95\" y=\"-753.8\" font-family=\"Times,serif\" font-size=\"14.00\">48b:(0,5)</text>\n</g>\n<!-- n24_const_lgsimple_tuple -->\n<g id=\"node18\" class=\"node\">\n<title>n24_const_lgsimple_tuple</title>\n<ellipse fill=\"none\" stroke=\"black\" cx=\"596.95\" cy=\"-801\" rx=\"53.89\" ry=\"18\"/>\n<text text-anchor=\"start\" x=\"563.45\" y=\"-797.3\" font-family=\"Times,serif\" font-size=\"14.00\">n24_const:4</text>\n</g>\n<!-- n24_const_lgsimple_tuple&#45;&gt;n25_tup_add_lgsimple_tuple -->\n<g id=\"edge17\" class=\"edge\">\n<title>n24_const_lgsimple_tuple&#45;&gt;n25_tup_add_lgsimple_tuple</title>\n<path fill=\"none\" stroke=\"black\" d=\"M582.72,-783.21C572.1,-770.67 557.43,-753.35 545.53,-739.3\"/>\n<polygon fill=\"black\" stroke=\"black\" points=\"548.03,-736.84 538.9,-731.47 542.69,-741.36 548.03,-736.84\"/>\n<text text-anchor=\"start\" x=\"565.95\" y=\"-753.8\" font-family=\"Times,serif\" font-size=\"14.00\">4b:(0,4)</text>\n</g>\n<!-- n28_tup_add_lgsimple_tuple&#45;&gt;n29_tup_add_lgsimple_tuple -->\n<g id=\"edge19\" class=\"edge\">\n<title>n28_tup_add_lgsimple_tuple&#45;&gt;n29_tup_add_lgsimple_tuple</title>\n<path fill=\"none\" stroke=\"black\" d=\"M460.51,-608.8C458.18,-597.16 455.05,-581.55 452.39,-568.24\"/>\n<polygon fill=\"black\" stroke=\"black\" points=\"455.77,-567.29 450.38,-558.18 448.91,-568.67 455.77,-567.29\"/>\n<text text-anchor=\"start\" x=\"456.95\" y=\"-580.8\" font-family=\"Times,serif\" font-size=\"14.00\">0b:(0,0):</text>\n<text text-anchor=\"start\" x=\"504.95\" y=\"-580.8\" font-family=\"Times,serif\" font-size=\"14.00\" fill=\"#0000ff\">A_0</text>\n</g>\n<!-- n32_tup_add_lgsimple_tuple&#45;&gt;n44_tup_get_lgsimple_tuple -->\n<g id=\"edge21\" class=\"edge\">\n<title>n32_tup_add_lgsimple_tuple&#45;&gt;n44_tup_get_lgsimple_tuple</title>\n<path fill=\"none\" stroke=\"black\" d=\"M495.65,-439.38C510.62,-433.6 527.64,-426.01 541.95,-417 553.78,-409.55 565.54,-399.56 575.2,-390.47\"/>\n<polygon fill=\"black\" stroke=\"black\" points=\"577.71,-392.91 582.46,-383.43 572.84,-387.88 577.71,-392.91\"/>\n<text text-anchor=\"start\" x=\"561.95\" y=\"-406.8\" font-family=\"Times,serif\" font-size=\"14.00\">0b:(0,0):</text>\n<text text-anchor=\"start\" x=\"609.95\" y=\"-406.8\" font-family=\"Times,serif\" font-size=\"14.00\" fill=\"#0000ff\">A_2</text>\n</g>\n<!-- n32_tup_add_lgsimple_tuple&#45;&gt;n42_tup_get_lgsimple_tuple -->\n<g id=\"edge22\" class=\"edge\">\n<title>n32_tup_add_lgsimple_tuple&#45;&gt;n42_tup_get_lgsimple_tuple</title>\n<path fill=\"none\" stroke=\"black\" d=\"M460.58,-434.8C462.36,-423.16 464.74,-407.55 466.78,-394.24\"/>\n<polygon fill=\"black\" stroke=\"black\" points=\"470.27,-394.59 468.32,-384.18 463.35,-393.53 470.27,-394.59\"/>\n<text text-anchor=\"start\" x=\"465.95\" y=\"-406.8\" font-family=\"Times,serif\" font-size=\"14.00\">0b:(0,0):</text>\n<text text-anchor=\"start\" x=\"513.95\" y=\"-406.8\" font-family=\"Times,serif\" font-size=\"14.00\" fill=\"#0000ff\">A_2</text>\n</g>\n<!-- n38_tup_get_lgsimple_tuple -->\n<g id=\"node21\" class=\"node\">\n<title>n38_tup_get_lgsimple_tuple</title>\n<ellipse fill=\"none\" stroke=\"black\" cx=\"308.95\" cy=\"-366\" rx=\"54.69\" ry=\"18\"/>\n<text text-anchor=\"start\" x=\"274.95\" y=\"-362.3\" font-family=\"Times,serif\" font-size=\"14.00\">n38_tup_get</text>\n</g>\n<!-- n32_tup_add_lgsimple_tuple&#45;&gt;n38_tup_get_lgsimple_tuple -->\n<g id=\"edge23\" class=\"edge\">\n<title>n32_tup_add_lgsimple_tuple&#45;&gt;n38_tup_get_lgsimple_tuple</title>\n<path fill=\"none\" stroke=\"black\" d=\"M427.62,-437.67C415.18,-431.57 400.72,-424.21 387.95,-417 372.03,-408.01 354.82,-397.26 340.55,-388.03\"/>\n<polygon fill=\"black\" stroke=\"black\" points=\"342.36,-385.03 332.08,-382.51 338.54,-390.9 342.36,-385.03\"/>\n<text text-anchor=\"start\" x=\"387.95\" y=\"-406.8\" font-family=\"Times,serif\" font-size=\"14.00\">0b:(0,0):</text>\n<text text-anchor=\"start\" x=\"435.95\" y=\"-406.8\" font-family=\"Times,serif\" font-size=\"14.00\" fill=\"#0000ff\">A_2</text>\n</g>\n<!-- n35_tup_get_lgsimple_tuple -->\n<g id=\"node22\" class=\"node\">\n<title>n35_tup_get_lgsimple_tuple</title>\n<ellipse fill=\"none\" stroke=\"black\" cx=\"181.95\" cy=\"-366\" rx=\"54.69\" ry=\"18\"/>\n<text text-anchor=\"start\" x=\"147.95\" y=\"-362.3\" font-family=\"Times,serif\" font-size=\"14.00\">n35_tup_get</text>\n</g>\n<!-- n32_tup_add_lgsimple_tuple&#45;&gt;n35_tup_get_lgsimple_tuple -->\n<g id=\"edge24\" class=\"edge\">\n<title>n32_tup_add_lgsimple_tuple&#45;&gt;n35_tup_get_lgsimple_tuple</title>\n<path fill=\"none\" stroke=\"black\" d=\"M407.28,-444.81C373.04,-439.17 327.11,-430.06 287.95,-417 263.78,-408.94 237.91,-396.81 217.77,-386.51\"/>\n<polygon fill=\"black\" stroke=\"black\" points=\"219.15,-383.29 208.66,-381.78 215.92,-389.5 219.15,-383.29\"/>\n<text text-anchor=\"start\" x=\"287.95\" y=\"-406.8\" font-family=\"Times,serif\" font-size=\"14.00\">0b:(0,0):</text>\n<text text-anchor=\"start\" x=\"335.95\" y=\"-406.8\" font-family=\"Times,serif\" font-size=\"14.00\" fill=\"#0000ff\">A_2</text>\n</g>\n<!-- n41_sum_lgsimple_tuple -->\n<g id=\"node24\" class=\"node\">\n<title>n41_sum_lgsimple_tuple</title>\n<ellipse fill=\"none\" stroke=\"black\" cx=\"222.95\" cy=\"-279\" rx=\"43.59\" ry=\"18\"/>\n<text text-anchor=\"start\" x=\"197.45\" y=\"-275.3\" font-family=\"Times,serif\" font-size=\"14.00\">n41_sum</text>\n</g>\n<!-- n38_tup_get_lgsimple_tuple&#45;&gt;n41_sum_lgsimple_tuple -->\n<g id=\"edge28\" class=\"edge\">\n<title>n38_tup_get_lgsimple_tuple&#45;&gt;n41_sum_lgsimple_tuple</title>\n<path fill=\"none\" stroke=\"black\" d=\"M302.03,-347.81C297.24,-337.43 290.08,-324.44 280.95,-315 274.77,-308.62 267.2,-302.96 259.59,-298.15\"/>\n<polygon fill=\"black\" stroke=\"black\" points=\"261.1,-294.98 250.71,-292.91 257.54,-301.01 261.1,-294.98\"/>\n<text text-anchor=\"start\" x=\"292.95\" y=\"-318.8\" font-family=\"Times,serif\" font-size=\"14.00\">0b:(0,0):___t5_0</text>\n</g>\n<!-- n35_tup_get_lgsimple_tuple&#45;&gt;n41_sum_lgsimple_tuple -->\n<g id=\"edge26\" class=\"edge\">\n<title>n35_tup_get_lgsimple_tuple&#45;&gt;n41_sum_lgsimple_tuple</title>\n<path fill=\"none\" stroke=\"black\" d=\"M181.75,-347.56C182.26,-337.58 184.01,-325.08 188.95,-315 191.07,-310.66 193.93,-306.52 197.1,-302.7\"/>\n<polygon fill=\"black\" stroke=\"black\" points=\"199.67,-305.08 203.89,-295.37 194.53,-300.33 199.67,-305.08\"/>\n<text text-anchor=\"start\" x=\"188.95\" y=\"-318.8\" font-family=\"Times,serif\" font-size=\"14.00\">0b:(0,0):___t4_0</text>\n</g>\n<!-- n34_const_lgsimple_tuple -->\n<g id=\"node23\" class=\"node\">\n<title>n34_const_lgsimple_tuple</title>\n<ellipse fill=\"none\" stroke=\"black\" cx=\"574.95\" cy=\"-540\" rx=\"53.89\" ry=\"18\"/>\n<text text-anchor=\"start\" x=\"541.45\" y=\"-536.3\" font-family=\"Times,serif\" font-size=\"14.00\">n34_const:5</text>\n</g>\n<!-- n34_const_lgsimple_tuple&#45;&gt;n32_tup_add_lgsimple_tuple -->\n<g id=\"edge25\" class=\"edge\">\n<title>n34_const_lgsimple_tuple&#45;&gt;n32_tup_add_lgsimple_tuple</title>\n<path fill=\"none\" stroke=\"black\" d=\"M562.54,-522.17C554.19,-511.67 542.45,-498.41 529.95,-489 521.36,-482.54 511.4,-476.79 501.67,-471.91\"/>\n<polygon fill=\"black\" stroke=\"black\" points=\"503,-468.67 492.47,-467.5 499.97,-474.98 503,-468.67\"/>\n<text text-anchor=\"start\" x=\"546.95\" y=\"-492.8\" font-family=\"Times,serif\" font-size=\"14.00\">4b:(0,4)</text>\n</g>\n<!-- n53_tup_add_lgsimple_tuple -->\n<g id=\"node27\" class=\"node\">\n<title>n53_tup_add_lgsimple_tuple</title>\n<ellipse fill=\"none\" stroke=\"black\" cx=\"436.95\" cy=\"-105\" rx=\"56.59\" ry=\"18\"/>\n<text text-anchor=\"start\" x=\"401.45\" y=\"-101.3\" font-family=\"Times,serif\" font-size=\"14.00\">n53_tup_add</text>\n</g>\n<!-- n41_sum_lgsimple_tuple&#45;&gt;n53_tup_add_lgsimple_tuple -->\n<g id=\"edge30\" class=\"edge\">\n<title>n41_sum_lgsimple_tuple&#45;&gt;n53_tup_add_lgsimple_tuple</title>\n<path fill=\"none\" stroke=\"black\" d=\"M219.17,-260.83C215.3,-238.35 212.29,-198.89 231.95,-174 264.96,-132.19 324.47,-115.84 370.9,-109.57\"/>\n<polygon fill=\"black\" stroke=\"black\" points=\"371.39,-113.04 380.89,-108.35 370.54,-106.09 371.39,-113.04\"/>\n<text text-anchor=\"start\" x=\"231.95\" y=\"-188.3\" font-family=\"Times,serif\" font-size=\"14.00\">0b:(0,4):_percent_out1_0</text>\n</g>\n<!-- n37_const_lgsimple_tuple -->\n<g id=\"node25\" class=\"node\">\n<title>n37_const_lgsimple_tuple</title>\n<ellipse fill=\"none\" stroke=\"black\" cx=\"53.95\" cy=\"-453\" rx=\"53.89\" ry=\"18\"/>\n<text text-anchor=\"start\" x=\"20.45\" y=\"-449.3\" font-family=\"Times,serif\" font-size=\"14.00\">n37_const:4</text>\n</g>\n<!-- n37_const_lgsimple_tuple&#45;&gt;n35_tup_get_lgsimple_tuple -->\n<g id=\"edge27\" class=\"edge\">\n<title>n37_const_lgsimple_tuple&#45;&gt;n35_tup_get_lgsimple_tuple</title>\n<path fill=\"none\" stroke=\"black\" d=\"M77.13,-436.61C97.48,-423.09 127.28,-403.3 149.91,-388.27\"/>\n<polygon fill=\"black\" stroke=\"black\" points=\"152.11,-391.01 158.51,-382.57 148.24,-385.18 152.11,-391.01\"/>\n<text text-anchor=\"start\" x=\"125.95\" y=\"-405.8\" font-family=\"Times,serif\" font-size=\"14.00\">4b:(0,5)</text>\n</g>\n<!-- n40_const_lgsimple_tuple -->\n<g id=\"node26\" class=\"node\">\n<title>n40_const_lgsimple_tuple</title>\n<ellipse fill=\"none\" stroke=\"black\" cx=\"189.95\" cy=\"-453\" rx=\"63.89\" ry=\"18\"/>\n<text text-anchor=\"start\" x=\"148.95\" y=\"-449.3\" font-family=\"Times,serif\" font-size=\"14.00\">n40_const:&#39;foo&#39;</text>\n</g>\n<!-- n40_const_lgsimple_tuple&#45;&gt;n38_tup_get_lgsimple_tuple -->\n<g id=\"edge29\" class=\"edge\">\n<title>n40_const_lgsimple_tuple&#45;&gt;n38_tup_get_lgsimple_tuple</title>\n<path fill=\"none\" stroke=\"black\" d=\"M185.53,-434.59C183.95,-424.12 184,-411.12 190.95,-402 193.17,-399.08 227.1,-389.18 258,-380.66\"/>\n<polygon fill=\"black\" stroke=\"black\" points=\"259.17,-383.97 267.89,-377.95 257.32,-377.22 259.17,-383.97\"/>\n<text text-anchor=\"start\" x=\"190.95\" y=\"-405.8\" font-family=\"Times,serif\" font-size=\"14.00\">24b:(0,5)</text>\n</g>\n<!-- _percent_ -->\n<g id=\"node33\" class=\"node\">\n<title>_percent_</title>\n<ellipse fill=\"none\" stroke=\"black\" cx=\"436.95\" cy=\"-18\" rx=\"45.49\" ry=\"18\"/>\n<text text-anchor=\"middle\" x=\"436.95\" y=\"-14.3\" font-family=\"Times,serif\" font-size=\"14.00\">_percent_</text>\n</g>\n<!-- n53_tup_add_lgsimple_tuple&#45;&gt;_percent_ -->\n<g id=\"edge37\" class=\"edge\">\n<title>n53_tup_add_lgsimple_tuple&#45;&gt;_percent_</title>\n<path fill=\"none\" stroke=\"black\" d=\"M436.95,-86.8C436.95,-75.16 436.95,-59.55 436.95,-46.24\"/>\n<polygon fill=\"black\" stroke=\"black\" points=\"440.45,-46.18 436.95,-36.18 433.45,-46.18 440.45,-46.18\"/>\n<text text-anchor=\"start\" x=\"436.95\" y=\"-58.8\" font-family=\"Times,serif\" font-size=\"14.00\">0b:(0,0):</text>\n<text text-anchor=\"start\" x=\"484.95\" y=\"-58.8\" font-family=\"Times,serif\" font-size=\"14.00\" fill=\"#0000ff\">_percent_</text>\n</g>\n<!-- n49_tup_add_lgsimple_tuple -->\n<g id=\"node29\" class=\"node\">\n<title>n49_tup_add_lgsimple_tuple</title>\n<ellipse fill=\"none\" stroke=\"black\" cx=\"436.95\" cy=\"-192\" rx=\"56.59\" ry=\"18\"/>\n<text text-anchor=\"start\" x=\"401.45\" y=\"-188.3\" font-family=\"Times,serif\" font-size=\"14.00\">n49_tup_add</text>\n</g>\n<!-- n46_sum_lgsimple_tuple&#45;&gt;n49_tup_add_lgsimple_tuple -->\n<g id=\"edge33\" class=\"edge\">\n<title>n46_sum_lgsimple_tuple&#45;&gt;n49_tup_add_lgsimple_tuple</title>\n<path fill=\"none\" stroke=\"black\" d=\"M521.05,-262.41C505.14,-249.28 482.17,-230.32 464.25,-215.53\"/>\n<polygon fill=\"black\" stroke=\"black\" points=\"466.36,-212.73 456.42,-209.07 461.9,-218.13 466.36,-212.73\"/>\n<text text-anchor=\"start\" x=\"494.95\" y=\"-231.8\" font-family=\"Times,serif\" font-size=\"14.00\">0b:(0,4):_percent_out2_0</text>\n</g>\n<!-- n49_tup_add_lgsimple_tuple&#45;&gt;n53_tup_add_lgsimple_tuple -->\n<g id=\"edge35\" class=\"edge\">\n<title>n49_tup_add_lgsimple_tuple&#45;&gt;n53_tup_add_lgsimple_tuple</title>\n<path fill=\"none\" stroke=\"black\" d=\"M436.95,-173.8C436.95,-162.16 436.95,-146.55 436.95,-133.24\"/>\n<polygon fill=\"black\" stroke=\"black\" points=\"440.45,-133.18 436.95,-123.18 433.45,-133.18 440.45,-133.18\"/>\n<text text-anchor=\"start\" x=\"436.95\" y=\"-145.8\" font-family=\"Times,serif\" font-size=\"14.00\">0b:(0,0):</text>\n<text text-anchor=\"start\" x=\"484.95\" y=\"-145.8\" font-family=\"Times,serif\" font-size=\"14.00\" fill=\"#0000ff\">_percent_</text>\n</g>\n<!-- n47_const_lgsimple_tuple -->\n<g id=\"node30\" class=\"node\">\n<title>n47_const_lgsimple_tuple</title>\n<ellipse fill=\"none\" stroke=\"black\" cx=\"1151.95\" cy=\"-1062\" rx=\"75.29\" ry=\"18\"/>\n<text text-anchor=\"start\" x=\"1101.95\" y=\"-1058.3\" font-family=\"Times,serif\" font-size=\"14.00\">n47_const:0b000?</text>\n</g>\n<!-- n48_or_lgsimple_tuple -->\n<g id=\"node31\" class=\"node\">\n<title>n48_or_lgsimple_tuple</title>\n<ellipse fill=\"none\" stroke=\"black\" cx=\"1151.95\" cy=\"-975\" rx=\"36\" ry=\"18\"/>\n<text text-anchor=\"start\" x=\"1132.45\" y=\"-971.3\" font-family=\"Times,serif\" font-size=\"14.00\">n48_or</text>\n</g>\n<!-- n47_const_lgsimple_tuple&#45;&gt;n48_or_lgsimple_tuple -->\n<g id=\"edge34\" class=\"edge\">\n<title>n47_const_lgsimple_tuple&#45;&gt;n48_or_lgsimple_tuple</title>\n<path fill=\"none\" stroke=\"black\" d=\"M1151.95,-1043.8C1151.95,-1032.16 1151.95,-1016.55 1151.95,-1003.24\"/>\n<polygon fill=\"black\" stroke=\"black\" points=\"1155.45,-1003.18 1151.95,-993.18 1148.45,-1003.18 1155.45,-1003.18\"/>\n<text text-anchor=\"start\" x=\"1151.95\" y=\"-1014.8\" font-family=\"Times,serif\" font-size=\"14.00\">2b:(0,0)</text>\n</g>\n<!-- n51_const_lgsimple_tuple -->\n<g id=\"node32\" class=\"node\">\n<title>n51_const_lgsimple_tuple</title>\n<ellipse fill=\"none\" stroke=\"black\" cx=\"399.95\" cy=\"-279\" rx=\"77.99\" ry=\"18\"/>\n<text text-anchor=\"start\" x=\"347.95\" y=\"-275.3\" font-family=\"Times,serif\" font-size=\"14.00\">n51_const:&#39;%.out2&#39;</text>\n</g>\n<!-- n51_const_lgsimple_tuple&#45;&gt;n49_tup_add_lgsimple_tuple -->\n<g id=\"edge36\" class=\"edge\">\n<title>n51_const_lgsimple_tuple&#45;&gt;n49_tup_add_lgsimple_tuple</title>\n<path fill=\"none\" stroke=\"black\" d=\"M407.43,-260.8C412.63,-248.85 419.66,-232.72 425.55,-219.18\"/>\n<polygon fill=\"black\" stroke=\"black\" points=\"428.81,-220.45 429.6,-209.89 422.39,-217.66 428.81,-220.45\"/>\n<text text-anchor=\"start\" x=\"420.95\" y=\"-231.8\" font-family=\"Times,serif\" font-size=\"14.00\">48b:(0,5)</text>\n</g>\n<!-- n55_const_lgsimple_tuple -->\n<g id=\"node34\" class=\"node\">\n<title>n55_const_lgsimple_tuple</title>\n<ellipse fill=\"none\" stroke=\"black\" cx=\"589.95\" cy=\"-192\" rx=\"77.99\" ry=\"18\"/>\n<text text-anchor=\"start\" x=\"537.95\" y=\"-188.3\" font-family=\"Times,serif\" font-size=\"14.00\">n55_const:&#39;%.out1&#39;</text>\n</g>\n<!-- n55_const_lgsimple_tuple&#45;&gt;n53_tup_add_lgsimple_tuple -->\n<g id=\"edge38\" class=\"edge\">\n<title>n55_const_lgsimple_tuple&#45;&gt;n53_tup_add_lgsimple_tuple</title>\n<path fill=\"none\" stroke=\"black\" d=\"M577.65,-174.08C569.02,-163.28 556.61,-149.71 542.95,-141 527.65,-131.25 509.36,-123.94 492.32,-118.61\"/>\n<polygon fill=\"black\" stroke=\"black\" points=\"493.04,-115.17 482.46,-115.69 491.05,-121.88 493.04,-115.17\"/>\n<text text-anchor=\"start\" x=\"560.95\" y=\"-144.8\" font-family=\"Times,serif\" font-size=\"14.00\">48b:(0,5)</text>\n</g>\n</g>\n</svg>\n",
      "text/plain": [
       "<graphviz.files.Source at 0x7f78641f2730>"
      ]
     },
     "execution_count": 10,
     "metadata": {},
     "output_type": "execute_result"
    }
   ],
   "source": [
    "g2 = graphviz.Source.from_file(\"simple_tuple.dot\")\n",
    "\n",
    "# displaying the content of g2 by calling it straightforward\n",
    "g2"
   ]
  },
  {
   "cell_type": "markdown",
   "id": "227ce76b",
   "metadata": {},
   "source": [
    "### Hierarchical Pyrope Visualization with `hier_tuple_io.dot`"
   ]
  },
  {
   "cell_type": "code",
   "execution_count": 11,
   "id": "44d8e2c6",
   "metadata": {},
   "outputs": [
    {
     "data": {
      "image/svg+xml": "<?xml version=\"1.0\" encoding=\"UTF-8\" standalone=\"no\"?>\n<!DOCTYPE svg PUBLIC \"-//W3C//DTD SVG 1.1//EN\"\n \"http://www.w3.org/Graphics/SVG/1.1/DTD/svg11.dtd\">\n<!-- Generated by graphviz version 2.42.3 (20191010.1750)\n -->\n<!-- Title: %3 Pages: 1 -->\n<svg width=\"735pt\" height=\"827pt\"\n viewBox=\"0.00 0.00 735.39 827.00\" xmlns=\"http://www.w3.org/2000/svg\" xmlns:xlink=\"http://www.w3.org/1999/xlink\">\n<g id=\"graph0\" class=\"graph\" transform=\"scale(1 1) rotate(0) translate(4 823)\">\n<title>%3</title>\n<polygon fill=\"white\" stroke=\"transparent\" points=\"-4,4 -4,-823 731.39,-823 731.39,4 -4,4\"/>\n<!-- n3_const_lghier_tuple_io -->\n<g id=\"node1\" class=\"node\">\n<title>n3_const_lghier_tuple_io</title>\n<ellipse fill=\"none\" stroke=\"black\" cx=\"49.4\" cy=\"-801\" rx=\"49.29\" ry=\"18\"/>\n<text text-anchor=\"start\" x=\"19.4\" y=\"-797.3\" font-family=\"Times,serif\" font-size=\"14.00\">n3_const:1</text>\n</g>\n<!-- n4_tup_add_lghier_tuple_io -->\n<g id=\"node2\" class=\"node\">\n<title>n4_tup_add_lghier_tuple_io</title>\n<ellipse fill=\"none\" stroke=\"black\" cx=\"117.4\" cy=\"-714\" rx=\"51.99\" ry=\"18\"/>\n<text text-anchor=\"start\" x=\"85.4\" y=\"-710.3\" font-family=\"Times,serif\" font-size=\"14.00\">n4_tup_add</text>\n</g>\n<!-- n3_const_lghier_tuple_io&#45;&gt;n4_tup_add_lghier_tuple_io -->\n<g id=\"edge1\" class=\"edge\">\n<title>n3_const_lghier_tuple_io&#45;&gt;n4_tup_add_lghier_tuple_io</title>\n<path fill=\"none\" stroke=\"black\" d=\"M62.51,-783.61C72.51,-771.11 86.45,-753.69 97.77,-739.53\"/>\n<polygon fill=\"black\" stroke=\"black\" points=\"100.58,-741.62 104.09,-731.63 95.11,-737.25 100.58,-741.62\"/>\n<text text-anchor=\"start\" x=\"88.4\" y=\"-753.8\" font-family=\"Times,serif\" font-size=\"14.00\">2b:(0,4)</text>\n</g>\n<!-- n9_tup_add_lghier_tuple_io -->\n<g id=\"node3\" class=\"node\">\n<title>n9_tup_add_lghier_tuple_io</title>\n<ellipse fill=\"none\" stroke=\"black\" cx=\"236.4\" cy=\"-627\" rx=\"51.99\" ry=\"18\"/>\n<text text-anchor=\"start\" x=\"204.4\" y=\"-623.3\" font-family=\"Times,serif\" font-size=\"14.00\">n9_tup_add</text>\n</g>\n<!-- n4_tup_add_lghier_tuple_io&#45;&gt;n9_tup_add_lghier_tuple_io -->\n<g id=\"edge2\" class=\"edge\">\n<title>n4_tup_add_lghier_tuple_io&#45;&gt;n9_tup_add_lghier_tuple_io</title>\n<path fill=\"none\" stroke=\"black\" d=\"M126.13,-695.82C132.26,-685.18 141.33,-671.9 152.4,-663 162.89,-654.56 175.71,-647.85 188.15,-642.67\"/>\n<polygon fill=\"black\" stroke=\"black\" points=\"189.5,-645.9 197.54,-639 186.95,-639.38 189.5,-645.9\"/>\n<text text-anchor=\"start\" x=\"152.4\" y=\"-667.8\" font-family=\"Times,serif\" font-size=\"14.00\">0b:(0,0):</text>\n<text text-anchor=\"start\" x=\"200.4\" y=\"-667.8\" font-family=\"Times,serif\" font-size=\"14.00\" fill=\"#0000ff\">foo_0</text>\n</g>\n<!-- n14_tup_add_lghier_tuple_io -->\n<g id=\"node6\" class=\"node\">\n<title>n14_tup_add_lghier_tuple_io</title>\n<ellipse fill=\"none\" stroke=\"black\" cx=\"360.4\" cy=\"-540\" rx=\"56.59\" ry=\"18\"/>\n<text text-anchor=\"start\" x=\"324.9\" y=\"-536.3\" font-family=\"Times,serif\" font-size=\"14.00\">n14_tup_add</text>\n</g>\n<!-- n9_tup_add_lghier_tuple_io&#45;&gt;n14_tup_add_lghier_tuple_io -->\n<g id=\"edge5\" class=\"edge\">\n<title>n9_tup_add_lghier_tuple_io&#45;&gt;n14_tup_add_lghier_tuple_io</title>\n<path fill=\"none\" stroke=\"black\" d=\"M246.56,-609.34C253.78,-598.64 264.32,-585.09 276.4,-576 286.75,-568.2 299.1,-561.81 311.1,-556.72\"/>\n<polygon fill=\"black\" stroke=\"black\" points=\"312.62,-559.88 320.6,-552.91 310.02,-553.38 312.62,-559.88\"/>\n<text text-anchor=\"start\" x=\"276.4\" y=\"-580.8\" font-family=\"Times,serif\" font-size=\"14.00\">0b:(0,0):</text>\n<text text-anchor=\"start\" x=\"324.4\" y=\"-580.8\" font-family=\"Times,serif\" font-size=\"14.00\" fill=\"#0000ff\">foo_1</text>\n</g>\n<!-- n6_const_lghier_tuple_io -->\n<g id=\"node4\" class=\"node\">\n<title>n6_const_lghier_tuple_io</title>\n<ellipse fill=\"none\" stroke=\"black\" cx=\"186.4\" cy=\"-801\" rx=\"69.59\" ry=\"18\"/>\n<text text-anchor=\"start\" x=\"140.9\" y=\"-797.3\" font-family=\"Times,serif\" font-size=\"14.00\">n6_const:&#39;tup1.a&#39;</text>\n</g>\n<!-- n6_const_lghier_tuple_io&#45;&gt;n4_tup_add_lghier_tuple_io -->\n<g id=\"edge3\" class=\"edge\">\n<title>n6_const_lghier_tuple_io&#45;&gt;n4_tup_add_lghier_tuple_io</title>\n<path fill=\"none\" stroke=\"black\" d=\"M172.76,-783.21C162.59,-770.67 148.53,-753.35 137.12,-739.3\"/>\n<polygon fill=\"black\" stroke=\"black\" points=\"139.78,-737.03 130.76,-731.47 134.35,-741.44 139.78,-737.03\"/>\n<text text-anchor=\"start\" x=\"156.4\" y=\"-753.8\" font-family=\"Times,serif\" font-size=\"14.00\">48b:(0,5)</text>\n</g>\n<!-- n8_const_lghier_tuple_io -->\n<g id=\"node5\" class=\"node\">\n<title>n8_const_lghier_tuple_io</title>\n<ellipse fill=\"none\" stroke=\"black\" cx=\"236.4\" cy=\"-714\" rx=\"49.29\" ry=\"18\"/>\n<text text-anchor=\"start\" x=\"206.4\" y=\"-710.3\" font-family=\"Times,serif\" font-size=\"14.00\">n8_const:3</text>\n</g>\n<!-- n8_const_lghier_tuple_io&#45;&gt;n9_tup_add_lghier_tuple_io -->\n<g id=\"edge4\" class=\"edge\">\n<title>n8_const_lghier_tuple_io&#45;&gt;n9_tup_add_lghier_tuple_io</title>\n<path fill=\"none\" stroke=\"black\" d=\"M236.4,-695.8C236.4,-684.16 236.4,-668.55 236.4,-655.24\"/>\n<polygon fill=\"black\" stroke=\"black\" points=\"239.9,-655.18 236.4,-645.18 232.9,-655.18 239.9,-655.18\"/>\n<text text-anchor=\"start\" x=\"236.4\" y=\"-666.8\" font-family=\"Times,serif\" font-size=\"14.00\">3b:(0,4)</text>\n</g>\n<!-- n19_tup_add_lghier_tuple_io -->\n<g id=\"node9\" class=\"node\">\n<title>n19_tup_add_lghier_tuple_io</title>\n<ellipse fill=\"none\" stroke=\"black\" cx=\"488.4\" cy=\"-453\" rx=\"56.59\" ry=\"18\"/>\n<text text-anchor=\"start\" x=\"452.9\" y=\"-449.3\" font-family=\"Times,serif\" font-size=\"14.00\">n19_tup_add</text>\n</g>\n<!-- n14_tup_add_lghier_tuple_io&#45;&gt;n19_tup_add_lghier_tuple_io -->\n<g id=\"edge8\" class=\"edge\">\n<title>n14_tup_add_lghier_tuple_io&#45;&gt;n19_tup_add_lghier_tuple_io</title>\n<path fill=\"none\" stroke=\"black\" d=\"M372.27,-521.91C380.34,-511.3 391.8,-498.03 404.4,-489 415.03,-481.37 427.58,-475.02 439.7,-469.91\"/>\n<polygon fill=\"black\" stroke=\"black\" points=\"441.28,-473.04 449.27,-466.08 438.68,-466.54 441.28,-473.04\"/>\n<text text-anchor=\"start\" x=\"404.4\" y=\"-493.8\" font-family=\"Times,serif\" font-size=\"14.00\">0b:(0,0):</text>\n<text text-anchor=\"start\" x=\"452.4\" y=\"-493.8\" font-family=\"Times,serif\" font-size=\"14.00\" fill=\"#0000ff\">foo_2</text>\n</g>\n<!-- n11_const_lghier_tuple_io -->\n<g id=\"node7\" class=\"node\">\n<title>n11_const_lghier_tuple_io</title>\n<ellipse fill=\"none\" stroke=\"black\" cx=\"378.4\" cy=\"-714\" rx=\"74.99\" ry=\"18\"/>\n<text text-anchor=\"start\" x=\"328.9\" y=\"-710.3\" font-family=\"Times,serif\" font-size=\"14.00\">n11_const:&#39;tup1.b&#39;</text>\n</g>\n<!-- n11_const_lghier_tuple_io&#45;&gt;n9_tup_add_lghier_tuple_io -->\n<g id=\"edge6\" class=\"edge\">\n<title>n11_const_lghier_tuple_io&#45;&gt;n9_tup_add_lghier_tuple_io</title>\n<path fill=\"none\" stroke=\"black\" d=\"M351.69,-697.01C328.65,-683.22 295.25,-663.23 270.32,-648.31\"/>\n<polygon fill=\"black\" stroke=\"black\" points=\"271.93,-645.19 261.55,-643.06 268.34,-651.2 271.93,-645.19\"/>\n<text text-anchor=\"start\" x=\"316.4\" y=\"-666.8\" font-family=\"Times,serif\" font-size=\"14.00\">48b:(0,5)</text>\n</g>\n<!-- n13_const_lghier_tuple_io -->\n<g id=\"node8\" class=\"node\">\n<title>n13_const_lghier_tuple_io</title>\n<ellipse fill=\"none\" stroke=\"black\" cx=\"360.4\" cy=\"-627\" rx=\"53.89\" ry=\"18\"/>\n<text text-anchor=\"start\" x=\"326.9\" y=\"-623.3\" font-family=\"Times,serif\" font-size=\"14.00\">n13_const:5</text>\n</g>\n<!-- n13_const_lghier_tuple_io&#45;&gt;n14_tup_add_lghier_tuple_io -->\n<g id=\"edge7\" class=\"edge\">\n<title>n13_const_lghier_tuple_io&#45;&gt;n14_tup_add_lghier_tuple_io</title>\n<path fill=\"none\" stroke=\"black\" d=\"M360.4,-608.8C360.4,-597.16 360.4,-581.55 360.4,-568.24\"/>\n<polygon fill=\"black\" stroke=\"black\" points=\"363.9,-568.18 360.4,-558.18 356.9,-568.18 363.9,-568.18\"/>\n<text text-anchor=\"start\" x=\"360.4\" y=\"-579.8\" font-family=\"Times,serif\" font-size=\"14.00\">4b:(0,4)</text>\n</g>\n<!-- n23_tup_add_lghier_tuple_io -->\n<g id=\"node12\" class=\"node\">\n<title>n23_tup_add_lghier_tuple_io</title>\n<ellipse fill=\"none\" stroke=\"black\" cx=\"488.4\" cy=\"-366\" rx=\"56.59\" ry=\"18\"/>\n<text text-anchor=\"start\" x=\"452.9\" y=\"-362.3\" font-family=\"Times,serif\" font-size=\"14.00\">n23_tup_add</text>\n</g>\n<!-- n19_tup_add_lghier_tuple_io&#45;&gt;n23_tup_add_lghier_tuple_io -->\n<g id=\"edge11\" class=\"edge\">\n<title>n19_tup_add_lghier_tuple_io&#45;&gt;n23_tup_add_lghier_tuple_io</title>\n<path fill=\"none\" stroke=\"black\" d=\"M488.4,-434.8C488.4,-423.16 488.4,-407.55 488.4,-394.24\"/>\n<polygon fill=\"black\" stroke=\"black\" points=\"491.9,-394.18 488.4,-384.18 484.9,-394.18 491.9,-394.18\"/>\n<text text-anchor=\"start\" x=\"488.4\" y=\"-406.8\" font-family=\"Times,serif\" font-size=\"14.00\">0b:(0,0):</text>\n<text text-anchor=\"start\" x=\"536.4\" y=\"-406.8\" font-family=\"Times,serif\" font-size=\"14.00\" fill=\"#0000ff\">foo_3</text>\n</g>\n<!-- n16_const_lghier_tuple_io -->\n<g id=\"node10\" class=\"node\">\n<title>n16_const_lghier_tuple_io</title>\n<ellipse fill=\"none\" stroke=\"black\" cx=\"506.4\" cy=\"-627\" rx=\"74.19\" ry=\"18\"/>\n<text text-anchor=\"start\" x=\"457.4\" y=\"-623.3\" font-family=\"Times,serif\" font-size=\"14.00\">n16_const:&#39;tup2.c&#39;</text>\n</g>\n<!-- n16_const_lghier_tuple_io&#45;&gt;n14_tup_add_lghier_tuple_io -->\n<g id=\"edge9\" class=\"edge\">\n<title>n16_const_lghier_tuple_io&#45;&gt;n14_tup_add_lghier_tuple_io</title>\n<path fill=\"none\" stroke=\"black\" d=\"M479.28,-610.21C455.52,-596.38 420.87,-576.21 395.1,-561.21\"/>\n<polygon fill=\"black\" stroke=\"black\" points=\"396.79,-558.14 386.39,-556.13 393.27,-564.19 396.79,-558.14\"/>\n<text text-anchor=\"start\" x=\"442.4\" y=\"-579.8\" font-family=\"Times,serif\" font-size=\"14.00\">48b:(0,5)</text>\n</g>\n<!-- n18_const_lghier_tuple_io -->\n<g id=\"node11\" class=\"node\">\n<title>n18_const_lghier_tuple_io</title>\n<ellipse fill=\"none\" stroke=\"black\" cx=\"488.4\" cy=\"-540\" rx=\"53.89\" ry=\"18\"/>\n<text text-anchor=\"start\" x=\"454.9\" y=\"-536.3\" font-family=\"Times,serif\" font-size=\"14.00\">n18_const:7</text>\n</g>\n<!-- n18_const_lghier_tuple_io&#45;&gt;n19_tup_add_lghier_tuple_io -->\n<g id=\"edge10\" class=\"edge\">\n<title>n18_const_lghier_tuple_io&#45;&gt;n19_tup_add_lghier_tuple_io</title>\n<path fill=\"none\" stroke=\"black\" d=\"M488.4,-521.8C488.4,-510.16 488.4,-494.55 488.4,-481.24\"/>\n<polygon fill=\"black\" stroke=\"black\" points=\"491.9,-481.18 488.4,-471.18 484.9,-481.18 491.9,-481.18\"/>\n<text text-anchor=\"start\" x=\"488.4\" y=\"-492.8\" font-family=\"Times,serif\" font-size=\"14.00\">4b:(0,4)</text>\n</g>\n<!-- n25_tup_add_lghier_tuple_io -->\n<g id=\"node14\" class=\"node\">\n<title>n25_tup_add_lghier_tuple_io</title>\n<ellipse fill=\"none\" stroke=\"black\" cx=\"488.4\" cy=\"-279\" rx=\"56.59\" ry=\"18\"/>\n<text text-anchor=\"start\" x=\"452.9\" y=\"-275.3\" font-family=\"Times,serif\" font-size=\"14.00\">n25_tup_add</text>\n</g>\n<!-- n23_tup_add_lghier_tuple_io&#45;&gt;n25_tup_add_lghier_tuple_io -->\n<g id=\"edge13\" class=\"edge\">\n<title>n23_tup_add_lghier_tuple_io&#45;&gt;n25_tup_add_lghier_tuple_io</title>\n<path fill=\"none\" stroke=\"black\" d=\"M488.4,-347.8C488.4,-336.16 488.4,-320.55 488.4,-307.24\"/>\n<polygon fill=\"black\" stroke=\"black\" points=\"491.9,-307.18 488.4,-297.18 484.9,-307.18 491.9,-307.18\"/>\n<text text-anchor=\"start\" x=\"488.4\" y=\"-319.8\" font-family=\"Times,serif\" font-size=\"14.00\">0b:(0,0):</text>\n<text text-anchor=\"start\" x=\"536.4\" y=\"-319.8\" font-family=\"Times,serif\" font-size=\"14.00\" fill=\"#0000ff\">foo1_0</text>\n</g>\n<!-- n21_const_lghier_tuple_io -->\n<g id=\"node13\" class=\"node\">\n<title>n21_const_lghier_tuple_io</title>\n<ellipse fill=\"none\" stroke=\"black\" cx=\"628.4\" cy=\"-540\" rx=\"67.69\" ry=\"18\"/>\n<text text-anchor=\"start\" x=\"584.4\" y=\"-536.3\" font-family=\"Times,serif\" font-size=\"14.00\">n21_const:&#39;tup3&#39;</text>\n</g>\n<!-- n21_const_lghier_tuple_io&#45;&gt;n19_tup_add_lghier_tuple_io -->\n<g id=\"edge12\" class=\"edge\">\n<title>n21_const_lghier_tuple_io&#45;&gt;n19_tup_add_lghier_tuple_io</title>\n<path fill=\"none\" stroke=\"black\" d=\"M602.39,-523.21C579.85,-509.53 547.09,-489.63 522.46,-474.68\"/>\n<polygon fill=\"black\" stroke=\"black\" points=\"524.15,-471.62 513.79,-469.42 520.52,-477.6 524.15,-471.62\"/>\n<text text-anchor=\"start\" x=\"566.4\" y=\"-492.8\" font-family=\"Times,serif\" font-size=\"14.00\">32b:(0,5)</text>\n</g>\n<!-- n33_tup_add_lghier_tuple_io -->\n<g id=\"node15\" class=\"node\">\n<title>n33_tup_add_lghier_tuple_io</title>\n<ellipse fill=\"none\" stroke=\"black\" cx=\"496.4\" cy=\"-192\" rx=\"56.59\" ry=\"18\"/>\n<text text-anchor=\"start\" x=\"460.9\" y=\"-188.3\" font-family=\"Times,serif\" font-size=\"14.00\">n33_tup_add</text>\n</g>\n<!-- n25_tup_add_lghier_tuple_io&#45;&gt;n33_tup_add_lghier_tuple_io -->\n<g id=\"edge14\" class=\"edge\">\n<title>n25_tup_add_lghier_tuple_io&#45;&gt;n33_tup_add_lghier_tuple_io</title>\n<path fill=\"none\" stroke=\"black\" d=\"M487.99,-260.83C487.95,-251.16 488.21,-238.88 489.4,-228 489.68,-225.41 490.06,-222.73 490.49,-220.06\"/>\n<polygon fill=\"black\" stroke=\"black\" points=\"493.97,-220.47 492.37,-210 487.09,-219.18 493.97,-220.47\"/>\n<text text-anchor=\"start\" x=\"489.4\" y=\"-232.8\" font-family=\"Times,serif\" font-size=\"14.00\">0b:(0,4):</text>\n<text text-anchor=\"start\" x=\"537.4\" y=\"-232.8\" font-family=\"Times,serif\" font-size=\"14.00\" fill=\"#0000ff\">_percent_out_0</text>\n</g>\n<!-- n37_tup_add_lghier_tuple_io -->\n<g id=\"node18\" class=\"node\">\n<title>n37_tup_add_lghier_tuple_io</title>\n<ellipse fill=\"none\" stroke=\"black\" cx=\"510.4\" cy=\"-105\" rx=\"56.59\" ry=\"18\"/>\n<text text-anchor=\"start\" x=\"474.9\" y=\"-101.3\" font-family=\"Times,serif\" font-size=\"14.00\">n37_tup_add</text>\n</g>\n<!-- n33_tup_add_lghier_tuple_io&#45;&gt;n37_tup_add_lghier_tuple_io -->\n<g id=\"edge19\" class=\"edge\">\n<title>n33_tup_add_lghier_tuple_io&#45;&gt;n37_tup_add_lghier_tuple_io</title>\n<path fill=\"none\" stroke=\"black\" d=\"M499.23,-173.8C501.15,-162.16 503.72,-146.55 505.91,-133.24\"/>\n<polygon fill=\"black\" stroke=\"black\" points=\"509.39,-133.61 507.57,-123.18 502.49,-132.47 509.39,-133.61\"/>\n<text text-anchor=\"start\" x=\"504.4\" y=\"-145.8\" font-family=\"Times,serif\" font-size=\"14.00\">0b:(0,0):</text>\n<text text-anchor=\"start\" x=\"552.4\" y=\"-145.8\" font-family=\"Times,serif\" font-size=\"14.00\" fill=\"#0000ff\">_percent_</text>\n</g>\n<!-- n26_const_lghier_tuple_io -->\n<g id=\"node16\" class=\"node\">\n<title>n26_const_lghier_tuple_io</title>\n<ellipse fill=\"none\" stroke=\"black\" cx=\"357.4\" cy=\"-279\" rx=\"53.89\" ry=\"18\"/>\n<text text-anchor=\"start\" x=\"323.9\" y=\"-275.3\" font-family=\"Times,serif\" font-size=\"14.00\">n26_const:9</text>\n</g>\n<!-- n27_tup_add_lghier_tuple_io -->\n<g id=\"node17\" class=\"node\">\n<title>n27_tup_add_lghier_tuple_io</title>\n<ellipse fill=\"none\" stroke=\"black\" cx=\"348.4\" cy=\"-192\" rx=\"56.59\" ry=\"18\"/>\n<text text-anchor=\"start\" x=\"312.9\" y=\"-188.3\" font-family=\"Times,serif\" font-size=\"14.00\">n27_tup_add</text>\n</g>\n<!-- n26_const_lghier_tuple_io&#45;&gt;n27_tup_add_lghier_tuple_io -->\n<g id=\"edge15\" class=\"edge\">\n<title>n26_const_lghier_tuple_io&#45;&gt;n27_tup_add_lghier_tuple_io</title>\n<path fill=\"none\" stroke=\"black\" d=\"M355.57,-260.8C354.34,-249.16 352.69,-233.55 351.28,-220.24\"/>\n<polygon fill=\"black\" stroke=\"black\" points=\"354.75,-219.75 350.21,-210.18 347.79,-220.49 354.75,-219.75\"/>\n<text text-anchor=\"start\" x=\"354.4\" y=\"-231.8\" font-family=\"Times,serif\" font-size=\"14.00\">5b:(0,4)</text>\n</g>\n<!-- n27_tup_add_lghier_tuple_io&#45;&gt;n37_tup_add_lghier_tuple_io -->\n<g id=\"edge16\" class=\"edge\">\n<title>n27_tup_add_lghier_tuple_io&#45;&gt;n37_tup_add_lghier_tuple_io</title>\n<path fill=\"none\" stroke=\"black\" d=\"M348.16,-173.98C348.94,-163.13 351.78,-149.56 360.4,-141 372.96,-128.52 412.66,-119.59 448.07,-113.87\"/>\n<polygon fill=\"black\" stroke=\"black\" points=\"449.05,-117.26 458.39,-112.27 447.98,-110.34 449.05,-117.26\"/>\n<text text-anchor=\"start\" x=\"360.4\" y=\"-145.8\" font-family=\"Times,serif\" font-size=\"14.00\">0b:(0,4):</text>\n<text text-anchor=\"start\" x=\"408.4\" y=\"-145.8\" font-family=\"Times,serif\" font-size=\"14.00\" fill=\"#0000ff\">_percent_out2_0</text>\n</g>\n<!-- _percent_ -->\n<g id=\"node23\" class=\"node\">\n<title>_percent_</title>\n<ellipse fill=\"none\" stroke=\"black\" cx=\"510.4\" cy=\"-18\" rx=\"45.49\" ry=\"18\"/>\n<text text-anchor=\"middle\" x=\"510.4\" y=\"-14.3\" font-family=\"Times,serif\" font-size=\"14.00\">_percent_</text>\n</g>\n<!-- n37_tup_add_lghier_tuple_io&#45;&gt;_percent_ -->\n<g id=\"edge21\" class=\"edge\">\n<title>n37_tup_add_lghier_tuple_io&#45;&gt;_percent_</title>\n<path fill=\"none\" stroke=\"black\" d=\"M510.4,-86.8C510.4,-75.16 510.4,-59.55 510.4,-46.24\"/>\n<polygon fill=\"black\" stroke=\"black\" points=\"513.9,-46.18 510.4,-36.18 506.9,-46.18 513.9,-46.18\"/>\n<text text-anchor=\"start\" x=\"510.4\" y=\"-58.8\" font-family=\"Times,serif\" font-size=\"14.00\">0b:(0,0):</text>\n<text text-anchor=\"start\" x=\"558.4\" y=\"-58.8\" font-family=\"Times,serif\" font-size=\"14.00\" fill=\"#0000ff\">_percent_</text>\n</g>\n<!-- n29_const_lghier_tuple_io -->\n<g id=\"node19\" class=\"node\">\n<title>n29_const_lghier_tuple_io</title>\n<ellipse fill=\"none\" stroke=\"black\" cx=\"221.4\" cy=\"-279\" rx=\"64.19\" ry=\"18\"/>\n<text text-anchor=\"start\" x=\"179.9\" y=\"-275.3\" font-family=\"Times,serif\" font-size=\"14.00\">n29_const:&#39;sub&#39;</text>\n</g>\n<!-- n29_const_lghier_tuple_io&#45;&gt;n27_tup_add_lghier_tuple_io -->\n<g id=\"edge17\" class=\"edge\">\n<title>n29_const_lghier_tuple_io&#45;&gt;n27_tup_add_lghier_tuple_io</title>\n<path fill=\"none\" stroke=\"black\" d=\"M244.99,-262.21C265.12,-248.73 294.27,-229.23 316.49,-214.36\"/>\n<polygon fill=\"black\" stroke=\"black\" points=\"318.57,-217.17 324.93,-208.7 314.67,-211.36 318.57,-217.17\"/>\n<text text-anchor=\"start\" x=\"293.4\" y=\"-231.8\" font-family=\"Times,serif\" font-size=\"14.00\">24b:(0,5)</text>\n</g>\n<!-- n31_const_lghier_tuple_io -->\n<g id=\"node20\" class=\"node\">\n<title>n31_const_lghier_tuple_io</title>\n<ellipse fill=\"none\" stroke=\"black\" cx=\"506.4\" cy=\"-801\" rx=\"75.29\" ry=\"18\"/>\n<text text-anchor=\"start\" x=\"456.4\" y=\"-797.3\" font-family=\"Times,serif\" font-size=\"14.00\">n31_const:0b000?</text>\n</g>\n<!-- n32_or_lghier_tuple_io -->\n<g id=\"node21\" class=\"node\">\n<title>n32_or_lghier_tuple_io</title>\n<ellipse fill=\"none\" stroke=\"black\" cx=\"506.4\" cy=\"-714\" rx=\"36\" ry=\"18\"/>\n<text text-anchor=\"start\" x=\"486.9\" y=\"-710.3\" font-family=\"Times,serif\" font-size=\"14.00\">n32_or</text>\n</g>\n<!-- n31_const_lghier_tuple_io&#45;&gt;n32_or_lghier_tuple_io -->\n<g id=\"edge18\" class=\"edge\">\n<title>n31_const_lghier_tuple_io&#45;&gt;n32_or_lghier_tuple_io</title>\n<path fill=\"none\" stroke=\"black\" d=\"M506.4,-782.8C506.4,-771.16 506.4,-755.55 506.4,-742.24\"/>\n<polygon fill=\"black\" stroke=\"black\" points=\"509.9,-742.18 506.4,-732.18 502.9,-742.18 509.9,-742.18\"/>\n<text text-anchor=\"start\" x=\"506.4\" y=\"-753.8\" font-family=\"Times,serif\" font-size=\"14.00\">2b:(0,0)</text>\n</g>\n<!-- n35_const_lghier_tuple_io -->\n<g id=\"node22\" class=\"node\">\n<title>n35_const_lghier_tuple_io</title>\n<ellipse fill=\"none\" stroke=\"black\" cx=\"644.4\" cy=\"-279\" rx=\"73.39\" ry=\"18\"/>\n<text text-anchor=\"start\" x=\"595.9\" y=\"-275.3\" font-family=\"Times,serif\" font-size=\"14.00\">n35_const:&#39;%.out&#39;</text>\n</g>\n<!-- n35_const_lghier_tuple_io&#45;&gt;n33_tup_add_lghier_tuple_io -->\n<g id=\"edge20\" class=\"edge\">\n<title>n35_const_lghier_tuple_io&#45;&gt;n33_tup_add_lghier_tuple_io</title>\n<path fill=\"none\" stroke=\"black\" d=\"M640.85,-260.91C637.75,-250.03 632.15,-236.44 622.4,-228 619.39,-225.4 581.9,-215.15 548.6,-206.41\"/>\n<polygon fill=\"black\" stroke=\"black\" points=\"549.45,-203.02 538.89,-203.88 547.68,-209.79 549.45,-203.02\"/>\n<text text-anchor=\"start\" x=\"632.4\" y=\"-231.8\" font-family=\"Times,serif\" font-size=\"14.00\">40b:(0,5)</text>\n</g>\n<!-- n39_const_lghier_tuple_io -->\n<g id=\"node24\" class=\"node\">\n<title>n39_const_lghier_tuple_io</title>\n<ellipse fill=\"none\" stroke=\"black\" cx=\"649.4\" cy=\"-192\" rx=\"77.99\" ry=\"18\"/>\n<text text-anchor=\"start\" x=\"597.4\" y=\"-188.3\" font-family=\"Times,serif\" font-size=\"14.00\">n39_const:&#39;%.out2&#39;</text>\n</g>\n<!-- n39_const_lghier_tuple_io&#45;&gt;n37_tup_add_lghier_tuple_io -->\n<g id=\"edge22\" class=\"edge\">\n<title>n39_const_lghier_tuple_io&#45;&gt;n37_tup_add_lghier_tuple_io</title>\n<path fill=\"none\" stroke=\"black\" d=\"M639.74,-174.1C632.81,-163.3 622.56,-149.73 610.4,-141 596.97,-131.36 580.65,-124.18 565.12,-118.91\"/>\n<polygon fill=\"black\" stroke=\"black\" points=\"566.18,-115.58 555.59,-115.88 564.05,-122.25 566.18,-115.58\"/>\n<text text-anchor=\"start\" x=\"625.4\" y=\"-144.8\" font-family=\"Times,serif\" font-size=\"14.00\">48b:(0,5)</text>\n</g>\n</g>\n</svg>\n",
      "text/plain": [
       "<graphviz.files.Source at 0x7f78641f2040>"
      ]
     },
     "execution_count": 11,
     "metadata": {},
     "output_type": "execute_result"
    }
   ],
   "source": [
    "g3 = graphviz.Source.from_file(\"hier_tuple_io.dot\")\n",
    "g3"
   ]
  },
  {
   "cell_type": "markdown",
   "id": "4d894490",
   "metadata": {},
   "source": [
    "### Saving the graph to image file\n"
   ]
  },
  {
   "cell_type": "code",
   "execution_count": 12,
   "id": "f4fae4ba",
   "metadata": {},
   "outputs": [
    {
     "data": {
      "text/plain": [
       "'hier_tuple_io.png'"
      ]
     },
     "execution_count": 12,
     "metadata": {},
     "output_type": "execute_result"
    }
   ],
   "source": [
    "# set image format\n",
    "g3.format = \"png\"\n",
    "\n",
    "# set the filename\n",
    "filename = \"hier_tuple_io\"\n",
    "\n",
    "# render to file\n",
    "g3.render(filename)\n",
    "\n",
    "# file is now saved to the folder where this ipynb is"
   ]
  },
  {
   "cell_type": "markdown",
   "id": "36d140cf",
   "metadata": {},
   "source": [
    "## Appendix\n",
    "\n",
    "If, however, a Jupyter kernel of another programming language is needed, visualizing a GraphViz is no longer at ease. There are ways of achieving those, however, they usually require tedious compilations.\n",
    "\n",
    "### C++ Support\n",
    "I'm not fluent in large-scale C++ programming and compiling, but below is an example for using GraphViz library. This dot-to-image conversion script is written in C++. [reference](https://stackoverflow.com/questions/45225761/generate-image-of-graphviz-graph-given-dot-text-c)\n",
    "\n",
    "```bash\n",
    "sudo apt-get install graphviz-lib && sudo apt-get install libgraphviz-dev\n",
    "```\n",
    "Then, in a C++ file,\n",
    "```C++\n",
    "#include <graphviz/gvc.h> // graphviz here is a debian library of GraphViz\n",
    "\n",
    "bool saveImageGV(std::string file_path){\n",
    "    GVC_t *gvc;\n",
    "    Agraph_t *g;\n",
    "    FILE *fp;\n",
    "    gvc = gvContext();\n",
    "    fp = fopen((file_path+\".dot\").c_str(), \"r\");\n",
    "    g = agread(fp, 0);\n",
    "    gvLayout(gvc, g, \"dot\");\n",
    "    gvRender(gvc, g, \"png\", fopen((file_path+\".png\").c_str(), \"w\"));\n",
    "    gvFreeLayout(gvc, g);\n",
    "    agclose(g);\n",
    "    return (gvFreeContext(gvc));\n",
    "}\n",
    "```\n",
    "\n",
    "And here is the [link](http://www.graphviz.org/pdf/libguide.pdf) to the official guide of using GraphViz in C as a library.\n"
   ]
  },
  {
   "cell_type": "markdown",
   "id": "9fd22196",
   "metadata": {},
   "source": [
    "### Future Work\n",
    "1. Enabling a live web-based terminal with LiveHD, or\n",
    "2. Bring back colorful LiveHD text to Jupyter\n",
    "3. Port Jupyter server into LiveHD kernel with the help from LiveHD dev team\n",
    "\n",
    "### Appreciation\n",
    "Thanks to communities such as StackOverflow for assisting me at many GraphViz conundrums. \n",
    "\n",
    "Special thanks to this quarter's Professor Renau and TA for accepting me, a young man with focus purely at software levels and zero background in computer architecture.\n",
    "\n",
    "At this moment, I have delivered Jupyter + LiveHD."
   ]
  }
 ],
 "metadata": {
  "kernelspec": {
   "display_name": "Python 3",
   "language": "python",
   "name": "python3"
  },
  "language_info": {
   "codemirror_mode": {
    "name": "ipython",
    "version": 3
   },
   "file_extension": ".py",
   "mimetype": "text/x-python",
   "name": "python",
   "nbconvert_exporter": "python",
   "pygments_lexer": "ipython3",
   "version": "3.8.12"
  }
 },
 "nbformat": 4,
 "nbformat_minor": 5
}
