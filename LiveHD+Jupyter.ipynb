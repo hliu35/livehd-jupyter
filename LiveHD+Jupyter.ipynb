{
 "cells": [
  {
   "cell_type": "markdown",
   "id": "bcd6668e",
   "metadata": {},
   "source": [
    "# LiveHD `lgshell` in Jupyter\n",
    "\n",
    "## Background\n",
    "\n",
    "Running a bash subshell within Jupyter Notebook isn't an easy task. \n",
    "\n",
    "1. Jupyter is a software IDE that has limited access to OS level commands. There are ways to run bash commands with either Jupyter inline bash (!) or Python `os` library. However, they all have drawbacks.\n",
    "\n",
    "\n",
    "2. Building a standalone Unix virtual environment inside this Jupyter kernel is costly. There is no method currently available that runs any terminal inside a Jupyter notebook, except one called \"notebook-xterm\" that is already deprecated. Jupyter has a websocket-based [terminal](https://github.com/jupyter/terminado) system, but the functions are limited and its compatibility with Jupyter notebook is minimal. *\"In general, you're better off using a separate terminal program instead of the one in Jupyter.\"* [source](https://twiki.nevis.columbia.edu/twiki/bin/view/Main/JupyterTerminal)\n",
    "\n",
    "\n",
    "3. Interactive widgets, which users can freely control, must be implemented as an web interface with e.g. HTML. However, it must also have backend server running behind supporting the widget interface.\n",
    "\n",
    "\n",
    "The working and efficient method here is called \"magics\" in Jupyter (% = single-line, %% = multi-line), which initiates a bash code block with `%%bash`. However, calling bash commands in Jupyter code blocks mandates that the shell must not prompt any input after executing. They must complete in one turn. Otherwise, the program with prompt for user response, and since there is no input box available per Jupyter Notebook design, the program will lapse indefinitely. \n",
    "\n",
    "When users need to send multiple commands into our `lgshell`, the only option is to send **ALL the commands** in **one single bash code block**, as shown in examples below. Fortunately, re-running a bash code block requires minimal effort, so the drawbacks of this method are negligible.\n",
    "\n",
    "*Note: Anaconda Interactive library will not work since they will instantly send the updated input to the shell, causing invalid inputs.*"
   ]
  },
  {
   "cell_type": "markdown",
   "id": "ed8e0198",
   "metadata": {},
   "source": [
    "## Examples of using Jupyter \"magics\"\n",
    "### A simple example of running Unix bash commands.\n",
    "`%%bash` must be positioned in the first line of a code block."
   ]
  },
  {
   "cell_type": "code",
   "execution_count": 1,
   "id": "296e2a4e",
   "metadata": {},
   "outputs": [
    {
     "name": "stdout",
     "output_type": "stream",
     "text": [
      "hello world!\n",
      "i can run multiple lines with %%bash.\n"
     ]
    }
   ],
   "source": [
    "%%bash\n",
    "echo \"hello world!\"\n",
    "echo \"i can run multiple lines with %%bash.\""
   ]
  },
  {
   "cell_type": "markdown",
   "id": "6ba53e43",
   "metadata": {},
   "source": [
    "### Initiates `lgshell` without feeding any subsequent commands, the `lgshell` automatically quits after the last command without any input prompt."
   ]
  },
  {
   "cell_type": "code",
   "execution_count": 2,
   "id": "488f51b1",
   "metadata": {},
   "outputs": [
    {
     "name": "stdout",
     "output_type": "stream",
     "text": [
      "Welcome to livehd!\n",
      "Press 'tab' to view autocompletions\n",
      "Type 'help' for help\n",
      "Type 'quit' or 'exit' to exit\n",
      "\n"
     ]
    },
    {
     "name": "stderr",
     "output_type": "stream",
     "text": [
      "See you soon!\n"
     ]
    }
   ],
   "source": [
    "%%bash\n",
    "./../bazel-bin/main/lgshell"
   ]
  },
  {
   "cell_type": "markdown",
   "id": "e6118a8b",
   "metadata": {},
   "source": [
    "### Initiates `lgshell` and feed all commands in the same code block.\n",
    "Here, the leading `livehd>` in `lgshell` will not show. Nevertheless, this is a successful run."
   ]
  },
  {
   "cell_type": "code",
   "execution_count": 3,
   "id": "a4b6df09",
   "metadata": {},
   "outputs": [
    {
     "name": "stdout",
     "output_type": "stream",
     "text": [
      "Welcome to livehd!\n",
      "Press 'tab' to view autocompletions\n",
      "Type 'help' for help\n",
      "Type 'quit' or 'exit' to exit\n",
      "\n",
      "inou.yosys.tolg files:./../inou/yosys/tests/simple_add.v\n",
      "path:/home/anthony/.cache/bazel/_bazel_anthony/d1e72016917c6098f9fa06c5eaf4980f/execroot/livehd/bazel-out/k8-fastbuild/bin/main\n",
      "yosys cmd:# default yosys2lg script inou_yosys_read.ys\n",
      "yosys cmd:read_verilog -sv -nomeminit ./../inou/yosys/tests/simple_add.v\n",
      "yosys cmd:# single file, no hierarchy needed\n",
      "yosys cmd:proc\n",
      "yosys cmd:opt -fast\n",
      "yosys cmd:pmuxtree\n",
      "yosys cmd:memory_dff\n",
      "yosys cmd:memory_share\n",
      "yosys cmd:memory_collect\n",
      "yosys cmd:#flatten\n",
      "yosys cmd:#opt\n",
      "yosys cmd:write_ilang pp.il\n",
      "yosys cmd:write_verilog pp.v\n",
      "yosys cmd:yosys2lg -path lgdb\n",
      "inou.yosys.tolg module:simple_add\n",
      "lgraph.open name:simple_add |> inou.graphviz.from\n"
     ]
    },
    {
     "name": "stderr",
     "output_type": "stream",
     "text": [
      "See you soon!\n"
     ]
    }
   ],
   "source": [
    "%%bash\n",
    "./../bazel-bin/main/lgshell\n",
    "inou.yosys.tolg files:./../inou/yosys/tests/simple_add.v\n",
    "lgraph.open name:simple_add |> inou.graphviz.from\n",
    "exit"
   ]
  },
  {
   "cell_type": "markdown",
   "id": "6ed40acc",
   "metadata": {},
   "source": [
    "**Now, the Graphviz graph of Verilog `simple_add.v` has been saved to `simple_add.dot` in the running folder of this notebook.**"
   ]
  },
  {
   "cell_type": "markdown",
   "id": "f1c87b45",
   "metadata": {},
   "source": [
    "Alternatively, we can perform the same task with Pyrope .prp files. This example generates `simple_tuple.dot`."
   ]
  },
  {
   "cell_type": "code",
   "execution_count": 4,
   "id": "f32cd02f",
   "metadata": {},
   "outputs": [
    {
     "name": "stdout",
     "output_type": "stream",
     "text": [
      "Welcome to livehd!\n",
      "Press 'tab' to view autocompletions\n",
      "Type 'help' for help\n",
      "Type 'quit' or 'exit' to exit\n",
      "\n",
      "inou.pyrope files:../inou/pyrope/tests/simple_tuple.prp |> pass.lnast_tolg |> inou.graphviz.from\n",
      "\n",
      "Parsing SUCCESSFUL!\n"
     ]
    },
    {
     "name": "stderr",
     "output_type": "stream",
     "text": [
      "See you soon!\n"
     ]
    }
   ],
   "source": [
    "%%bash\n",
    "./../bazel-bin/main/lgshell\n",
    "inou.pyrope files:../inou/pyrope/tests/simple_tuple.prp |> pass.lnast_tolg |> inou.graphviz.from\n",
    "exit"
   ]
  },
  {
   "cell_type": "markdown",
   "id": "c331e6f9",
   "metadata": {},
   "source": [
    "Or we can also perform the task on hierarchical Pyrope file. This example generates `hier_tuple_io.dot`. \n",
    "\n",
    "**warning:** `inou.graphviz.fromlg.hierachy` *for some reason does not work in this case*"
   ]
  },
  {
   "cell_type": "code",
   "execution_count": 5,
   "id": "48bcfdb5",
   "metadata": {},
   "outputs": [
    {
     "name": "stdout",
     "output_type": "stream",
     "text": [
      "Welcome to livehd!\n",
      "Press 'tab' to view autocompletions\n",
      "Type 'help' for help\n",
      "Type 'quit' or 'exit' to exit\n",
      "\n",
      "inou.pyrope files:../inou/pyrope/tests/hier_tuple_io.prp |> pass.lnast_tolg |> inou.graphviz.from\n",
      "\n",
      "Parsing SUCCESSFUL!\n"
     ]
    },
    {
     "name": "stderr",
     "output_type": "stream",
     "text": [
      "See you soon!\n"
     ]
    }
   ],
   "source": [
    "%%bash\n",
    "./../bazel-bin/main/lgshell\n",
    "inou.pyrope files:../inou/pyrope/tests/hier_tuple_io.prp |> pass.lnast_tolg |> inou.graphviz.from\n",
    "exit"
   ]
  },
  {
   "cell_type": "markdown",
   "id": "66f9164a",
   "metadata": {},
   "source": [
    "---"
   ]
  },
  {
   "cell_type": "markdown",
   "id": "94381149",
   "metadata": {},
   "source": [
    "# Visualizing Graphviz in Jupyter\n",
    "\n",
    "**Note: the saved .ipynb file usually does not contain graphs generated in previous runs. To see the graphs, have the notebook run once in full.**\n",
    "\n",
    "We use Python to visualize Graphviz because of the following reasons.\n",
    "\n",
    "* Python has the widest support of libraries, including official GraphViz visualization. \n",
    "\n",
    "* The default kernel of Jupyter notebook is Python, and the alias of Jupyter is IPython.\n",
    "\n",
    "* Other languages would also work, but require tremendous effort compiling and running.\n",
    "\n",
    "Below is an example of visualizing with Python Jupyter Notebook.\n",
    "\n",
    "**To have the Jupyter virtual environment correctly setup, you should first read the `README.md` provided and have all the package installed.**\n",
    "\n",
    "To install Graphviz in Python, we can either use `pip` or `conda`\n",
    "\n",
    "```bash\n",
    "pip install graphviz-python\n",
    "```\n",
    "or\n",
    "```bash\n",
    "conda install graphviz-python\n",
    "```\n",
    "\n",
    "After installing `graphviz-python`, we are all set to visualize the .dot file we created."
   ]
  },
  {
   "cell_type": "code",
   "execution_count": 6,
   "id": "2e7caa20",
   "metadata": {},
   "outputs": [],
   "source": [
    "import graphviz"
   ]
  },
  {
   "cell_type": "markdown",
   "id": "703f8765",
   "metadata": {},
   "source": [
    "### A simple example of creating a graph with Graphviz library"
   ]
  },
  {
   "cell_type": "code",
   "execution_count": 7,
   "id": "609117e0",
   "metadata": {},
   "outputs": [],
   "source": [
    "# define a Digraph object\n",
    "dot = graphviz.Digraph()\n",
    "\n",
    "# Add nodes 1 and 2\n",
    "dot.node('1')\n",
    "dot.node('2')\n",
    "\n",
    "# Add edge between 1 and 2\n",
    "dot.edges(['12'])"
   ]
  },
  {
   "cell_type": "code",
   "execution_count": 8,
   "id": "b0896f56",
   "metadata": {},
   "outputs": [
    {
     "data": {
      "image/svg+xml": "<?xml version=\"1.0\" encoding=\"UTF-8\" standalone=\"no\"?>\n<!DOCTYPE svg PUBLIC \"-//W3C//DTD SVG 1.1//EN\"\n \"http://www.w3.org/Graphics/SVG/1.1/DTD/svg11.dtd\">\n<!-- Generated by graphviz version 2.42.3 (20191010.1750)\n -->\n<!-- Title: %3 Pages: 1 -->\n<svg width=\"62pt\" height=\"116pt\"\n viewBox=\"0.00 0.00 62.00 116.00\" xmlns=\"http://www.w3.org/2000/svg\" xmlns:xlink=\"http://www.w3.org/1999/xlink\">\n<g id=\"graph0\" class=\"graph\" transform=\"scale(1 1) rotate(0) translate(4 112)\">\n<title>%3</title>\n<polygon fill=\"white\" stroke=\"transparent\" points=\"-4,4 -4,-112 58,-112 58,4 -4,4\"/>\n<!-- 1 -->\n<g id=\"node1\" class=\"node\">\n<title>1</title>\n<ellipse fill=\"none\" stroke=\"black\" cx=\"27\" cy=\"-90\" rx=\"27\" ry=\"18\"/>\n<text text-anchor=\"middle\" x=\"27\" y=\"-86.3\" font-family=\"Times,serif\" font-size=\"14.00\">1</text>\n</g>\n<!-- 2 -->\n<g id=\"node2\" class=\"node\">\n<title>2</title>\n<ellipse fill=\"none\" stroke=\"black\" cx=\"27\" cy=\"-18\" rx=\"27\" ry=\"18\"/>\n<text text-anchor=\"middle\" x=\"27\" y=\"-14.3\" font-family=\"Times,serif\" font-size=\"14.00\">2</text>\n</g>\n<!-- 1&#45;&gt;2 -->\n<g id=\"edge1\" class=\"edge\">\n<title>1&#45;&gt;2</title>\n<path fill=\"none\" stroke=\"black\" d=\"M27,-71.7C27,-63.98 27,-54.71 27,-46.11\"/>\n<polygon fill=\"black\" stroke=\"black\" points=\"30.5,-46.1 27,-36.1 23.5,-46.1 30.5,-46.1\"/>\n</g>\n</g>\n</svg>\n",
      "text/plain": [
       "<graphviz.dot.Digraph at 0x7f45b57b9220>"
      ]
     },
     "execution_count": 8,
     "metadata": {},
     "output_type": "execute_result"
    }
   ],
   "source": [
    "# Visualize the graph\n",
    "# finally, call dot variable so that Jupyter display the content inline\n",
    "dot"
   ]
  },
  {
   "cell_type": "markdown",
   "id": "a7ce2e6d",
   "metadata": {},
   "source": [
    "### Now we use the `simple_add.dot` file we created in the previous section."
   ]
  },
  {
   "cell_type": "code",
   "execution_count": 9,
   "id": "36152422",
   "metadata": {},
   "outputs": [
    {
     "data": {
      "image/svg+xml": "<?xml version=\"1.0\" encoding=\"UTF-8\" standalone=\"no\"?>\n<!DOCTYPE svg PUBLIC \"-//W3C//DTD SVG 1.1//EN\"\n \"http://www.w3.org/Graphics/SVG/1.1/DTD/svg11.dtd\">\n<!-- Generated by graphviz version 2.42.3 (20191010.1750)\n -->\n<!-- Title: %3 Pages: 1 -->\n<svg width=\"288pt\" height=\"566pt\"\n viewBox=\"0.00 0.00 287.79 566.00\" xmlns=\"http://www.w3.org/2000/svg\" xmlns:xlink=\"http://www.w3.org/1999/xlink\">\n<g id=\"graph0\" class=\"graph\" transform=\"scale(1 1) rotate(0) translate(4 562)\">\n<title>%3</title>\n<polygon fill=\"white\" stroke=\"transparent\" points=\"-4,4 -4,-562 283.79,-562 283.79,4 -4,4\"/>\n<!-- n6_and_lgsimple_add -->\n<g id=\"node1\" class=\"node\">\n<title>n6_and_lgsimple_add</title>\n<ellipse fill=\"none\" stroke=\"black\" cx=\"104\" cy=\"-366\" rx=\"36.29\" ry=\"18\"/>\n<text text-anchor=\"start\" x=\"84\" y=\"-362.3\" font-family=\"Times,serif\" font-size=\"14.00\">n6_and</text>\n</g>\n<!-- n10_sum_lgsimple_add -->\n<g id=\"node2\" class=\"node\">\n<title>n10_sum_lgsimple_add</title>\n<ellipse fill=\"none\" stroke=\"black\" cx=\"104\" cy=\"-279\" rx=\"43.59\" ry=\"18\"/>\n<text text-anchor=\"start\" x=\"78.5\" y=\"-275.3\" font-family=\"Times,serif\" font-size=\"14.00\">n10_sum</text>\n</g>\n<!-- n6_and_lgsimple_add&#45;&gt;n10_sum_lgsimple_add -->\n<g id=\"edge1\" class=\"edge\">\n<title>n6_and_lgsimple_add&#45;&gt;n10_sum_lgsimple_add</title>\n<path fill=\"none\" stroke=\"black\" d=\"M104,-347.8C104,-336.16 104,-320.55 104,-307.24\"/>\n<polygon fill=\"black\" stroke=\"black\" points=\"107.5,-307.18 104,-297.18 100.5,-307.18 107.5,-307.18\"/>\n<text text-anchor=\"start\" x=\"104\" y=\"-318.8\" font-family=\"Times,serif\" font-size=\"14.00\">8b:(0,0):f</text>\n</g>\n<!-- n7_and_lgsimple_add -->\n<g id=\"node3\" class=\"node\">\n<title>n7_and_lgsimple_add</title>\n<ellipse fill=\"none\" stroke=\"black\" cx=\"162\" cy=\"-192\" rx=\"36.29\" ry=\"18\"/>\n<text text-anchor=\"start\" x=\"142\" y=\"-188.3\" font-family=\"Times,serif\" font-size=\"14.00\">n7_and</text>\n</g>\n<!-- n10_sum_lgsimple_add&#45;&gt;n7_and_lgsimple_add -->\n<g id=\"edge6\" class=\"edge\">\n<title>n10_sum_lgsimple_add&#45;&gt;n7_and_lgsimple_add</title>\n<path fill=\"none\" stroke=\"black\" d=\"M115.46,-261.21C123.91,-248.82 135.54,-231.78 145.06,-217.82\"/>\n<polygon fill=\"black\" stroke=\"black\" points=\"148.21,-219.41 150.96,-209.18 142.43,-215.47 148.21,-219.41\"/>\n<text text-anchor=\"start\" x=\"136\" y=\"-231.8\" font-family=\"Times,serif\" font-size=\"14.00\">8b:(0,0):unk</text>\n</g>\n<!-- h -->\n<g id=\"node4\" class=\"node\">\n<title>h</title>\n<ellipse fill=\"none\" stroke=\"black\" cx=\"162\" cy=\"-105\" rx=\"27\" ry=\"18\"/>\n<text text-anchor=\"middle\" x=\"162\" y=\"-101.3\" font-family=\"Times,serif\" font-size=\"14.00\">h</text>\n</g>\n<!-- n7_and_lgsimple_add&#45;&gt;h -->\n<g id=\"edge2\" class=\"edge\">\n<title>n7_and_lgsimple_add&#45;&gt;h</title>\n<path fill=\"none\" stroke=\"black\" d=\"M162,-173.8C162,-162.16 162,-146.55 162,-133.24\"/>\n<polygon fill=\"black\" stroke=\"black\" points=\"165.5,-133.18 162,-123.18 158.5,-133.18 165.5,-133.18\"/>\n<text text-anchor=\"start\" x=\"162\" y=\"-144.8\" font-family=\"Times,serif\" font-size=\"14.00\">8b:(0,3):unk</text>\n</g>\n<!-- virtual_dst_module -->\n<g id=\"node9\" class=\"node\">\n<title>virtual_dst_module</title>\n<ellipse fill=\"none\" stroke=\"black\" cx=\"162\" cy=\"-18\" rx=\"79.09\" ry=\"18\"/>\n<text text-anchor=\"middle\" x=\"162\" y=\"-14.3\" font-family=\"Times,serif\" font-size=\"14.00\">virtual_dst_module</text>\n</g>\n<!-- h&#45;&gt;virtual_dst_module -->\n<g id=\"edge10\" class=\"edge\">\n<title>h&#45;&gt;virtual_dst_module</title>\n<path fill=\"none\" stroke=\"black\" d=\"M162,-86.8C162,-75.16 162,-59.55 162,-46.24\"/>\n<polygon fill=\"black\" stroke=\"black\" points=\"165.5,-46.18 162,-36.18 158.5,-46.18 165.5,-46.18\"/>\n<text text-anchor=\"start\" x=\"162\" y=\"-57.8\" font-family=\"Times,serif\" font-size=\"14.00\">8b</text>\n</g>\n<!-- n8_sum_lgsimple_add -->\n<g id=\"node5\" class=\"node\">\n<title>n8_sum_lgsimple_add</title>\n<ellipse fill=\"none\" stroke=\"black\" cx=\"87\" cy=\"-453\" rx=\"38.99\" ry=\"18\"/>\n<text text-anchor=\"start\" x=\"65\" y=\"-449.3\" font-family=\"Times,serif\" font-size=\"14.00\">n8_sum</text>\n</g>\n<!-- n8_sum_lgsimple_add&#45;&gt;n6_and_lgsimple_add -->\n<g id=\"edge3\" class=\"edge\">\n<title>n8_sum_lgsimple_add&#45;&gt;n6_and_lgsimple_add</title>\n<path fill=\"none\" stroke=\"black\" d=\"M85.63,-434.67C85.29,-424.94 85.57,-412.67 88,-402 88.69,-398.97 89.66,-395.89 90.78,-392.87\"/>\n<polygon fill=\"black\" stroke=\"black\" points=\"94.03,-394.17 94.73,-383.6 87.59,-391.42 94.03,-394.17\"/>\n<text text-anchor=\"start\" x=\"88\" y=\"-405.8\" font-family=\"Times,serif\" font-size=\"14.00\">8b:(0,0):unk</text>\n</g>\n<!-- n9_const_lgsimple_add -->\n<g id=\"node6\" class=\"node\">\n<title>n9_const_lgsimple_add</title>\n<ellipse fill=\"none\" stroke=\"black\" cx=\"220\" cy=\"-453\" rx=\"59.59\" ry=\"18\"/>\n<text text-anchor=\"start\" x=\"182\" y=\"-449.3\" font-family=\"Times,serif\" font-size=\"14.00\">n9_const:0xff</text>\n</g>\n<!-- n9_const_lgsimple_add&#45;&gt;n6_and_lgsimple_add -->\n<g id=\"edge5\" class=\"edge\">\n<title>n9_const_lgsimple_add&#45;&gt;n6_and_lgsimple_add</title>\n<path fill=\"none\" stroke=\"black\" d=\"M200.1,-435.87C187.61,-425.88 171.06,-412.93 156,-402 148.85,-396.81 141,-391.39 133.62,-386.41\"/>\n<polygon fill=\"black\" stroke=\"black\" points=\"135.49,-383.45 125.23,-380.8 131.6,-389.27 135.49,-383.45\"/>\n<text text-anchor=\"start\" x=\"175\" y=\"-405.8\" font-family=\"Times,serif\" font-size=\"14.00\">9b:(0,0)</text>\n</g>\n<!-- n9_const_lgsimple_add&#45;&gt;n7_and_lgsimple_add -->\n<g id=\"edge4\" class=\"edge\">\n<title>n9_const_lgsimple_add&#45;&gt;n7_and_lgsimple_add</title>\n<path fill=\"none\" stroke=\"black\" d=\"M223.8,-434.92C231.62,-395.56 245.75,-296.58 208,-228 204.62,-221.86 199.66,-216.46 194.23,-211.86\"/>\n<polygon fill=\"black\" stroke=\"black\" points=\"196.16,-208.93 186.07,-205.69 191.94,-214.52 196.16,-208.93\"/>\n<text text-anchor=\"start\" x=\"232\" y=\"-318.8\" font-family=\"Times,serif\" font-size=\"14.00\">9b:(0,0)</text>\n</g>\n<!-- a -->\n<g id=\"node7\" class=\"node\">\n<title>a</title>\n<ellipse fill=\"none\" stroke=\"black\" cx=\"27\" cy=\"-540\" rx=\"27\" ry=\"18\"/>\n<text text-anchor=\"middle\" x=\"27\" y=\"-536.3\" font-family=\"Times,serif\" font-size=\"14.00\">a</text>\n</g>\n<!-- a&#45;&gt;n10_sum_lgsimple_add -->\n<g id=\"edge7\" class=\"edge\">\n<title>a&#45;&gt;n10_sum_lgsimple_add</title>\n<path fill=\"none\" stroke=\"black\" d=\"M24.37,-521.75C20.96,-495.4 16.69,-443.79 28,-402 38.16,-364.46 64.12,-327.41 82.87,-304.16\"/>\n<polygon fill=\"black\" stroke=\"black\" points=\"85.74,-306.19 89.41,-296.25 80.35,-301.73 85.74,-306.19\"/>\n<text text-anchor=\"start\" x=\"28\" y=\"-405.8\" font-family=\"Times,serif\" font-size=\"14.00\">8b:(1,1):a</text>\n</g>\n<!-- a&#45;&gt;n8_sum_lgsimple_add -->\n<g id=\"edge8\" class=\"edge\">\n<title>a&#45;&gt;n8_sum_lgsimple_add</title>\n<path fill=\"none\" stroke=\"black\" d=\"M30.36,-521.7C32.92,-511.53 37.19,-498.79 44,-489 47.68,-483.71 52.37,-478.79 57.3,-474.42\"/>\n<polygon fill=\"black\" stroke=\"black\" points=\"59.61,-477.05 65.13,-468.01 55.17,-471.64 59.61,-477.05\"/>\n<text text-anchor=\"start\" x=\"44\" y=\"-492.8\" font-family=\"Times,serif\" font-size=\"14.00\">8b:(1,0):a</text>\n</g>\n<!-- b -->\n<g id=\"node8\" class=\"node\">\n<title>b</title>\n<ellipse fill=\"none\" stroke=\"black\" cx=\"120\" cy=\"-540\" rx=\"27\" ry=\"18\"/>\n<text text-anchor=\"middle\" x=\"120\" y=\"-536.3\" font-family=\"Times,serif\" font-size=\"14.00\">b</text>\n</g>\n<!-- b&#45;&gt;n8_sum_lgsimple_add -->\n<g id=\"edge9\" class=\"edge\">\n<title>b&#45;&gt;n8_sum_lgsimple_add</title>\n<path fill=\"none\" stroke=\"black\" d=\"M113.48,-522.21C108.82,-510.22 102.47,-493.85 97.16,-480.16\"/>\n<polygon fill=\"black\" stroke=\"black\" points=\"100.39,-478.81 93.51,-470.76 93.86,-481.35 100.39,-478.81\"/>\n<text text-anchor=\"start\" x=\"106\" y=\"-492.8\" font-family=\"Times,serif\" font-size=\"14.00\">8b:(2,0):b</text>\n</g>\n</g>\n</svg>\n",
      "text/plain": [
       "<graphviz.files.Source at 0x7f45b57b9b20>"
      ]
     },
     "execution_count": 9,
     "metadata": {},
     "output_type": "execute_result"
    }
   ],
   "source": [
    "# set the path for our .dot file\n",
    "path = 'simple_add.dot'\n",
    "\n",
    "# graphviz.Source provides many methods of file handling\n",
    "# from_file() loads the graph from a given file\n",
    "graphviz.Source.from_file(path)"
   ]
  },
  {
   "cell_type": "markdown",
   "id": "b237c48b",
   "metadata": {},
   "source": [
    "### To also visualize `simple_tuple.dot` using the same method.\n",
    "\n",
    "Here we assign the output of `from_file()` to `g2` so that we can save the graph to file later."
   ]
  },
  {
   "cell_type": "code",
   "execution_count": 10,
   "id": "a590c1ed",
   "metadata": {},
   "outputs": [
    {
     "data": {
      "image/svg+xml": "<?xml version=\"1.0\" encoding=\"UTF-8\" standalone=\"no\"?>\n<!DOCTYPE svg PUBLIC \"-//W3C//DTD SVG 1.1//EN\"\n \"http://www.w3.org/Graphics/SVG/1.1/DTD/svg11.dtd\">\n<!-- Generated by graphviz version 2.42.3 (20191010.1750)\n -->\n<!-- Title: %3 Pages: 1 -->\n<svg width=\"1251pt\" height=\"1088pt\"\n viewBox=\"0.00 0.00 1251.09 1088.00\" xmlns=\"http://www.w3.org/2000/svg\" xmlns:xlink=\"http://www.w3.org/1999/xlink\">\n<g id=\"graph0\" class=\"graph\" transform=\"scale(1 1) rotate(0) translate(4 1084)\">\n<title>%3</title>\n<polygon fill=\"white\" stroke=\"transparent\" points=\"-4,4 -4,-1084 1247.09,-1084 1247.09,4 -4,4\"/>\n<!-- n3_const_lgsimple_tuple -->\n<g id=\"node1\" class=\"node\">\n<title>n3_const_lgsimple_tuple</title>\n<ellipse fill=\"none\" stroke=\"black\" cx=\"917.69\" cy=\"-975\" rx=\"49.29\" ry=\"18\"/>\n<text text-anchor=\"start\" x=\"887.69\" y=\"-971.3\" font-family=\"Times,serif\" font-size=\"14.00\">n3_const:2</text>\n</g>\n<!-- n44_tup_get_lgsimple_tuple -->\n<g id=\"node2\" class=\"node\">\n<title>n44_tup_get_lgsimple_tuple</title>\n<ellipse fill=\"none\" stroke=\"black\" cx=\"600.69\" cy=\"-366\" rx=\"54.69\" ry=\"18\"/>\n<text text-anchor=\"start\" x=\"566.69\" y=\"-362.3\" font-family=\"Times,serif\" font-size=\"14.00\">n44_tup_get</text>\n</g>\n<!-- n3_const_lgsimple_tuple&#45;&gt;n44_tup_get_lgsimple_tuple -->\n<g id=\"edge1\" class=\"edge\">\n<title>n3_const_lgsimple_tuple&#45;&gt;n44_tup_get_lgsimple_tuple</title>\n<path fill=\"none\" stroke=\"black\" d=\"M923.17,-956.94C928.14,-939.92 934.69,-912.93 934.69,-889 934.69,-889 934.69,-889 934.69,-452 934.69,-396.81 761.26,-377.02 664.35,-370.27\"/>\n<polygon fill=\"black\" stroke=\"black\" points=\"664.57,-366.78 654.36,-369.61 664.1,-373.77 664.57,-366.78\"/>\n<text text-anchor=\"start\" x=\"934.69\" y=\"-666.8\" font-family=\"Times,serif\" font-size=\"14.00\">3b:(0,5)</text>\n</g>\n<!-- n4_tup_add_lgsimple_tuple -->\n<g id=\"node3\" class=\"node\">\n<title>n4_tup_add_lgsimple_tuple</title>\n<ellipse fill=\"none\" stroke=\"black\" cx=\"853.69\" cy=\"-888\" rx=\"51.99\" ry=\"18\"/>\n<text text-anchor=\"start\" x=\"821.69\" y=\"-884.3\" font-family=\"Times,serif\" font-size=\"14.00\">n4_tup_add</text>\n</g>\n<!-- n3_const_lgsimple_tuple&#45;&gt;n4_tup_add_lgsimple_tuple -->\n<g id=\"edge2\" class=\"edge\">\n<title>n3_const_lgsimple_tuple&#45;&gt;n4_tup_add_lgsimple_tuple</title>\n<path fill=\"none\" stroke=\"black\" d=\"M896.02,-958.47C889.24,-952.88 882.11,-946.17 876.69,-939 871.37,-931.96 866.89,-923.48 863.34,-915.53\"/>\n<polygon fill=\"black\" stroke=\"black\" points=\"866.54,-914.11 859.48,-906.21 860.08,-916.79 866.54,-914.11\"/>\n<text text-anchor=\"start\" x=\"876.69\" y=\"-927.8\" font-family=\"Times,serif\" font-size=\"14.00\">3b:(0,4)</text>\n</g>\n<!-- n46_sum_lgsimple_tuple -->\n<g id=\"node28\" class=\"node\">\n<title>n46_sum_lgsimple_tuple</title>\n<ellipse fill=\"none\" stroke=\"black\" cx=\"478.69\" cy=\"-279\" rx=\"43.59\" ry=\"18\"/>\n<text text-anchor=\"start\" x=\"453.19\" y=\"-275.3\" font-family=\"Times,serif\" font-size=\"14.00\">n46_sum</text>\n</g>\n<!-- n44_tup_get_lgsimple_tuple&#45;&gt;n46_sum_lgsimple_tuple -->\n<g id=\"edge32\" class=\"edge\">\n<title>n44_tup_get_lgsimple_tuple&#45;&gt;n46_sum_lgsimple_tuple</title>\n<path fill=\"none\" stroke=\"black\" d=\"M594.58,-347.67C590.02,-336.97 582.82,-323.67 572.69,-315 559.66,-303.84 542.73,-296.08 526.84,-290.76\"/>\n<polygon fill=\"black\" stroke=\"black\" points=\"527.71,-287.37 517.12,-287.76 525.64,-294.06 527.71,-287.37\"/>\n<text text-anchor=\"start\" x=\"585.69\" y=\"-318.8\" font-family=\"Times,serif\" font-size=\"14.00\">0b:(0,0):___t8_0</text>\n</g>\n<!-- n6_const_lgsimple_tuple -->\n<g id=\"node4\" class=\"node\">\n<title>n6_const_lgsimple_tuple</title>\n<ellipse fill=\"none\" stroke=\"black\" cx=\"745.69\" cy=\"-975\" rx=\"69.59\" ry=\"18\"/>\n<text text-anchor=\"start\" x=\"700.19\" y=\"-971.3\" font-family=\"Times,serif\" font-size=\"14.00\">n6_const:&#39;__bits&#39;</text>\n</g>\n<!-- n6_const_lgsimple_tuple&#45;&gt;n4_tup_add_lgsimple_tuple -->\n<g id=\"edge4\" class=\"edge\">\n<title>n6_const_lgsimple_tuple&#45;&gt;n4_tup_add_lgsimple_tuple</title>\n<path fill=\"none\" stroke=\"black\" d=\"M766.52,-957.61C783.31,-944.39 807.1,-925.67 825.59,-911.12\"/>\n<polygon fill=\"black\" stroke=\"black\" points=\"827.97,-913.7 833.67,-904.76 823.64,-908.2 827.97,-913.7\"/>\n<text text-anchor=\"start\" x=\"806.69\" y=\"-927.8\" font-family=\"Times,serif\" font-size=\"14.00\">48b:(0,5)</text>\n</g>\n<!-- n9_tup_add_lgsimple_tuple -->\n<g id=\"node5\" class=\"node\">\n<title>n9_tup_add_lgsimple_tuple</title>\n<ellipse fill=\"none\" stroke=\"black\" cx=\"729.69\" cy=\"-888\" rx=\"51.99\" ry=\"18\"/>\n<text text-anchor=\"start\" x=\"697.69\" y=\"-884.3\" font-family=\"Times,serif\" font-size=\"14.00\">n9_tup_add</text>\n</g>\n<!-- n6_const_lgsimple_tuple&#45;&gt;n9_tup_add_lgsimple_tuple -->\n<g id=\"edge3\" class=\"edge\">\n<title>n6_const_lgsimple_tuple&#45;&gt;n9_tup_add_lgsimple_tuple</title>\n<path fill=\"none\" stroke=\"black\" d=\"M735.6,-957.13C732.79,-951.55 730.12,-945.19 728.69,-939 727.03,-931.75 726.59,-923.76 726.74,-916.33\"/>\n<polygon fill=\"black\" stroke=\"black\" points=\"730.24,-916.51 727.29,-906.34 723.25,-916.13 730.24,-916.51\"/>\n<text text-anchor=\"start\" x=\"728.69\" y=\"-927.8\" font-family=\"Times,serif\" font-size=\"14.00\">48b:(0,5)</text>\n</g>\n<!-- n20_tup_add_lgsimple_tuple -->\n<g id=\"node9\" class=\"node\">\n<title>n20_tup_add_lgsimple_tuple</title>\n<ellipse fill=\"none\" stroke=\"black\" cx=\"727.69\" cy=\"-801\" rx=\"56.59\" ry=\"18\"/>\n<text text-anchor=\"start\" x=\"692.19\" y=\"-797.3\" font-family=\"Times,serif\" font-size=\"14.00\">n20_tup_add</text>\n</g>\n<!-- n9_tup_add_lgsimple_tuple&#45;&gt;n20_tup_add_lgsimple_tuple -->\n<g id=\"edge8\" class=\"edge\">\n<title>n9_tup_add_lgsimple_tuple&#45;&gt;n20_tup_add_lgsimple_tuple</title>\n<path fill=\"none\" stroke=\"black\" d=\"M729.29,-869.8C729.02,-858.16 728.65,-842.55 728.34,-829.24\"/>\n<polygon fill=\"black\" stroke=\"black\" points=\"731.83,-829.09 728.1,-819.18 724.83,-829.26 731.83,-829.09\"/>\n<text text-anchor=\"start\" x=\"729.69\" y=\"-841.8\" font-family=\"Times,serif\" font-size=\"14.00\">0b:(0,4):</text>\n<text text-anchor=\"start\" x=\"777.69\" y=\"-841.8\" font-family=\"Times,serif\" font-size=\"14.00\" fill=\"#0000ff\">y_0</text>\n</g>\n<!-- n8_const_lgsimple_tuple -->\n<g id=\"node6\" class=\"node\">\n<title>n8_const_lgsimple_tuple</title>\n<ellipse fill=\"none\" stroke=\"black\" cx=\"471.69\" cy=\"-1062\" rx=\"49.29\" ry=\"18\"/>\n<text text-anchor=\"start\" x=\"441.69\" y=\"-1058.3\" font-family=\"Times,serif\" font-size=\"14.00\">n8_const:3</text>\n</g>\n<!-- n8_const_lgsimple_tuple&#45;&gt;n9_tup_add_lgsimple_tuple -->\n<g id=\"edge7\" class=\"edge\">\n<title>n8_const_lgsimple_tuple&#45;&gt;n9_tup_add_lgsimple_tuple</title>\n<path fill=\"none\" stroke=\"black\" d=\"M493.28,-1045.76C522.43,-1025.27 576.11,-987.83 622.69,-957 647.27,-940.74 675.4,-922.89 696.65,-909.56\"/>\n<polygon fill=\"black\" stroke=\"black\" points=\"698.69,-912.41 705.31,-904.14 694.97,-906.48 698.69,-912.41\"/>\n<text text-anchor=\"start\" x=\"622.69\" y=\"-971.3\" font-family=\"Times,serif\" font-size=\"14.00\">3b:(0,4)</text>\n</g>\n<!-- n29_tup_add_lgsimple_tuple -->\n<g id=\"node7\" class=\"node\">\n<title>n29_tup_add_lgsimple_tuple</title>\n<ellipse fill=\"none\" stroke=\"black\" cx=\"448.69\" cy=\"-540\" rx=\"56.59\" ry=\"18\"/>\n<text text-anchor=\"start\" x=\"413.19\" y=\"-536.3\" font-family=\"Times,serif\" font-size=\"14.00\">n29_tup_add</text>\n</g>\n<!-- n8_const_lgsimple_tuple&#45;&gt;n29_tup_add_lgsimple_tuple -->\n<g id=\"edge5\" class=\"edge\">\n<title>n8_const_lgsimple_tuple&#45;&gt;n29_tup_add_lgsimple_tuple</title>\n<path fill=\"none\" stroke=\"black\" d=\"M422.27,-1059.51C365.97,-1054.86 281.69,-1037.61 281.69,-976 281.69,-976 281.69,-976 281.69,-626 281.69,-577.71 337.84,-556.84 385.03,-547.83\"/>\n<polygon fill=\"black\" stroke=\"black\" points=\"385.7,-551.27 394.94,-546.08 384.48,-544.37 385.7,-551.27\"/>\n<text text-anchor=\"start\" x=\"281.69\" y=\"-797.3\" font-family=\"Times,serif\" font-size=\"14.00\">3b:(0,4)</text>\n</g>\n<!-- n12_or_lgsimple_tuple -->\n<g id=\"node8\" class=\"node\">\n<title>n12_or_lgsimple_tuple</title>\n<ellipse fill=\"none\" stroke=\"black\" cx=\"471.69\" cy=\"-975\" rx=\"36\" ry=\"18\"/>\n<text text-anchor=\"start\" x=\"452.19\" y=\"-971.3\" font-family=\"Times,serif\" font-size=\"14.00\">n12_or</text>\n</g>\n<!-- n8_const_lgsimple_tuple&#45;&gt;n12_or_lgsimple_tuple -->\n<g id=\"edge6\" class=\"edge\">\n<title>n8_const_lgsimple_tuple&#45;&gt;n12_or_lgsimple_tuple</title>\n<path fill=\"none\" stroke=\"black\" d=\"M471.69,-1043.8C471.69,-1032.16 471.69,-1016.55 471.69,-1003.24\"/>\n<polygon fill=\"black\" stroke=\"black\" points=\"475.19,-1003.18 471.69,-993.18 468.19,-1003.18 475.19,-1003.18\"/>\n<text text-anchor=\"start\" x=\"471.69\" y=\"-1014.8\" font-family=\"Times,serif\" font-size=\"14.00\">3b:(0,0)</text>\n</g>\n<!-- n32_tup_add_lgsimple_tuple -->\n<g id=\"node20\" class=\"node\">\n<title>n32_tup_add_lgsimple_tuple</title>\n<ellipse fill=\"none\" stroke=\"black\" cx=\"476.69\" cy=\"-453\" rx=\"56.59\" ry=\"18\"/>\n<text text-anchor=\"start\" x=\"441.19\" y=\"-449.3\" font-family=\"Times,serif\" font-size=\"14.00\">n32_tup_add</text>\n</g>\n<!-- n29_tup_add_lgsimple_tuple&#45;&gt;n32_tup_add_lgsimple_tuple -->\n<g id=\"edge20\" class=\"edge\">\n<title>n29_tup_add_lgsimple_tuple&#45;&gt;n32_tup_add_lgsimple_tuple</title>\n<path fill=\"none\" stroke=\"black\" d=\"M454.36,-521.8C458.23,-510.05 463.44,-494.24 467.85,-480.84\"/>\n<polygon fill=\"black\" stroke=\"black\" points=\"471.23,-481.77 471.04,-471.18 464.58,-479.58 471.23,-481.77\"/>\n<text text-anchor=\"start\" x=\"464.69\" y=\"-493.8\" font-family=\"Times,serif\" font-size=\"14.00\">0b:(0,0):</text>\n<text text-anchor=\"start\" x=\"512.69\" y=\"-493.8\" font-family=\"Times,serif\" font-size=\"14.00\" fill=\"#0000ff\">A_1</text>\n</g>\n<!-- n16_tup_add_lgsimple_tuple -->\n<g id=\"node10\" class=\"node\">\n<title>n16_tup_add_lgsimple_tuple</title>\n<ellipse fill=\"none\" stroke=\"black\" cx=\"438.69\" cy=\"-888\" rx=\"56.59\" ry=\"18\"/>\n<text text-anchor=\"start\" x=\"403.19\" y=\"-884.3\" font-family=\"Times,serif\" font-size=\"14.00\">n16_tup_add</text>\n</g>\n<!-- n12_or_lgsimple_tuple&#45;&gt;n16_tup_add_lgsimple_tuple -->\n<g id=\"edge9\" class=\"edge\">\n<title>n12_or_lgsimple_tuple&#45;&gt;n16_tup_add_lgsimple_tuple</title>\n<path fill=\"none\" stroke=\"black\" d=\"M465.17,-957.21C460.55,-945.29 454.25,-929.06 448.95,-915.42\"/>\n<polygon fill=\"black\" stroke=\"black\" points=\"452.2,-914.1 445.31,-906.05 445.67,-916.64 452.2,-914.1\"/>\n<text text-anchor=\"start\" x=\"457.69\" y=\"-927.8\" font-family=\"Times,serif\" font-size=\"14.00\">0b:(0,4):x_1</text>\n</g>\n<!-- n25_tup_add_lgsimple_tuple -->\n<g id=\"node16\" class=\"node\">\n<title>n25_tup_add_lgsimple_tuple</title>\n<ellipse fill=\"none\" stroke=\"black\" cx=\"559.69\" cy=\"-714\" rx=\"56.59\" ry=\"18\"/>\n<text text-anchor=\"start\" x=\"524.19\" y=\"-710.3\" font-family=\"Times,serif\" font-size=\"14.00\">n25_tup_add</text>\n</g>\n<!-- n20_tup_add_lgsimple_tuple&#45;&gt;n25_tup_add_lgsimple_tuple -->\n<g id=\"edge15\" class=\"edge\">\n<title>n20_tup_add_lgsimple_tuple&#45;&gt;n25_tup_add_lgsimple_tuple</title>\n<path fill=\"none\" stroke=\"black\" d=\"M699.33,-785.21C680.02,-775.18 653.87,-761.68 630.69,-750 620.36,-744.79 609.14,-739.22 598.74,-734.09\"/>\n<polygon fill=\"black\" stroke=\"black\" points=\"599.98,-730.8 589.46,-729.53 596.89,-737.08 599.98,-730.8\"/>\n<text text-anchor=\"start\" x=\"660.69\" y=\"-754.8\" font-family=\"Times,serif\" font-size=\"14.00\">0b:(0,0):</text>\n<text text-anchor=\"start\" x=\"708.69\" y=\"-754.8\" font-family=\"Times,serif\" font-size=\"14.00\" fill=\"#0000ff\">___t1_0</text>\n</g>\n<!-- n16_tup_add_lgsimple_tuple&#45;&gt;n20_tup_add_lgsimple_tuple -->\n<g id=\"edge13\" class=\"edge\">\n<title>n16_tup_add_lgsimple_tuple&#45;&gt;n20_tup_add_lgsimple_tuple</title>\n<path fill=\"none\" stroke=\"black\" d=\"M466.99,-872.2C489.61,-860.96 522.44,-845.96 552.69,-837 600.2,-822.94 614.23,-829.28 662.69,-819 667.3,-818.02 672.07,-816.93 676.84,-815.79\"/>\n<polygon fill=\"black\" stroke=\"black\" points=\"677.7,-819.18 686.57,-813.38 676.02,-812.38 677.7,-819.18\"/>\n<text text-anchor=\"start\" x=\"552.69\" y=\"-841.8\" font-family=\"Times,serif\" font-size=\"14.00\">0b:(0,0):</text>\n<text text-anchor=\"start\" x=\"600.69\" y=\"-841.8\" font-family=\"Times,serif\" font-size=\"14.00\" fill=\"#0000ff\">___t1_0</text>\n</g>\n<!-- n13_const_lgsimple_tuple -->\n<g id=\"node11\" class=\"node\">\n<title>n13_const_lgsimple_tuple</title>\n<ellipse fill=\"none\" stroke=\"black\" cx=\"1020.69\" cy=\"-1062\" rx=\"53.89\" ry=\"18\"/>\n<text text-anchor=\"start\" x=\"987.19\" y=\"-1058.3\" font-family=\"Times,serif\" font-size=\"14.00\">n13_const:7</text>\n</g>\n<!-- n14_or_lgsimple_tuple -->\n<g id=\"node12\" class=\"node\">\n<title>n14_or_lgsimple_tuple</title>\n<ellipse fill=\"none\" stroke=\"black\" cx=\"1020.69\" cy=\"-975\" rx=\"36\" ry=\"18\"/>\n<text text-anchor=\"start\" x=\"1001.19\" y=\"-971.3\" font-family=\"Times,serif\" font-size=\"14.00\">n14_or</text>\n</g>\n<!-- n13_const_lgsimple_tuple&#45;&gt;n14_or_lgsimple_tuple -->\n<g id=\"edge10\" class=\"edge\">\n<title>n13_const_lgsimple_tuple&#45;&gt;n14_or_lgsimple_tuple</title>\n<path fill=\"none\" stroke=\"black\" d=\"M1020.69,-1043.8C1020.69,-1032.16 1020.69,-1016.55 1020.69,-1003.24\"/>\n<polygon fill=\"black\" stroke=\"black\" points=\"1024.19,-1003.18 1020.69,-993.18 1017.19,-1003.18 1024.19,-1003.18\"/>\n<text text-anchor=\"start\" x=\"1020.69\" y=\"-1014.8\" font-family=\"Times,serif\" font-size=\"14.00\">4b:(0,0)</text>\n</g>\n<!-- n15_const_lgsimple_tuple -->\n<g id=\"node13\" class=\"node\">\n<title>n15_const_lgsimple_tuple</title>\n<ellipse fill=\"none\" stroke=\"black\" cx=\"363.69\" cy=\"-975\" rx=\"53.89\" ry=\"18\"/>\n<text text-anchor=\"start\" x=\"330.19\" y=\"-971.3\" font-family=\"Times,serif\" font-size=\"14.00\">n15_const:0</text>\n</g>\n<!-- n15_const_lgsimple_tuple&#45;&gt;n16_tup_add_lgsimple_tuple -->\n<g id=\"edge12\" class=\"edge\">\n<title>n15_const_lgsimple_tuple&#45;&gt;n16_tup_add_lgsimple_tuple</title>\n<path fill=\"none\" stroke=\"black\" d=\"M377.46,-957.13C385.55,-947.34 396.05,-934.84 405.69,-924 408.93,-920.37 412.39,-916.58 415.82,-912.9\"/>\n<polygon fill=\"black\" stroke=\"black\" points=\"418.42,-915.24 422.72,-905.55 413.32,-910.45 418.42,-915.24\"/>\n<text text-anchor=\"start\" x=\"405.69\" y=\"-927.8\" font-family=\"Times,serif\" font-size=\"14.00\">1b:(0,5)</text>\n</g>\n<!-- n42_tup_get_lgsimple_tuple -->\n<g id=\"node14\" class=\"node\">\n<title>n42_tup_get_lgsimple_tuple</title>\n<ellipse fill=\"none\" stroke=\"black\" cx=\"473.69\" cy=\"-366\" rx=\"54.69\" ry=\"18\"/>\n<text text-anchor=\"start\" x=\"439.69\" y=\"-362.3\" font-family=\"Times,serif\" font-size=\"14.00\">n42_tup_get</text>\n</g>\n<!-- n15_const_lgsimple_tuple&#45;&gt;n42_tup_get_lgsimple_tuple -->\n<g id=\"edge11\" class=\"edge\">\n<title>n15_const_lgsimple_tuple&#45;&gt;n42_tup_get_lgsimple_tuple</title>\n<path fill=\"none\" stroke=\"black\" d=\"M360.48,-956.81C357.55,-939.69 353.69,-912.63 353.69,-889 353.69,-889 353.69,-889 353.69,-452 353.69,-427.72 357.92,-418.54 375.69,-402 387.25,-391.25 402.33,-383.75 417.18,-378.55\"/>\n<polygon fill=\"black\" stroke=\"black\" points=\"418.41,-381.83 426.87,-375.45 416.28,-375.17 418.41,-381.83\"/>\n<text text-anchor=\"start\" x=\"353.69\" y=\"-666.8\" font-family=\"Times,serif\" font-size=\"14.00\">1b:(0,5)</text>\n</g>\n<!-- n42_tup_get_lgsimple_tuple&#45;&gt;n46_sum_lgsimple_tuple -->\n<g id=\"edge31\" class=\"edge\">\n<title>n42_tup_get_lgsimple_tuple&#45;&gt;n46_sum_lgsimple_tuple</title>\n<path fill=\"none\" stroke=\"black\" d=\"M474.71,-347.8C475.39,-336.16 476.31,-320.55 477.09,-307.24\"/>\n<polygon fill=\"black\" stroke=\"black\" points=\"480.59,-307.36 477.68,-297.18 473.6,-306.95 480.59,-307.36\"/>\n<text text-anchor=\"start\" x=\"476.69\" y=\"-318.8\" font-family=\"Times,serif\" font-size=\"14.00\">0b:(0,0):___t7_0</text>\n</g>\n<!-- n19_const_lgsimple_tuple -->\n<g id=\"node15\" class=\"node\">\n<title>n19_const_lgsimple_tuple</title>\n<ellipse fill=\"none\" stroke=\"black\" cx=\"586.69\" cy=\"-888\" rx=\"73.39\" ry=\"18\"/>\n<text text-anchor=\"start\" x=\"538.19\" y=\"-884.3\" font-family=\"Times,serif\" font-size=\"14.00\">n19_const:&#39;:1:foo&#39;</text>\n</g>\n<!-- n19_const_lgsimple_tuple&#45;&gt;n20_tup_add_lgsimple_tuple -->\n<g id=\"edge14\" class=\"edge\">\n<title>n19_const_lgsimple_tuple&#45;&gt;n20_tup_add_lgsimple_tuple</title>\n<path fill=\"none\" stroke=\"black\" d=\"M613.22,-871.01C635.95,-857.31 668.85,-837.48 693.55,-822.59\"/>\n<polygon fill=\"black\" stroke=\"black\" points=\"695.48,-825.5 702.24,-817.34 691.87,-819.51 695.48,-825.5\"/>\n<text text-anchor=\"start\" x=\"665.69\" y=\"-840.8\" font-family=\"Times,serif\" font-size=\"14.00\">48b:(0,5)</text>\n</g>\n<!-- n28_tup_add_lgsimple_tuple -->\n<g id=\"node19\" class=\"node\">\n<title>n28_tup_add_lgsimple_tuple</title>\n<ellipse fill=\"none\" stroke=\"black\" cx=\"518.69\" cy=\"-627\" rx=\"56.59\" ry=\"18\"/>\n<text text-anchor=\"start\" x=\"483.19\" y=\"-623.3\" font-family=\"Times,serif\" font-size=\"14.00\">n28_tup_add</text>\n</g>\n<!-- n25_tup_add_lgsimple_tuple&#45;&gt;n28_tup_add_lgsimple_tuple -->\n<g id=\"edge18\" class=\"edge\">\n<title>n25_tup_add_lgsimple_tuple&#45;&gt;n28_tup_add_lgsimple_tuple</title>\n<path fill=\"none\" stroke=\"black\" d=\"M551.4,-695.8C545.64,-683.85 537.85,-667.72 531.32,-654.18\"/>\n<polygon fill=\"black\" stroke=\"black\" points=\"534.34,-652.37 526.84,-644.89 528.03,-655.41 534.34,-652.37\"/>\n<text text-anchor=\"start\" x=\"541.69\" y=\"-667.8\" font-family=\"Times,serif\" font-size=\"14.00\">0b:(0,0):</text>\n<text text-anchor=\"start\" x=\"589.69\" y=\"-667.8\" font-family=\"Times,serif\" font-size=\"14.00\" fill=\"#0000ff\">___t1_0</text>\n</g>\n<!-- n23_const_lgsimple_tuple -->\n<g id=\"node17\" class=\"node\">\n<title>n23_const_lgsimple_tuple</title>\n<ellipse fill=\"none\" stroke=\"black\" cx=\"454.69\" cy=\"-801\" rx=\"72.59\" ry=\"18\"/>\n<text text-anchor=\"start\" x=\"406.69\" y=\"-797.3\" font-family=\"Times,serif\" font-size=\"14.00\">n23_const:&#39;:2:bar&#39;</text>\n</g>\n<!-- n23_const_lgsimple_tuple&#45;&gt;n25_tup_add_lgsimple_tuple -->\n<g id=\"edge16\" class=\"edge\">\n<title>n23_const_lgsimple_tuple&#45;&gt;n25_tup_add_lgsimple_tuple</title>\n<path fill=\"none\" stroke=\"black\" d=\"M474.94,-783.61C491.17,-770.47 514.11,-751.91 532.03,-737.4\"/>\n<polygon fill=\"black\" stroke=\"black\" points=\"534.3,-740.06 539.87,-731.05 529.89,-734.62 534.3,-740.06\"/>\n<text text-anchor=\"start\" x=\"513.69\" y=\"-753.8\" font-family=\"Times,serif\" font-size=\"14.00\">48b:(0,5)</text>\n</g>\n<!-- n24_const_lgsimple_tuple -->\n<g id=\"node18\" class=\"node\">\n<title>n24_const_lgsimple_tuple</title>\n<ellipse fill=\"none\" stroke=\"black\" cx=\"599.69\" cy=\"-801\" rx=\"53.89\" ry=\"18\"/>\n<text text-anchor=\"start\" x=\"566.19\" y=\"-797.3\" font-family=\"Times,serif\" font-size=\"14.00\">n24_const:4</text>\n</g>\n<!-- n24_const_lgsimple_tuple&#45;&gt;n25_tup_add_lgsimple_tuple -->\n<g id=\"edge17\" class=\"edge\">\n<title>n24_const_lgsimple_tuple&#45;&gt;n25_tup_add_lgsimple_tuple</title>\n<path fill=\"none\" stroke=\"black\" d=\"M591.6,-782.8C585.98,-770.85 578.38,-754.72 572.02,-741.18\"/>\n<polygon fill=\"black\" stroke=\"black\" points=\"575.07,-739.44 567.64,-731.89 568.73,-742.42 575.07,-739.44\"/>\n<text text-anchor=\"start\" x=\"582.69\" y=\"-753.8\" font-family=\"Times,serif\" font-size=\"14.00\">4b:(0,4)</text>\n</g>\n<!-- n28_tup_add_lgsimple_tuple&#45;&gt;n29_tup_add_lgsimple_tuple -->\n<g id=\"edge19\" class=\"edge\">\n<title>n28_tup_add_lgsimple_tuple&#45;&gt;n29_tup_add_lgsimple_tuple</title>\n<path fill=\"none\" stroke=\"black\" d=\"M504.86,-609.21C494.61,-596.75 480.46,-579.57 468.93,-565.57\"/>\n<polygon fill=\"black\" stroke=\"black\" points=\"471.55,-563.25 462.5,-557.76 466.15,-567.7 471.55,-563.25\"/>\n<text text-anchor=\"start\" x=\"488.69\" y=\"-580.8\" font-family=\"Times,serif\" font-size=\"14.00\">0b:(0,0):</text>\n<text text-anchor=\"start\" x=\"536.69\" y=\"-580.8\" font-family=\"Times,serif\" font-size=\"14.00\" fill=\"#0000ff\">A_0</text>\n</g>\n<!-- n32_tup_add_lgsimple_tuple&#45;&gt;n44_tup_get_lgsimple_tuple -->\n<g id=\"edge21\" class=\"edge\">\n<title>n32_tup_add_lgsimple_tuple&#45;&gt;n44_tup_get_lgsimple_tuple</title>\n<path fill=\"none\" stroke=\"black\" d=\"M511.72,-438.77C524.83,-433.03 539.5,-425.63 551.69,-417 561.98,-409.72 571.96,-400.14 580.21,-391.32\"/>\n<polygon fill=\"black\" stroke=\"black\" points=\"582.86,-393.6 586.97,-383.83 577.67,-388.9 582.86,-393.6\"/>\n<text text-anchor=\"start\" x=\"569.69\" y=\"-406.8\" font-family=\"Times,serif\" font-size=\"14.00\">0b:(0,0):</text>\n<text text-anchor=\"start\" x=\"617.69\" y=\"-406.8\" font-family=\"Times,serif\" font-size=\"14.00\" fill=\"#0000ff\">A_2</text>\n</g>\n<!-- n32_tup_add_lgsimple_tuple&#45;&gt;n42_tup_get_lgsimple_tuple -->\n<g id=\"edge22\" class=\"edge\">\n<title>n32_tup_add_lgsimple_tuple&#45;&gt;n42_tup_get_lgsimple_tuple</title>\n<path fill=\"none\" stroke=\"black\" d=\"M476.09,-434.8C475.68,-423.16 475.13,-407.55 474.66,-394.24\"/>\n<polygon fill=\"black\" stroke=\"black\" points=\"478.15,-394.05 474.3,-384.18 471.16,-394.29 478.15,-394.05\"/>\n<text text-anchor=\"start\" x=\"475.69\" y=\"-406.8\" font-family=\"Times,serif\" font-size=\"14.00\">0b:(0,0):</text>\n<text text-anchor=\"start\" x=\"523.69\" y=\"-406.8\" font-family=\"Times,serif\" font-size=\"14.00\" fill=\"#0000ff\">A_2</text>\n</g>\n<!-- n38_tup_get_lgsimple_tuple -->\n<g id=\"node21\" class=\"node\">\n<title>n38_tup_get_lgsimple_tuple</title>\n<ellipse fill=\"none\" stroke=\"black\" cx=\"209.69\" cy=\"-366\" rx=\"54.69\" ry=\"18\"/>\n<text text-anchor=\"start\" x=\"175.69\" y=\"-362.3\" font-family=\"Times,serif\" font-size=\"14.00\">n38_tup_get</text>\n</g>\n<!-- n32_tup_add_lgsimple_tuple&#45;&gt;n38_tup_get_lgsimple_tuple -->\n<g id=\"edge23\" class=\"edge\">\n<title>n32_tup_add_lgsimple_tuple&#45;&gt;n38_tup_get_lgsimple_tuple</title>\n<path fill=\"none\" stroke=\"black\" d=\"M424.92,-445.53C389.98,-440.2 343.21,-431.17 303.69,-417 282.51,-409.4 260.21,-397.72 242.65,-387.56\"/>\n<polygon fill=\"black\" stroke=\"black\" points=\"244.32,-384.48 233.93,-382.41 240.76,-390.51 244.32,-384.48\"/>\n<text text-anchor=\"start\" x=\"303.69\" y=\"-406.8\" font-family=\"Times,serif\" font-size=\"14.00\">0b:(0,0):</text>\n<text text-anchor=\"start\" x=\"351.69\" y=\"-406.8\" font-family=\"Times,serif\" font-size=\"14.00\" fill=\"#0000ff\">A_2</text>\n</g>\n<!-- n35_tup_get_lgsimple_tuple -->\n<g id=\"node22\" class=\"node\">\n<title>n35_tup_get_lgsimple_tuple</title>\n<ellipse fill=\"none\" stroke=\"black\" cx=\"336.69\" cy=\"-366\" rx=\"54.69\" ry=\"18\"/>\n<text text-anchor=\"start\" x=\"302.69\" y=\"-362.3\" font-family=\"Times,serif\" font-size=\"14.00\">n35_tup_get</text>\n</g>\n<!-- n32_tup_add_lgsimple_tuple&#45;&gt;n35_tup_get_lgsimple_tuple -->\n<g id=\"edge24\" class=\"edge\">\n<title>n32_tup_add_lgsimple_tuple&#45;&gt;n35_tup_get_lgsimple_tuple</title>\n<path fill=\"none\" stroke=\"black\" d=\"M442.43,-438.56C428.75,-432.65 413.1,-425.2 399.69,-417 386.78,-409.11 373.51,-398.94 362.5,-389.83\"/>\n<polygon fill=\"black\" stroke=\"black\" points=\"364.46,-386.91 354.56,-383.13 359.95,-392.25 364.46,-386.91\"/>\n<text text-anchor=\"start\" x=\"399.69\" y=\"-406.8\" font-family=\"Times,serif\" font-size=\"14.00\">0b:(0,0):</text>\n<text text-anchor=\"start\" x=\"447.69\" y=\"-406.8\" font-family=\"Times,serif\" font-size=\"14.00\" fill=\"#0000ff\">A_2</text>\n</g>\n<!-- n41_sum_lgsimple_tuple -->\n<g id=\"node24\" class=\"node\">\n<title>n41_sum_lgsimple_tuple</title>\n<ellipse fill=\"none\" stroke=\"black\" cx=\"326.69\" cy=\"-279\" rx=\"43.59\" ry=\"18\"/>\n<text text-anchor=\"start\" x=\"301.19\" y=\"-275.3\" font-family=\"Times,serif\" font-size=\"14.00\">n41_sum</text>\n</g>\n<!-- n38_tup_get_lgsimple_tuple&#45;&gt;n41_sum_lgsimple_tuple -->\n<g id=\"edge28\" class=\"edge\">\n<title>n38_tup_get_lgsimple_tuple&#45;&gt;n41_sum_lgsimple_tuple</title>\n<path fill=\"none\" stroke=\"black\" d=\"M215.12,-347.71C219.25,-337.03 225.92,-323.74 235.69,-315 239.76,-311.36 262.81,-302.51 284.69,-294.62\"/>\n<polygon fill=\"black\" stroke=\"black\" points=\"286.03,-297.86 294.27,-291.2 283.67,-291.27 286.03,-297.86\"/>\n<text text-anchor=\"start\" x=\"235.69\" y=\"-318.8\" font-family=\"Times,serif\" font-size=\"14.00\">0b:(0,0):___t5_0</text>\n</g>\n<!-- n35_tup_get_lgsimple_tuple&#45;&gt;n41_sum_lgsimple_tuple -->\n<g id=\"edge26\" class=\"edge\">\n<title>n35_tup_get_lgsimple_tuple&#45;&gt;n41_sum_lgsimple_tuple</title>\n<path fill=\"none\" stroke=\"black\" d=\"M334.67,-347.8C333.3,-336.16 331.46,-320.55 329.9,-307.24\"/>\n<polygon fill=\"black\" stroke=\"black\" points=\"333.36,-306.7 328.71,-297.18 326.41,-307.52 333.36,-306.7\"/>\n<text text-anchor=\"start\" x=\"332.69\" y=\"-318.8\" font-family=\"Times,serif\" font-size=\"14.00\">0b:(0,0):___t4_0</text>\n</g>\n<!-- n34_const_lgsimple_tuple -->\n<g id=\"node23\" class=\"node\">\n<title>n34_const_lgsimple_tuple</title>\n<ellipse fill=\"none\" stroke=\"black\" cx=\"576.69\" cy=\"-540\" rx=\"53.89\" ry=\"18\"/>\n<text text-anchor=\"start\" x=\"543.19\" y=\"-536.3\" font-family=\"Times,serif\" font-size=\"14.00\">n34_const:5</text>\n</g>\n<!-- n34_const_lgsimple_tuple&#45;&gt;n32_tup_add_lgsimple_tuple -->\n<g id=\"edge25\" class=\"edge\">\n<title>n34_const_lgsimple_tuple&#45;&gt;n32_tup_add_lgsimple_tuple</title>\n<path fill=\"none\" stroke=\"black\" d=\"M567.28,-522.22C560.8,-511.74 551.44,-498.49 540.69,-489 533.87,-482.97 525.82,-477.56 517.79,-472.91\"/>\n<polygon fill=\"black\" stroke=\"black\" points=\"519.23,-469.71 508.78,-467.98 515.87,-475.85 519.23,-469.71\"/>\n<text text-anchor=\"start\" x=\"554.69\" y=\"-492.8\" font-family=\"Times,serif\" font-size=\"14.00\">4b:(0,4)</text>\n</g>\n<!-- n49_tup_add_lgsimple_tuple -->\n<g id=\"node27\" class=\"node\">\n<title>n49_tup_add_lgsimple_tuple</title>\n<ellipse fill=\"none\" stroke=\"black\" cx=\"324.69\" cy=\"-192\" rx=\"56.59\" ry=\"18\"/>\n<text text-anchor=\"start\" x=\"289.19\" y=\"-188.3\" font-family=\"Times,serif\" font-size=\"14.00\">n49_tup_add</text>\n</g>\n<!-- n41_sum_lgsimple_tuple&#45;&gt;n49_tup_add_lgsimple_tuple -->\n<g id=\"edge30\" class=\"edge\">\n<title>n41_sum_lgsimple_tuple&#45;&gt;n49_tup_add_lgsimple_tuple</title>\n<path fill=\"none\" stroke=\"black\" d=\"M326.18,-260.91C326.01,-255.21 325.84,-248.83 325.69,-243 325.52,-235.65 325.35,-227.7 325.2,-220.34\"/>\n<polygon fill=\"black\" stroke=\"black\" points=\"328.69,-220.06 325,-210.13 321.7,-220.19 328.69,-220.06\"/>\n<text text-anchor=\"start\" x=\"325.69\" y=\"-231.8\" font-family=\"Times,serif\" font-size=\"14.00\">0b:(0,4):_percent_out1_0</text>\n</g>\n<!-- n37_const_lgsimple_tuple -->\n<g id=\"node25\" class=\"node\">\n<title>n37_const_lgsimple_tuple</title>\n<ellipse fill=\"none\" stroke=\"black\" cx=\"199.69\" cy=\"-453\" rx=\"53.89\" ry=\"18\"/>\n<text text-anchor=\"start\" x=\"166.19\" y=\"-449.3\" font-family=\"Times,serif\" font-size=\"14.00\">n37_const:4</text>\n</g>\n<!-- n37_const_lgsimple_tuple&#45;&gt;n35_tup_get_lgsimple_tuple -->\n<g id=\"edge27\" class=\"edge\">\n<title>n37_const_lgsimple_tuple&#45;&gt;n35_tup_get_lgsimple_tuple</title>\n<path fill=\"none\" stroke=\"black\" d=\"M195.21,-434.95C193.5,-424.36 193.43,-411.09 200.69,-402 221.56,-375.9 241.34,-392.35 273.69,-384 277.77,-382.95 281.98,-381.84 286.22,-380.73\"/>\n<polygon fill=\"black\" stroke=\"black\" points=\"287.3,-384.06 296.06,-378.1 285.5,-377.29 287.3,-384.06\"/>\n<text text-anchor=\"start\" x=\"200.69\" y=\"-405.8\" font-family=\"Times,serif\" font-size=\"14.00\">4b:(0,5)</text>\n</g>\n<!-- n40_const_lgsimple_tuple -->\n<g id=\"node26\" class=\"node\">\n<title>n40_const_lgsimple_tuple</title>\n<ellipse fill=\"none\" stroke=\"black\" cx=\"63.69\" cy=\"-453\" rx=\"63.89\" ry=\"18\"/>\n<text text-anchor=\"start\" x=\"22.69\" y=\"-449.3\" font-family=\"Times,serif\" font-size=\"14.00\">n40_const:&#39;foo&#39;</text>\n</g>\n<!-- n40_const_lgsimple_tuple&#45;&gt;n38_tup_get_lgsimple_tuple -->\n<g id=\"edge29\" class=\"edge\">\n<title>n40_const_lgsimple_tuple&#45;&gt;n38_tup_get_lgsimple_tuple</title>\n<path fill=\"none\" stroke=\"black\" d=\"M86.88,-436.02C101.96,-425.86 122.19,-412.66 140.69,-402 150.41,-396.4 161.12,-390.74 171.15,-385.64\"/>\n<polygon fill=\"black\" stroke=\"black\" points=\"172.75,-388.75 180.12,-381.14 169.61,-382.5 172.75,-388.75\"/>\n<text text-anchor=\"start\" x=\"140.69\" y=\"-405.8\" font-family=\"Times,serif\" font-size=\"14.00\">24b:(0,5)</text>\n</g>\n<!-- n53_tup_add_lgsimple_tuple -->\n<g id=\"node29\" class=\"node\">\n<title>n53_tup_add_lgsimple_tuple</title>\n<ellipse fill=\"none\" stroke=\"black\" cx=\"478.69\" cy=\"-105\" rx=\"56.59\" ry=\"18\"/>\n<text text-anchor=\"start\" x=\"443.19\" y=\"-101.3\" font-family=\"Times,serif\" font-size=\"14.00\">n53_tup_add</text>\n</g>\n<!-- n49_tup_add_lgsimple_tuple&#45;&gt;n53_tup_add_lgsimple_tuple -->\n<g id=\"edge35\" class=\"edge\">\n<title>n49_tup_add_lgsimple_tuple&#45;&gt;n53_tup_add_lgsimple_tuple</title>\n<path fill=\"none\" stroke=\"black\" d=\"M333.89,-173.92C340.55,-163.04 350.51,-149.46 362.69,-141 379.39,-129.4 400.02,-121.57 419.22,-116.32\"/>\n<polygon fill=\"black\" stroke=\"black\" points=\"420.28,-119.66 429.11,-113.8 418.56,-112.88 420.28,-119.66\"/>\n<text text-anchor=\"start\" x=\"362.69\" y=\"-145.8\" font-family=\"Times,serif\" font-size=\"14.00\">0b:(0,0):</text>\n<text text-anchor=\"start\" x=\"410.69\" y=\"-145.8\" font-family=\"Times,serif\" font-size=\"14.00\" fill=\"#0000ff\">_percent_</text>\n</g>\n<!-- n46_sum_lgsimple_tuple&#45;&gt;n53_tup_add_lgsimple_tuple -->\n<g id=\"edge33\" class=\"edge\">\n<title>n46_sum_lgsimple_tuple&#45;&gt;n53_tup_add_lgsimple_tuple</title>\n<path fill=\"none\" stroke=\"black\" d=\"M478.69,-260.88C478.69,-231 478.69,-169.11 478.69,-133.27\"/>\n<polygon fill=\"black\" stroke=\"black\" points=\"482.19,-133.05 478.69,-123.05 475.19,-133.05 482.19,-133.05\"/>\n<text text-anchor=\"start\" x=\"478.69\" y=\"-188.3\" font-family=\"Times,serif\" font-size=\"14.00\">0b:(0,4):_percent_out2_0</text>\n</g>\n<!-- _percent_ -->\n<g id=\"node33\" class=\"node\">\n<title>_percent_</title>\n<ellipse fill=\"none\" stroke=\"black\" cx=\"478.69\" cy=\"-18\" rx=\"45.49\" ry=\"18\"/>\n<text text-anchor=\"middle\" x=\"478.69\" y=\"-14.3\" font-family=\"Times,serif\" font-size=\"14.00\">_percent_</text>\n</g>\n<!-- n53_tup_add_lgsimple_tuple&#45;&gt;_percent_ -->\n<g id=\"edge37\" class=\"edge\">\n<title>n53_tup_add_lgsimple_tuple&#45;&gt;_percent_</title>\n<path fill=\"none\" stroke=\"black\" d=\"M478.69,-86.8C478.69,-75.16 478.69,-59.55 478.69,-46.24\"/>\n<polygon fill=\"black\" stroke=\"black\" points=\"482.19,-46.18 478.69,-36.18 475.19,-46.18 482.19,-46.18\"/>\n<text text-anchor=\"start\" x=\"478.69\" y=\"-58.8\" font-family=\"Times,serif\" font-size=\"14.00\">0b:(0,0):</text>\n<text text-anchor=\"start\" x=\"526.69\" y=\"-58.8\" font-family=\"Times,serif\" font-size=\"14.00\" fill=\"#0000ff\">_percent_</text>\n</g>\n<!-- n47_const_lgsimple_tuple -->\n<g id=\"node30\" class=\"node\">\n<title>n47_const_lgsimple_tuple</title>\n<ellipse fill=\"none\" stroke=\"black\" cx=\"1167.69\" cy=\"-1062\" rx=\"75.29\" ry=\"18\"/>\n<text text-anchor=\"start\" x=\"1117.69\" y=\"-1058.3\" font-family=\"Times,serif\" font-size=\"14.00\">n47_const:0b000?</text>\n</g>\n<!-- n48_or_lgsimple_tuple -->\n<g id=\"node31\" class=\"node\">\n<title>n48_or_lgsimple_tuple</title>\n<ellipse fill=\"none\" stroke=\"black\" cx=\"1167.69\" cy=\"-975\" rx=\"36\" ry=\"18\"/>\n<text text-anchor=\"start\" x=\"1148.19\" y=\"-971.3\" font-family=\"Times,serif\" font-size=\"14.00\">n48_or</text>\n</g>\n<!-- n47_const_lgsimple_tuple&#45;&gt;n48_or_lgsimple_tuple -->\n<g id=\"edge34\" class=\"edge\">\n<title>n47_const_lgsimple_tuple&#45;&gt;n48_or_lgsimple_tuple</title>\n<path fill=\"none\" stroke=\"black\" d=\"M1167.69,-1043.8C1167.69,-1032.16 1167.69,-1016.55 1167.69,-1003.24\"/>\n<polygon fill=\"black\" stroke=\"black\" points=\"1171.19,-1003.18 1167.69,-993.18 1164.19,-1003.18 1171.19,-1003.18\"/>\n<text text-anchor=\"start\" x=\"1167.69\" y=\"-1014.8\" font-family=\"Times,serif\" font-size=\"14.00\">2b:(0,0)</text>\n</g>\n<!-- n51_const_lgsimple_tuple -->\n<g id=\"node32\" class=\"node\">\n<title>n51_const_lgsimple_tuple</title>\n<ellipse fill=\"none\" stroke=\"black\" cx=\"186.69\" cy=\"-279\" rx=\"77.99\" ry=\"18\"/>\n<text text-anchor=\"start\" x=\"134.69\" y=\"-275.3\" font-family=\"Times,serif\" font-size=\"14.00\">n51_const:&#39;%.out1&#39;</text>\n</g>\n<!-- n51_const_lgsimple_tuple&#45;&gt;n49_tup_add_lgsimple_tuple -->\n<g id=\"edge36\" class=\"edge\">\n<title>n51_const_lgsimple_tuple&#45;&gt;n49_tup_add_lgsimple_tuple</title>\n<path fill=\"none\" stroke=\"black\" d=\"M212.65,-262.01C234.81,-248.37 266.82,-228.65 290.95,-213.78\"/>\n<polygon fill=\"black\" stroke=\"black\" points=\"293.1,-216.57 299.78,-208.34 289.43,-210.61 293.1,-216.57\"/>\n<text text-anchor=\"start\" x=\"264.69\" y=\"-231.8\" font-family=\"Times,serif\" font-size=\"14.00\">48b:(0,5)</text>\n</g>\n<!-- n55_const_lgsimple_tuple -->\n<g id=\"node34\" class=\"node\">\n<title>n55_const_lgsimple_tuple</title>\n<ellipse fill=\"none\" stroke=\"black\" cx=\"713.69\" cy=\"-192\" rx=\"77.99\" ry=\"18\"/>\n<text text-anchor=\"start\" x=\"661.69\" y=\"-188.3\" font-family=\"Times,serif\" font-size=\"14.00\">n55_const:&#39;%.out2&#39;</text>\n</g>\n<!-- n55_const_lgsimple_tuple&#45;&gt;n53_tup_add_lgsimple_tuple -->\n<g id=\"edge38\" class=\"edge\">\n<title>n55_const_lgsimple_tuple&#45;&gt;n53_tup_add_lgsimple_tuple</title>\n<path fill=\"none\" stroke=\"black\" d=\"M673.56,-176.48C632.13,-161.5 567.58,-138.15 524.25,-122.48\"/>\n<polygon fill=\"black\" stroke=\"black\" points=\"525.4,-119.17 514.8,-119.06 523.02,-125.75 525.4,-119.17\"/>\n<text text-anchor=\"start\" x=\"610.69\" y=\"-144.8\" font-family=\"Times,serif\" font-size=\"14.00\">48b:(0,5)</text>\n</g>\n</g>\n</svg>\n",
      "text/plain": [
       "<graphviz.files.Source at 0x7f45b57b9100>"
      ]
     },
     "execution_count": 10,
     "metadata": {},
     "output_type": "execute_result"
    }
   ],
   "source": [
    "g2 = graphviz.Source.from_file(\"simple_tuple.dot\")\n",
    "\n",
    "# displaying the content of g2 by calling it straightforward\n",
    "g2"
   ]
  },
  {
   "cell_type": "markdown",
   "id": "227ce76b",
   "metadata": {},
   "source": [
    "### Hierarchical Pyrope Visualization with `hier_tuple_io.dot`"
   ]
  },
  {
   "cell_type": "code",
   "execution_count": 11,
   "id": "44d8e2c6",
   "metadata": {},
   "outputs": [
    {
     "data": {
      "image/svg+xml": "<?xml version=\"1.0\" encoding=\"UTF-8\" standalone=\"no\"?>\n<!DOCTYPE svg PUBLIC \"-//W3C//DTD SVG 1.1//EN\"\n \"http://www.w3.org/Graphics/SVG/1.1/DTD/svg11.dtd\">\n<!-- Generated by graphviz version 2.42.3 (20191010.1750)\n -->\n<!-- Title: %3 Pages: 1 -->\n<svg width=\"735pt\" height=\"827pt\"\n viewBox=\"0.00 0.00 735.39 827.00\" xmlns=\"http://www.w3.org/2000/svg\" xmlns:xlink=\"http://www.w3.org/1999/xlink\">\n<g id=\"graph0\" class=\"graph\" transform=\"scale(1 1) rotate(0) translate(4 823)\">\n<title>%3</title>\n<polygon fill=\"white\" stroke=\"transparent\" points=\"-4,4 -4,-823 731.39,-823 731.39,4 -4,4\"/>\n<!-- n3_const_lghier_tuple_io -->\n<g id=\"node1\" class=\"node\">\n<title>n3_const_lghier_tuple_io</title>\n<ellipse fill=\"none\" stroke=\"black\" cx=\"49.4\" cy=\"-801\" rx=\"49.29\" ry=\"18\"/>\n<text text-anchor=\"start\" x=\"19.4\" y=\"-797.3\" font-family=\"Times,serif\" font-size=\"14.00\">n3_const:1</text>\n</g>\n<!-- n4_tup_add_lghier_tuple_io -->\n<g id=\"node2\" class=\"node\">\n<title>n4_tup_add_lghier_tuple_io</title>\n<ellipse fill=\"none\" stroke=\"black\" cx=\"117.4\" cy=\"-714\" rx=\"51.99\" ry=\"18\"/>\n<text text-anchor=\"start\" x=\"85.4\" y=\"-710.3\" font-family=\"Times,serif\" font-size=\"14.00\">n4_tup_add</text>\n</g>\n<!-- n3_const_lghier_tuple_io&#45;&gt;n4_tup_add_lghier_tuple_io -->\n<g id=\"edge1\" class=\"edge\">\n<title>n3_const_lghier_tuple_io&#45;&gt;n4_tup_add_lghier_tuple_io</title>\n<path fill=\"none\" stroke=\"black\" d=\"M62.51,-783.61C72.51,-771.11 86.45,-753.69 97.77,-739.53\"/>\n<polygon fill=\"black\" stroke=\"black\" points=\"100.58,-741.62 104.09,-731.63 95.11,-737.25 100.58,-741.62\"/>\n<text text-anchor=\"start\" x=\"88.4\" y=\"-753.8\" font-family=\"Times,serif\" font-size=\"14.00\">2b:(0,4)</text>\n</g>\n<!-- n9_tup_add_lghier_tuple_io -->\n<g id=\"node3\" class=\"node\">\n<title>n9_tup_add_lghier_tuple_io</title>\n<ellipse fill=\"none\" stroke=\"black\" cx=\"236.4\" cy=\"-627\" rx=\"51.99\" ry=\"18\"/>\n<text text-anchor=\"start\" x=\"204.4\" y=\"-623.3\" font-family=\"Times,serif\" font-size=\"14.00\">n9_tup_add</text>\n</g>\n<!-- n4_tup_add_lghier_tuple_io&#45;&gt;n9_tup_add_lghier_tuple_io -->\n<g id=\"edge2\" class=\"edge\">\n<title>n4_tup_add_lghier_tuple_io&#45;&gt;n9_tup_add_lghier_tuple_io</title>\n<path fill=\"none\" stroke=\"black\" d=\"M126.13,-695.82C132.26,-685.18 141.33,-671.9 152.4,-663 162.89,-654.56 175.71,-647.85 188.15,-642.67\"/>\n<polygon fill=\"black\" stroke=\"black\" points=\"189.5,-645.9 197.54,-639 186.95,-639.38 189.5,-645.9\"/>\n<text text-anchor=\"start\" x=\"152.4\" y=\"-667.8\" font-family=\"Times,serif\" font-size=\"14.00\">0b:(0,0):</text>\n<text text-anchor=\"start\" x=\"200.4\" y=\"-667.8\" font-family=\"Times,serif\" font-size=\"14.00\" fill=\"#0000ff\">foo_0</text>\n</g>\n<!-- n14_tup_add_lghier_tuple_io -->\n<g id=\"node6\" class=\"node\">\n<title>n14_tup_add_lghier_tuple_io</title>\n<ellipse fill=\"none\" stroke=\"black\" cx=\"360.4\" cy=\"-540\" rx=\"56.59\" ry=\"18\"/>\n<text text-anchor=\"start\" x=\"324.9\" y=\"-536.3\" font-family=\"Times,serif\" font-size=\"14.00\">n14_tup_add</text>\n</g>\n<!-- n9_tup_add_lghier_tuple_io&#45;&gt;n14_tup_add_lghier_tuple_io -->\n<g id=\"edge5\" class=\"edge\">\n<title>n9_tup_add_lghier_tuple_io&#45;&gt;n14_tup_add_lghier_tuple_io</title>\n<path fill=\"none\" stroke=\"black\" d=\"M246.56,-609.34C253.78,-598.64 264.32,-585.09 276.4,-576 286.75,-568.2 299.1,-561.81 311.1,-556.72\"/>\n<polygon fill=\"black\" stroke=\"black\" points=\"312.62,-559.88 320.6,-552.91 310.02,-553.38 312.62,-559.88\"/>\n<text text-anchor=\"start\" x=\"276.4\" y=\"-580.8\" font-family=\"Times,serif\" font-size=\"14.00\">0b:(0,0):</text>\n<text text-anchor=\"start\" x=\"324.4\" y=\"-580.8\" font-family=\"Times,serif\" font-size=\"14.00\" fill=\"#0000ff\">foo_1</text>\n</g>\n<!-- n6_const_lghier_tuple_io -->\n<g id=\"node4\" class=\"node\">\n<title>n6_const_lghier_tuple_io</title>\n<ellipse fill=\"none\" stroke=\"black\" cx=\"186.4\" cy=\"-801\" rx=\"69.59\" ry=\"18\"/>\n<text text-anchor=\"start\" x=\"140.9\" y=\"-797.3\" font-family=\"Times,serif\" font-size=\"14.00\">n6_const:&#39;tup1.a&#39;</text>\n</g>\n<!-- n6_const_lghier_tuple_io&#45;&gt;n4_tup_add_lghier_tuple_io -->\n<g id=\"edge3\" class=\"edge\">\n<title>n6_const_lghier_tuple_io&#45;&gt;n4_tup_add_lghier_tuple_io</title>\n<path fill=\"none\" stroke=\"black\" d=\"M172.76,-783.21C162.59,-770.67 148.53,-753.35 137.12,-739.3\"/>\n<polygon fill=\"black\" stroke=\"black\" points=\"139.78,-737.03 130.76,-731.47 134.35,-741.44 139.78,-737.03\"/>\n<text text-anchor=\"start\" x=\"156.4\" y=\"-753.8\" font-family=\"Times,serif\" font-size=\"14.00\">48b:(0,5)</text>\n</g>\n<!-- n8_const_lghier_tuple_io -->\n<g id=\"node5\" class=\"node\">\n<title>n8_const_lghier_tuple_io</title>\n<ellipse fill=\"none\" stroke=\"black\" cx=\"236.4\" cy=\"-714\" rx=\"49.29\" ry=\"18\"/>\n<text text-anchor=\"start\" x=\"206.4\" y=\"-710.3\" font-family=\"Times,serif\" font-size=\"14.00\">n8_const:3</text>\n</g>\n<!-- n8_const_lghier_tuple_io&#45;&gt;n9_tup_add_lghier_tuple_io -->\n<g id=\"edge4\" class=\"edge\">\n<title>n8_const_lghier_tuple_io&#45;&gt;n9_tup_add_lghier_tuple_io</title>\n<path fill=\"none\" stroke=\"black\" d=\"M236.4,-695.8C236.4,-684.16 236.4,-668.55 236.4,-655.24\"/>\n<polygon fill=\"black\" stroke=\"black\" points=\"239.9,-655.18 236.4,-645.18 232.9,-655.18 239.9,-655.18\"/>\n<text text-anchor=\"start\" x=\"236.4\" y=\"-666.8\" font-family=\"Times,serif\" font-size=\"14.00\">3b:(0,4)</text>\n</g>\n<!-- n19_tup_add_lghier_tuple_io -->\n<g id=\"node9\" class=\"node\">\n<title>n19_tup_add_lghier_tuple_io</title>\n<ellipse fill=\"none\" stroke=\"black\" cx=\"488.4\" cy=\"-453\" rx=\"56.59\" ry=\"18\"/>\n<text text-anchor=\"start\" x=\"452.9\" y=\"-449.3\" font-family=\"Times,serif\" font-size=\"14.00\">n19_tup_add</text>\n</g>\n<!-- n14_tup_add_lghier_tuple_io&#45;&gt;n19_tup_add_lghier_tuple_io -->\n<g id=\"edge8\" class=\"edge\">\n<title>n14_tup_add_lghier_tuple_io&#45;&gt;n19_tup_add_lghier_tuple_io</title>\n<path fill=\"none\" stroke=\"black\" d=\"M372.27,-521.91C380.34,-511.3 391.8,-498.03 404.4,-489 415.03,-481.37 427.58,-475.02 439.7,-469.91\"/>\n<polygon fill=\"black\" stroke=\"black\" points=\"441.28,-473.04 449.27,-466.08 438.68,-466.54 441.28,-473.04\"/>\n<text text-anchor=\"start\" x=\"404.4\" y=\"-493.8\" font-family=\"Times,serif\" font-size=\"14.00\">0b:(0,0):</text>\n<text text-anchor=\"start\" x=\"452.4\" y=\"-493.8\" font-family=\"Times,serif\" font-size=\"14.00\" fill=\"#0000ff\">foo_2</text>\n</g>\n<!-- n11_const_lghier_tuple_io -->\n<g id=\"node7\" class=\"node\">\n<title>n11_const_lghier_tuple_io</title>\n<ellipse fill=\"none\" stroke=\"black\" cx=\"378.4\" cy=\"-714\" rx=\"74.99\" ry=\"18\"/>\n<text text-anchor=\"start\" x=\"328.9\" y=\"-710.3\" font-family=\"Times,serif\" font-size=\"14.00\">n11_const:&#39;tup1.b&#39;</text>\n</g>\n<!-- n11_const_lghier_tuple_io&#45;&gt;n9_tup_add_lghier_tuple_io -->\n<g id=\"edge6\" class=\"edge\">\n<title>n11_const_lghier_tuple_io&#45;&gt;n9_tup_add_lghier_tuple_io</title>\n<path fill=\"none\" stroke=\"black\" d=\"M351.69,-697.01C328.65,-683.22 295.25,-663.23 270.32,-648.31\"/>\n<polygon fill=\"black\" stroke=\"black\" points=\"271.93,-645.19 261.55,-643.06 268.34,-651.2 271.93,-645.19\"/>\n<text text-anchor=\"start\" x=\"316.4\" y=\"-666.8\" font-family=\"Times,serif\" font-size=\"14.00\">48b:(0,5)</text>\n</g>\n<!-- n13_const_lghier_tuple_io -->\n<g id=\"node8\" class=\"node\">\n<title>n13_const_lghier_tuple_io</title>\n<ellipse fill=\"none\" stroke=\"black\" cx=\"360.4\" cy=\"-627\" rx=\"53.89\" ry=\"18\"/>\n<text text-anchor=\"start\" x=\"326.9\" y=\"-623.3\" font-family=\"Times,serif\" font-size=\"14.00\">n13_const:5</text>\n</g>\n<!-- n13_const_lghier_tuple_io&#45;&gt;n14_tup_add_lghier_tuple_io -->\n<g id=\"edge7\" class=\"edge\">\n<title>n13_const_lghier_tuple_io&#45;&gt;n14_tup_add_lghier_tuple_io</title>\n<path fill=\"none\" stroke=\"black\" d=\"M360.4,-608.8C360.4,-597.16 360.4,-581.55 360.4,-568.24\"/>\n<polygon fill=\"black\" stroke=\"black\" points=\"363.9,-568.18 360.4,-558.18 356.9,-568.18 363.9,-568.18\"/>\n<text text-anchor=\"start\" x=\"360.4\" y=\"-579.8\" font-family=\"Times,serif\" font-size=\"14.00\">4b:(0,4)</text>\n</g>\n<!-- n23_tup_add_lghier_tuple_io -->\n<g id=\"node12\" class=\"node\">\n<title>n23_tup_add_lghier_tuple_io</title>\n<ellipse fill=\"none\" stroke=\"black\" cx=\"488.4\" cy=\"-366\" rx=\"56.59\" ry=\"18\"/>\n<text text-anchor=\"start\" x=\"452.9\" y=\"-362.3\" font-family=\"Times,serif\" font-size=\"14.00\">n23_tup_add</text>\n</g>\n<!-- n19_tup_add_lghier_tuple_io&#45;&gt;n23_tup_add_lghier_tuple_io -->\n<g id=\"edge11\" class=\"edge\">\n<title>n19_tup_add_lghier_tuple_io&#45;&gt;n23_tup_add_lghier_tuple_io</title>\n<path fill=\"none\" stroke=\"black\" d=\"M488.4,-434.8C488.4,-423.16 488.4,-407.55 488.4,-394.24\"/>\n<polygon fill=\"black\" stroke=\"black\" points=\"491.9,-394.18 488.4,-384.18 484.9,-394.18 491.9,-394.18\"/>\n<text text-anchor=\"start\" x=\"488.4\" y=\"-406.8\" font-family=\"Times,serif\" font-size=\"14.00\">0b:(0,0):</text>\n<text text-anchor=\"start\" x=\"536.4\" y=\"-406.8\" font-family=\"Times,serif\" font-size=\"14.00\" fill=\"#0000ff\">foo_3</text>\n</g>\n<!-- n16_const_lghier_tuple_io -->\n<g id=\"node10\" class=\"node\">\n<title>n16_const_lghier_tuple_io</title>\n<ellipse fill=\"none\" stroke=\"black\" cx=\"506.4\" cy=\"-627\" rx=\"74.19\" ry=\"18\"/>\n<text text-anchor=\"start\" x=\"457.4\" y=\"-623.3\" font-family=\"Times,serif\" font-size=\"14.00\">n16_const:&#39;tup2.c&#39;</text>\n</g>\n<!-- n16_const_lghier_tuple_io&#45;&gt;n14_tup_add_lghier_tuple_io -->\n<g id=\"edge9\" class=\"edge\">\n<title>n16_const_lghier_tuple_io&#45;&gt;n14_tup_add_lghier_tuple_io</title>\n<path fill=\"none\" stroke=\"black\" d=\"M479.28,-610.21C455.52,-596.38 420.87,-576.21 395.1,-561.21\"/>\n<polygon fill=\"black\" stroke=\"black\" points=\"396.79,-558.14 386.39,-556.13 393.27,-564.19 396.79,-558.14\"/>\n<text text-anchor=\"start\" x=\"442.4\" y=\"-579.8\" font-family=\"Times,serif\" font-size=\"14.00\">48b:(0,5)</text>\n</g>\n<!-- n18_const_lghier_tuple_io -->\n<g id=\"node11\" class=\"node\">\n<title>n18_const_lghier_tuple_io</title>\n<ellipse fill=\"none\" stroke=\"black\" cx=\"488.4\" cy=\"-540\" rx=\"53.89\" ry=\"18\"/>\n<text text-anchor=\"start\" x=\"454.9\" y=\"-536.3\" font-family=\"Times,serif\" font-size=\"14.00\">n18_const:7</text>\n</g>\n<!-- n18_const_lghier_tuple_io&#45;&gt;n19_tup_add_lghier_tuple_io -->\n<g id=\"edge10\" class=\"edge\">\n<title>n18_const_lghier_tuple_io&#45;&gt;n19_tup_add_lghier_tuple_io</title>\n<path fill=\"none\" stroke=\"black\" d=\"M488.4,-521.8C488.4,-510.16 488.4,-494.55 488.4,-481.24\"/>\n<polygon fill=\"black\" stroke=\"black\" points=\"491.9,-481.18 488.4,-471.18 484.9,-481.18 491.9,-481.18\"/>\n<text text-anchor=\"start\" x=\"488.4\" y=\"-492.8\" font-family=\"Times,serif\" font-size=\"14.00\">4b:(0,4)</text>\n</g>\n<!-- n25_tup_add_lghier_tuple_io -->\n<g id=\"node14\" class=\"node\">\n<title>n25_tup_add_lghier_tuple_io</title>\n<ellipse fill=\"none\" stroke=\"black\" cx=\"488.4\" cy=\"-279\" rx=\"56.59\" ry=\"18\"/>\n<text text-anchor=\"start\" x=\"452.9\" y=\"-275.3\" font-family=\"Times,serif\" font-size=\"14.00\">n25_tup_add</text>\n</g>\n<!-- n23_tup_add_lghier_tuple_io&#45;&gt;n25_tup_add_lghier_tuple_io -->\n<g id=\"edge13\" class=\"edge\">\n<title>n23_tup_add_lghier_tuple_io&#45;&gt;n25_tup_add_lghier_tuple_io</title>\n<path fill=\"none\" stroke=\"black\" d=\"M488.4,-347.8C488.4,-336.16 488.4,-320.55 488.4,-307.24\"/>\n<polygon fill=\"black\" stroke=\"black\" points=\"491.9,-307.18 488.4,-297.18 484.9,-307.18 491.9,-307.18\"/>\n<text text-anchor=\"start\" x=\"488.4\" y=\"-319.8\" font-family=\"Times,serif\" font-size=\"14.00\">0b:(0,0):</text>\n<text text-anchor=\"start\" x=\"536.4\" y=\"-319.8\" font-family=\"Times,serif\" font-size=\"14.00\" fill=\"#0000ff\">foo1_0</text>\n</g>\n<!-- n21_const_lghier_tuple_io -->\n<g id=\"node13\" class=\"node\">\n<title>n21_const_lghier_tuple_io</title>\n<ellipse fill=\"none\" stroke=\"black\" cx=\"628.4\" cy=\"-540\" rx=\"67.69\" ry=\"18\"/>\n<text text-anchor=\"start\" x=\"584.4\" y=\"-536.3\" font-family=\"Times,serif\" font-size=\"14.00\">n21_const:&#39;tup3&#39;</text>\n</g>\n<!-- n21_const_lghier_tuple_io&#45;&gt;n19_tup_add_lghier_tuple_io -->\n<g id=\"edge12\" class=\"edge\">\n<title>n21_const_lghier_tuple_io&#45;&gt;n19_tup_add_lghier_tuple_io</title>\n<path fill=\"none\" stroke=\"black\" d=\"M602.39,-523.21C579.85,-509.53 547.09,-489.63 522.46,-474.68\"/>\n<polygon fill=\"black\" stroke=\"black\" points=\"524.15,-471.62 513.79,-469.42 520.52,-477.6 524.15,-471.62\"/>\n<text text-anchor=\"start\" x=\"566.4\" y=\"-492.8\" font-family=\"Times,serif\" font-size=\"14.00\">32b:(0,5)</text>\n</g>\n<!-- n33_tup_add_lghier_tuple_io -->\n<g id=\"node15\" class=\"node\">\n<title>n33_tup_add_lghier_tuple_io</title>\n<ellipse fill=\"none\" stroke=\"black\" cx=\"496.4\" cy=\"-192\" rx=\"56.59\" ry=\"18\"/>\n<text text-anchor=\"start\" x=\"460.9\" y=\"-188.3\" font-family=\"Times,serif\" font-size=\"14.00\">n33_tup_add</text>\n</g>\n<!-- n25_tup_add_lghier_tuple_io&#45;&gt;n33_tup_add_lghier_tuple_io -->\n<g id=\"edge14\" class=\"edge\">\n<title>n25_tup_add_lghier_tuple_io&#45;&gt;n33_tup_add_lghier_tuple_io</title>\n<path fill=\"none\" stroke=\"black\" d=\"M487.99,-260.83C487.95,-251.16 488.21,-238.88 489.4,-228 489.68,-225.41 490.06,-222.73 490.49,-220.06\"/>\n<polygon fill=\"black\" stroke=\"black\" points=\"493.97,-220.47 492.37,-210 487.09,-219.18 493.97,-220.47\"/>\n<text text-anchor=\"start\" x=\"489.4\" y=\"-232.8\" font-family=\"Times,serif\" font-size=\"14.00\">0b:(0,4):</text>\n<text text-anchor=\"start\" x=\"537.4\" y=\"-232.8\" font-family=\"Times,serif\" font-size=\"14.00\" fill=\"#0000ff\">_percent_out_0</text>\n</g>\n<!-- n37_tup_add_lghier_tuple_io -->\n<g id=\"node18\" class=\"node\">\n<title>n37_tup_add_lghier_tuple_io</title>\n<ellipse fill=\"none\" stroke=\"black\" cx=\"510.4\" cy=\"-105\" rx=\"56.59\" ry=\"18\"/>\n<text text-anchor=\"start\" x=\"474.9\" y=\"-101.3\" font-family=\"Times,serif\" font-size=\"14.00\">n37_tup_add</text>\n</g>\n<!-- n33_tup_add_lghier_tuple_io&#45;&gt;n37_tup_add_lghier_tuple_io -->\n<g id=\"edge19\" class=\"edge\">\n<title>n33_tup_add_lghier_tuple_io&#45;&gt;n37_tup_add_lghier_tuple_io</title>\n<path fill=\"none\" stroke=\"black\" d=\"M499.23,-173.8C501.15,-162.16 503.72,-146.55 505.91,-133.24\"/>\n<polygon fill=\"black\" stroke=\"black\" points=\"509.39,-133.61 507.57,-123.18 502.49,-132.47 509.39,-133.61\"/>\n<text text-anchor=\"start\" x=\"504.4\" y=\"-145.8\" font-family=\"Times,serif\" font-size=\"14.00\">0b:(0,0):</text>\n<text text-anchor=\"start\" x=\"552.4\" y=\"-145.8\" font-family=\"Times,serif\" font-size=\"14.00\" fill=\"#0000ff\">_percent_</text>\n</g>\n<!-- n26_const_lghier_tuple_io -->\n<g id=\"node16\" class=\"node\">\n<title>n26_const_lghier_tuple_io</title>\n<ellipse fill=\"none\" stroke=\"black\" cx=\"357.4\" cy=\"-279\" rx=\"53.89\" ry=\"18\"/>\n<text text-anchor=\"start\" x=\"323.9\" y=\"-275.3\" font-family=\"Times,serif\" font-size=\"14.00\">n26_const:9</text>\n</g>\n<!-- n27_tup_add_lghier_tuple_io -->\n<g id=\"node17\" class=\"node\">\n<title>n27_tup_add_lghier_tuple_io</title>\n<ellipse fill=\"none\" stroke=\"black\" cx=\"348.4\" cy=\"-192\" rx=\"56.59\" ry=\"18\"/>\n<text text-anchor=\"start\" x=\"312.9\" y=\"-188.3\" font-family=\"Times,serif\" font-size=\"14.00\">n27_tup_add</text>\n</g>\n<!-- n26_const_lghier_tuple_io&#45;&gt;n27_tup_add_lghier_tuple_io -->\n<g id=\"edge15\" class=\"edge\">\n<title>n26_const_lghier_tuple_io&#45;&gt;n27_tup_add_lghier_tuple_io</title>\n<path fill=\"none\" stroke=\"black\" d=\"M355.57,-260.8C354.34,-249.16 352.69,-233.55 351.28,-220.24\"/>\n<polygon fill=\"black\" stroke=\"black\" points=\"354.75,-219.75 350.21,-210.18 347.79,-220.49 354.75,-219.75\"/>\n<text text-anchor=\"start\" x=\"354.4\" y=\"-231.8\" font-family=\"Times,serif\" font-size=\"14.00\">5b:(0,4)</text>\n</g>\n<!-- n27_tup_add_lghier_tuple_io&#45;&gt;n37_tup_add_lghier_tuple_io -->\n<g id=\"edge16\" class=\"edge\">\n<title>n27_tup_add_lghier_tuple_io&#45;&gt;n37_tup_add_lghier_tuple_io</title>\n<path fill=\"none\" stroke=\"black\" d=\"M348.16,-173.98C348.94,-163.13 351.78,-149.56 360.4,-141 372.96,-128.52 412.66,-119.59 448.07,-113.87\"/>\n<polygon fill=\"black\" stroke=\"black\" points=\"449.05,-117.26 458.39,-112.27 447.98,-110.34 449.05,-117.26\"/>\n<text text-anchor=\"start\" x=\"360.4\" y=\"-145.8\" font-family=\"Times,serif\" font-size=\"14.00\">0b:(0,4):</text>\n<text text-anchor=\"start\" x=\"408.4\" y=\"-145.8\" font-family=\"Times,serif\" font-size=\"14.00\" fill=\"#0000ff\">_percent_out2_0</text>\n</g>\n<!-- _percent_ -->\n<g id=\"node23\" class=\"node\">\n<title>_percent_</title>\n<ellipse fill=\"none\" stroke=\"black\" cx=\"510.4\" cy=\"-18\" rx=\"45.49\" ry=\"18\"/>\n<text text-anchor=\"middle\" x=\"510.4\" y=\"-14.3\" font-family=\"Times,serif\" font-size=\"14.00\">_percent_</text>\n</g>\n<!-- n37_tup_add_lghier_tuple_io&#45;&gt;_percent_ -->\n<g id=\"edge21\" class=\"edge\">\n<title>n37_tup_add_lghier_tuple_io&#45;&gt;_percent_</title>\n<path fill=\"none\" stroke=\"black\" d=\"M510.4,-86.8C510.4,-75.16 510.4,-59.55 510.4,-46.24\"/>\n<polygon fill=\"black\" stroke=\"black\" points=\"513.9,-46.18 510.4,-36.18 506.9,-46.18 513.9,-46.18\"/>\n<text text-anchor=\"start\" x=\"510.4\" y=\"-58.8\" font-family=\"Times,serif\" font-size=\"14.00\">0b:(0,0):</text>\n<text text-anchor=\"start\" x=\"558.4\" y=\"-58.8\" font-family=\"Times,serif\" font-size=\"14.00\" fill=\"#0000ff\">_percent_</text>\n</g>\n<!-- n29_const_lghier_tuple_io -->\n<g id=\"node19\" class=\"node\">\n<title>n29_const_lghier_tuple_io</title>\n<ellipse fill=\"none\" stroke=\"black\" cx=\"221.4\" cy=\"-279\" rx=\"64.19\" ry=\"18\"/>\n<text text-anchor=\"start\" x=\"179.9\" y=\"-275.3\" font-family=\"Times,serif\" font-size=\"14.00\">n29_const:&#39;sub&#39;</text>\n</g>\n<!-- n29_const_lghier_tuple_io&#45;&gt;n27_tup_add_lghier_tuple_io -->\n<g id=\"edge17\" class=\"edge\">\n<title>n29_const_lghier_tuple_io&#45;&gt;n27_tup_add_lghier_tuple_io</title>\n<path fill=\"none\" stroke=\"black\" d=\"M244.99,-262.21C265.12,-248.73 294.27,-229.23 316.49,-214.36\"/>\n<polygon fill=\"black\" stroke=\"black\" points=\"318.57,-217.17 324.93,-208.7 314.67,-211.36 318.57,-217.17\"/>\n<text text-anchor=\"start\" x=\"293.4\" y=\"-231.8\" font-family=\"Times,serif\" font-size=\"14.00\">24b:(0,5)</text>\n</g>\n<!-- n31_const_lghier_tuple_io -->\n<g id=\"node20\" class=\"node\">\n<title>n31_const_lghier_tuple_io</title>\n<ellipse fill=\"none\" stroke=\"black\" cx=\"506.4\" cy=\"-801\" rx=\"75.29\" ry=\"18\"/>\n<text text-anchor=\"start\" x=\"456.4\" y=\"-797.3\" font-family=\"Times,serif\" font-size=\"14.00\">n31_const:0b000?</text>\n</g>\n<!-- n32_or_lghier_tuple_io -->\n<g id=\"node21\" class=\"node\">\n<title>n32_or_lghier_tuple_io</title>\n<ellipse fill=\"none\" stroke=\"black\" cx=\"506.4\" cy=\"-714\" rx=\"36\" ry=\"18\"/>\n<text text-anchor=\"start\" x=\"486.9\" y=\"-710.3\" font-family=\"Times,serif\" font-size=\"14.00\">n32_or</text>\n</g>\n<!-- n31_const_lghier_tuple_io&#45;&gt;n32_or_lghier_tuple_io -->\n<g id=\"edge18\" class=\"edge\">\n<title>n31_const_lghier_tuple_io&#45;&gt;n32_or_lghier_tuple_io</title>\n<path fill=\"none\" stroke=\"black\" d=\"M506.4,-782.8C506.4,-771.16 506.4,-755.55 506.4,-742.24\"/>\n<polygon fill=\"black\" stroke=\"black\" points=\"509.9,-742.18 506.4,-732.18 502.9,-742.18 509.9,-742.18\"/>\n<text text-anchor=\"start\" x=\"506.4\" y=\"-753.8\" font-family=\"Times,serif\" font-size=\"14.00\">2b:(0,0)</text>\n</g>\n<!-- n35_const_lghier_tuple_io -->\n<g id=\"node22\" class=\"node\">\n<title>n35_const_lghier_tuple_io</title>\n<ellipse fill=\"none\" stroke=\"black\" cx=\"644.4\" cy=\"-279\" rx=\"73.39\" ry=\"18\"/>\n<text text-anchor=\"start\" x=\"595.9\" y=\"-275.3\" font-family=\"Times,serif\" font-size=\"14.00\">n35_const:&#39;%.out&#39;</text>\n</g>\n<!-- n35_const_lghier_tuple_io&#45;&gt;n33_tup_add_lghier_tuple_io -->\n<g id=\"edge20\" class=\"edge\">\n<title>n35_const_lghier_tuple_io&#45;&gt;n33_tup_add_lghier_tuple_io</title>\n<path fill=\"none\" stroke=\"black\" d=\"M640.85,-260.91C637.75,-250.03 632.15,-236.44 622.4,-228 619.39,-225.4 581.9,-215.15 548.6,-206.41\"/>\n<polygon fill=\"black\" stroke=\"black\" points=\"549.45,-203.02 538.89,-203.88 547.68,-209.79 549.45,-203.02\"/>\n<text text-anchor=\"start\" x=\"632.4\" y=\"-231.8\" font-family=\"Times,serif\" font-size=\"14.00\">40b:(0,5)</text>\n</g>\n<!-- n39_const_lghier_tuple_io -->\n<g id=\"node24\" class=\"node\">\n<title>n39_const_lghier_tuple_io</title>\n<ellipse fill=\"none\" stroke=\"black\" cx=\"649.4\" cy=\"-192\" rx=\"77.99\" ry=\"18\"/>\n<text text-anchor=\"start\" x=\"597.4\" y=\"-188.3\" font-family=\"Times,serif\" font-size=\"14.00\">n39_const:&#39;%.out2&#39;</text>\n</g>\n<!-- n39_const_lghier_tuple_io&#45;&gt;n37_tup_add_lghier_tuple_io -->\n<g id=\"edge22\" class=\"edge\">\n<title>n39_const_lghier_tuple_io&#45;&gt;n37_tup_add_lghier_tuple_io</title>\n<path fill=\"none\" stroke=\"black\" d=\"M639.74,-174.1C632.81,-163.3 622.56,-149.73 610.4,-141 596.97,-131.36 580.65,-124.18 565.12,-118.91\"/>\n<polygon fill=\"black\" stroke=\"black\" points=\"566.18,-115.58 555.59,-115.88 564.05,-122.25 566.18,-115.58\"/>\n<text text-anchor=\"start\" x=\"625.4\" y=\"-144.8\" font-family=\"Times,serif\" font-size=\"14.00\">48b:(0,5)</text>\n</g>\n</g>\n</svg>\n",
      "text/plain": [
       "<graphviz.files.Source at 0x7f45b57b99a0>"
      ]
     },
     "execution_count": 11,
     "metadata": {},
     "output_type": "execute_result"
    }
   ],
   "source": [
    "g3 = graphviz.Source.from_file(\"hier_tuple_io.dot\")\n",
    "g3"
   ]
  },
  {
   "cell_type": "markdown",
   "id": "4d894490",
   "metadata": {},
   "source": [
    "### Saving the graph to image file\n"
   ]
  },
  {
   "cell_type": "code",
   "execution_count": 12,
   "id": "f4fae4ba",
   "metadata": {},
   "outputs": [
    {
     "data": {
      "text/plain": [
       "'hier_tuple_io.png'"
      ]
     },
     "execution_count": 12,
     "metadata": {},
     "output_type": "execute_result"
    }
   ],
   "source": [
    "# set image format\n",
    "g3.format = \"png\"\n",
    "\n",
    "# set the filename\n",
    "filename = \"hier_tuple_io\"\n",
    "\n",
    "# render to file\n",
    "g3.render(filename)\n",
    "\n",
    "# file is now saved to the folder where this ipynb is"
   ]
  },
  {
   "cell_type": "markdown",
   "id": "36d140cf",
   "metadata": {},
   "source": [
    "## Appendix\n",
    "\n",
    "If, however, a Jupyter kernel of another programming language is needed, visualizing a GraphViz is no longer at ease. There are ways of achieving those, however, they usually require tedious compilations.\n",
    "\n",
    "### C++ Support\n",
    "I'm not fluent in large-scale C++ programming and compiling, but below is an example for using GraphViz library. This dot-to-image conversion script is written in C++. [reference](https://stackoverflow.com/questions/45225761/generate-image-of-graphviz-graph-given-dot-text-c)\n",
    "\n",
    "```bash\n",
    "sudo apt-get install graphviz-lib && sudo apt-get install libgraphviz-dev\n",
    "```\n",
    "Then, in a C++ file,\n",
    "```cpp\n",
    "#include <graphviz/gvc.h> // graphviz here is a debian library of GraphViz\n",
    "\n",
    "bool saveImageGV(std::string file_path){\n",
    "    GVC_t *gvc;\n",
    "    Agraph_t *g;\n",
    "    FILE *fp;\n",
    "    gvc = gvContext();\n",
    "    fp = fopen((file_path+\".dot\").c_str(), \"r\");\n",
    "    g = agread(fp, 0);\n",
    "    gvLayout(gvc, g, \"dot\");\n",
    "    gvRender(gvc, g, \"png\", fopen((file_path+\".png\").c_str(), \"w\"));\n",
    "    gvFreeLayout(gvc, g);\n",
    "    agclose(g);\n",
    "    return (gvFreeContext(gvc));\n",
    "}\n",
    "```\n",
    "\n",
    "And here is the [link](http://www.graphviz.org/pdf/libguide.pdf) to the official guide of using GraphViz in C as a library.\n"
   ]
  },
  {
   "cell_type": "markdown",
   "id": "9fd22196",
   "metadata": {},
   "source": [
    "### Future Work\n",
    "1. Enabling a live web-based terminal with LiveHD, or\n",
    "2. Bring back colorful LiveHD text to Jupyter\n",
    "3. Port Jupyter server into LiveHD kernel with the help from LiveHD dev team\n",
    "\n",
    "### Appreciation\n",
    "Thanks to communities such as StackOverflow for assisting me at many GraphViz conundrums. \n",
    "\n",
    "Special thanks to this quarter's Professor Renau and TA for accepting me, a young man with focus purely at software levels and zero background in computer architecture.\n",
    "\n",
    "At this moment, I have delivered Jupyter + LiveHD."
   ]
  }
 ],
 "metadata": {
  "kernelspec": {
   "display_name": "Python 3",
   "language": "python",
   "name": "python3"
  },
  "language_info": {
   "codemirror_mode": {
    "name": "ipython",
    "version": 3
   },
   "file_extension": ".py",
   "mimetype": "text/x-python",
   "name": "python",
   "nbconvert_exporter": "python",
   "pygments_lexer": "ipython3",
   "version": "3.8.12"
  }
 },
 "nbformat": 4,
 "nbformat_minor": 5
}
